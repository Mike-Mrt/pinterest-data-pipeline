{
 "cells": [
  {
   "cell_type": "markdown",
   "metadata": {
    "application/vnd.databricks.v1+cell": {
     "cellMetadata": {
      "byteLimit": 2048000,
      "rowLimit": 10000
     },
     "inputWidgets": {},
     "nuid": "f2cae8fc-2fda-41c7-9ab9-4925412ac976",
     "showTitle": false,
     "title": ""
    }
   },
   "source": [
    "# Mount S3 bucket to Databricks\n",
    "\n",
    "The S3 bucket containing the data for the Pinterest posts, users and geolocation will first have to be mounted to Databricks.\n",
    "\n",
    "Once mounted, the data within each topic will then be read into Spark dataframes so that we can clean and query this data."
   ]
  },
  {
   "cell_type": "code",
   "execution_count": 0,
   "metadata": {
    "application/vnd.databricks.v1+cell": {
     "cellMetadata": {
      "byteLimit": 2048000,
      "rowLimit": 10000
     },
     "inputWidgets": {},
     "nuid": "0fb03e11-468f-4f8c-bb83-aeb4c3753481",
     "showTitle": false,
     "title": ""
    }
   },
   "outputs": [
    {
     "output_type": "display_data",
     "data": {
      "text/html": [
       "<style scoped>\n",
       "  .ansiout {\n",
       "    display: block;\n",
       "    unicode-bidi: embed;\n",
       "    white-space: pre-wrap;\n",
       "    word-wrap: break-word;\n",
       "    word-break: break-all;\n",
       "    font-family: \"Menlo\", \"Monaco\", \"Consolas\", \"Ubuntu Mono\", \"Source Code Pro\", monospace;\n",
       "    font-size: 13px;\n",
       "    color: #555;\n",
       "    margin-left: 4px;\n",
       "    line-height: 19px;\n",
       "  }\n",
       "</style>\n",
       "<div class=\"ansiout\">Out[1]: [FileInfo(path=&#39;dbfs:/FileStore/tables/authentication_credentials.csv&#39;, name=&#39;authentication_credentials.csv&#39;, size=202, modificationTime=1687110999000),\n",
       " FileInfo(path=&#39;dbfs:/FileStore/tables/geo_dirty.csv/&#39;, name=&#39;geo_dirty.csv/&#39;, size=0, modificationTime=1700922523943),\n",
       " FileInfo(path=&#39;dbfs:/FileStore/tables/pin_dirty.csv/&#39;, name=&#39;pin_dirty.csv/&#39;, size=0, modificationTime=1700922523943),\n",
       " FileInfo(path=&#39;dbfs:/FileStore/tables/user_dirty.csv/&#39;, name=&#39;user_dirty.csv/&#39;, size=0, modificationTime=1700922523943)]</div>"
      ]
     },
     "metadata": {
      "application/vnd.databricks.v1+output": {
       "addedWidgets": {},
       "arguments": {},
       "data": "<div class=\"ansiout\">Out[1]: [FileInfo(path=&#39;dbfs:/FileStore/tables/authentication_credentials.csv&#39;, name=&#39;authentication_credentials.csv&#39;, size=202, modificationTime=1687110999000),\n FileInfo(path=&#39;dbfs:/FileStore/tables/geo_dirty.csv/&#39;, name=&#39;geo_dirty.csv/&#39;, size=0, modificationTime=1700922523943),\n FileInfo(path=&#39;dbfs:/FileStore/tables/pin_dirty.csv/&#39;, name=&#39;pin_dirty.csv/&#39;, size=0, modificationTime=1700922523943),\n FileInfo(path=&#39;dbfs:/FileStore/tables/user_dirty.csv/&#39;, name=&#39;user_dirty.csv/&#39;, size=0, modificationTime=1700922523943)]</div>",
       "datasetInfos": [],
       "metadata": {},
       "removedWidgets": [],
       "type": "html"
      }
     },
     "output_type": "display_data"
    }
   ],
   "source": [
    "dbutils.fs.ls(\"/FileStore/tables\")"
   ]
  },
  {
   "cell_type": "code",
   "execution_count": 0,
   "metadata": {
    "application/vnd.databricks.v1+cell": {
     "cellMetadata": {
      "byteLimit": 2048000,
      "rowLimit": 10000
     },
     "inputWidgets": {},
     "nuid": "69da9add-73f8-4ad3-9d42-ce711c8afb61",
     "showTitle": false,
     "title": ""
    }
   },
   "outputs": [
    {
     "output_type": "display_data",
     "data": {
      "text/html": [
       "<style scoped>\n",
       "  .ansiout {\n",
       "    display: block;\n",
       "    unicode-bidi: embed;\n",
       "    white-space: pre-wrap;\n",
       "    word-wrap: break-word;\n",
       "    word-break: break-all;\n",
       "    font-family: \"Menlo\", \"Monaco\", \"Consolas\", \"Ubuntu Mono\", \"Source Code Pro\", monospace;\n",
       "    font-size: 13px;\n",
       "    color: #555;\n",
       "    margin-left: 4px;\n",
       "    line-height: 19px;\n",
       "  }\n",
       "</style>\n",
       "<div class=\"ansiout\"></div>"
      ]
     },
     "metadata": {
      "application/vnd.databricks.v1+output": {
       "addedWidgets": {},
       "arguments": {},
       "data": "<div class=\"ansiout\"></div>",
       "datasetInfos": [],
       "metadata": {},
       "removedWidgets": [],
       "type": "html"
      }
     },
     "output_type": "display_data"
    }
   ],
   "source": [
    "# The following libraries are required:\n",
    "# pyspark functions\n",
    "from pyspark.sql.functions import *\n",
    "# URL processing\n",
    "import urllib"
   ]
  },
  {
   "cell_type": "code",
   "execution_count": 0,
   "metadata": {
    "application/vnd.databricks.v1+cell": {
     "cellMetadata": {
      "byteLimit": 2048000,
      "rowLimit": 10000
     },
     "inputWidgets": {},
     "nuid": "84efe130-b5d9-4e2d-93df-15f09e922b60",
     "showTitle": false,
     "title": ""
    }
   },
   "outputs": [
    {
     "output_type": "display_data",
     "data": {
      "text/html": [
       "<style scoped>\n",
       "  .ansiout {\n",
       "    display: block;\n",
       "    unicode-bidi: embed;\n",
       "    white-space: pre-wrap;\n",
       "    word-wrap: break-word;\n",
       "    word-break: break-all;\n",
       "    font-family: \"Menlo\", \"Monaco\", \"Consolas\", \"Ubuntu Mono\", \"Source Code Pro\", monospace;\n",
       "    font-size: 13px;\n",
       "    color: #555;\n",
       "    margin-left: 4px;\n",
       "    line-height: 19px;\n",
       "  }\n",
       "</style>\n",
       "<div class=\"ansiout\"></div>"
      ]
     },
     "metadata": {
      "application/vnd.databricks.v1+output": {
       "addedWidgets": {},
       "arguments": {},
       "data": "<div class=\"ansiout\"></div>",
       "datasetInfos": [],
       "metadata": {},
       "removedWidgets": [],
       "type": "html"
      }
     },
     "output_type": "display_data"
    }
   ],
   "source": [
    "# To read the authentication_credentials.csv files:\n",
    "# Specifying the file type to be csv:\n",
    "file_type = \"csv\"\n",
    "# Indicating the file's first row is the header:\n",
    "first_row_is_header = 'true'\n",
    "# Indicating the delimiter is a comma:\n",
    "delimiter = \",\"\n",
    "# Reading the csv file to a Spark dataframe:\n",
    "aws_keys_df = spark.read.format(file_type)\\\n",
    "    .option(\"header\", first_row_is_header)\\\n",
    "    .option(\"sep\", delimiter)\\\n",
    "    .load(\"/FileStore/tables/authentication_credentials.csv\")"
   ]
  },
  {
   "cell_type": "code",
   "execution_count": 0,
   "metadata": {
    "application/vnd.databricks.v1+cell": {
     "cellMetadata": {
      "byteLimit": 2048000,
      "rowLimit": 10000
     },
     "inputWidgets": {},
     "nuid": "bcf517be-be05-4602-b932-7abe17928280",
     "showTitle": false,
     "title": ""
    }
   },
   "outputs": [
    {
     "output_type": "display_data",
     "data": {
      "text/html": [
       "<style scoped>\n",
       "  .ansiout {\n",
       "    display: block;\n",
       "    unicode-bidi: embed;\n",
       "    white-space: pre-wrap;\n",
       "    word-wrap: break-word;\n",
       "    word-break: break-all;\n",
       "    font-family: \"Menlo\", \"Monaco\", \"Consolas\", \"Ubuntu Mono\", \"Source Code Pro\", monospace;\n",
       "    font-size: 13px;\n",
       "    color: #555;\n",
       "    margin-left: 4px;\n",
       "    line-height: 19px;\n",
       "  }\n",
       "</style>\n",
       "<div class=\"ansiout\"></div>"
      ]
     },
     "metadata": {
      "application/vnd.databricks.v1+output": {
       "addedWidgets": {},
       "arguments": {},
       "data": "<div class=\"ansiout\"></div>",
       "datasetInfos": [],
       "metadata": {},
       "removedWidgets": [],
       "type": "html"
      }
     },
     "output_type": "display_data"
    }
   ],
   "source": [
    "# Extracting the AWS access key and secret access key from the Spark dataframe created above:\n",
    "ACCESS_KEY = aws_keys_df.where(col(\"User name\")=='databricks-user').select('Access key ID').collect()[0]['Access key ID']\n",
    "SECRET_KEY = aws_keys_df.where(col('User name')=='databricks-user').select('Secret access key').collect()[0]['Secret access key']\n",
    "# Encoding the secret key for security purposes:\n",
    "ENCODED_SECRET_KEY = urllib.parse.quote(string=SECRET_KEY, safe=\"\")"
   ]
  },
  {
   "cell_type": "code",
   "execution_count": 0,
   "metadata": {
    "application/vnd.databricks.v1+cell": {
     "cellMetadata": {
      "byteLimit": 2048000,
      "rowLimit": 10000
     },
     "inputWidgets": {},
     "nuid": "de4fcb47-9f49-4806-bcf1-cc980f527122",
     "showTitle": false,
     "title": ""
    }
   },
   "outputs": [
    {
     "output_type": "display_data",
     "data": {
      "text/html": [
       "<style scoped>\n",
       "  .ansiout {\n",
       "    display: block;\n",
       "    unicode-bidi: embed;\n",
       "    white-space: pre-wrap;\n",
       "    word-wrap: break-word;\n",
       "    word-break: break-all;\n",
       "    font-family: \"Menlo\", \"Monaco\", \"Consolas\", \"Ubuntu Mono\", \"Source Code Pro\", monospace;\n",
       "    font-size: 13px;\n",
       "    color: #555;\n",
       "    margin-left: 4px;\n",
       "    line-height: 19px;\n",
       "  }\n",
       "</style>\n",
       "<div class=\"ansiout\">Out[5]: True</div>"
      ]
     },
     "metadata": {
      "application/vnd.databricks.v1+output": {
       "addedWidgets": {},
       "arguments": {},
       "data": "<div class=\"ansiout\">Out[5]: True</div>",
       "datasetInfos": [],
       "metadata": {},
       "removedWidgets": [],
       "type": "html"
      }
     },
     "output_type": "display_data"
    }
   ],
   "source": [
    "# Mounting the AWS S3 to Databricks:\n",
    "# AWS S3 bucket name\n",
    "AWS_S3_BUCKET = \"user-0e1f6d6285c1-bucket\"\n",
    "# Mount name for the bucket\n",
    "MOUNT_NAME = \"/mnt/pinterest_project1\"\n",
    "# Source url\n",
    "SOURCE_URL = \"s3n://{0}:{1}@{2}\".format(ACCESS_KEY, ENCODED_SECRET_KEY, AWS_S3_BUCKET)\n",
    "# Mounting the drive\n",
    "dbutils.fs.mount(SOURCE_URL, MOUNT_NAME)"
   ]
  },
  {
   "cell_type": "code",
   "execution_count": 0,
   "metadata": {
    "application/vnd.databricks.v1+cell": {
     "cellMetadata": {
      "byteLimit": 2048000,
      "rowLimit": 10000
     },
     "inputWidgets": {},
     "nuid": "7fcee29a-7bde-4e41-8c96-831a88cc9d32",
     "showTitle": false,
     "title": ""
    }
   },
   "outputs": [
    {
     "output_type": "display_data",
     "data": {
      "text/html": [
       "<style scoped>\n",
       "  .table-result-container {\n",
       "    max-height: 300px;\n",
       "    overflow: auto;\n",
       "  }\n",
       "  table, th, td {\n",
       "    border: 1px solid black;\n",
       "    border-collapse: collapse;\n",
       "  }\n",
       "  th, td {\n",
       "    padding: 5px;\n",
       "  }\n",
       "  th {\n",
       "    text-align: left;\n",
       "  }\n",
       "</style><div class='table-result-container'><table class='table-result'><thead style='background-color: white'><tr><th>path</th><th>name</th><th>size</th><th>modificationTime</th></tr></thead><tbody><tr><td>dbfs:/mnt/pinterest_project1/kafka-connect-s3/</td><td>kafka-connect-s3/</td><td>0</td><td>1700922615214</td></tr><tr><td>dbfs:/mnt/pinterest_project1/topics/</td><td>topics/</td><td>0</td><td>1700922615214</td></tr></tbody></table></div>"
      ]
     },
     "metadata": {
      "application/vnd.databricks.v1+output": {
       "addedWidgets": {},
       "aggData": [],
       "aggError": "",
       "aggOverflow": false,
       "aggSchema": [],
       "aggSeriesLimitReached": false,
       "aggType": "",
       "arguments": {},
       "columnCustomDisplayInfos": {},
       "data": [
        [
         "dbfs:/mnt/pinterest_project1/kafka-connect-s3/",
         "kafka-connect-s3/",
         0,
         1700922615214
        ],
        [
         "dbfs:/mnt/pinterest_project1/topics/",
         "topics/",
         0,
         1700922615214
        ]
       ],
       "datasetInfos": [],
       "dbfsResultPath": null,
       "isJsonSchema": true,
       "metadata": {},
       "overflow": false,
       "plotOptions": {
        "customPlotOptions": {},
        "displayType": "table",
        "pivotAggregation": null,
        "pivotColumns": null,
        "xColumns": null,
        "yColumns": null
       },
       "removedWidgets": [],
       "schema": [
        {
         "metadata": "{}",
         "name": "path",
         "type": "\"string\""
        },
        {
         "metadata": "{}",
         "name": "name",
         "type": "\"string\""
        },
        {
         "metadata": "{}",
         "name": "size",
         "type": "\"long\""
        },
        {
         "metadata": "{}",
         "name": "modificationTime",
         "type": "\"long\""
        }
       ],
       "type": "table"
      }
     },
     "output_type": "display_data"
    }
   ],
   "source": [
    "# Checking if the S3 bucket was mounted succesfully:\n",
    "display(dbutils.fs.ls(\"/mnt/pinterest_project1/\"))"
   ]
  },
  {
   "cell_type": "code",
   "execution_count": 0,
   "metadata": {
    "application/vnd.databricks.v1+cell": {
     "cellMetadata": {
      "byteLimit": 2048000,
      "rowLimit": 10000
     },
     "inputWidgets": {},
     "nuid": "b31134df-9d40-44ae-ae78-dedb930b5245",
     "showTitle": false,
     "title": ""
    }
   },
   "outputs": [
    {
     "output_type": "display_data",
     "data": {
      "text/html": [
       "<style scoped>\n",
       "  .ansiout {\n",
       "    display: block;\n",
       "    unicode-bidi: embed;\n",
       "    white-space: pre-wrap;\n",
       "    word-wrap: break-word;\n",
       "    word-break: break-all;\n",
       "    font-family: \"Menlo\", \"Monaco\", \"Consolas\", \"Ubuntu Mono\", \"Source Code Pro\", monospace;\n",
       "    font-size: 13px;\n",
       "    color: #555;\n",
       "    margin-left: 4px;\n",
       "    line-height: 19px;\n",
       "  }\n",
       "</style>\n",
       "<div class=\"ansiout\"></div>"
      ]
     },
     "metadata": {
      "application/vnd.databricks.v1+output": {
       "addedWidgets": {},
       "arguments": {},
       "data": "<div class=\"ansiout\"></div>",
       "datasetInfos": [],
       "metadata": {},
       "removedWidgets": [],
       "type": "html"
      }
     },
     "output_type": "display_data"
    }
   ],
   "source": [
    "# The data in the S3 bucket is in JSON format, need to read this into Databricks for each of the Kafka topics\n",
    "# To do this we will create a function which takes in a path as the input and outputs the first 10 rows of the Spark DataFrame:\n",
    "def read_json_to_df(file_location):\n",
    "    # Specifying the file to have .json extension:\n",
    "    file_type = \"json\"\n",
    "    # Asking Spark to infer schema:\n",
    "    infer_schema = \"true\"\n",
    "\n",
    "    # Reading in JSONs from mounted S3 bucket:\n",
    "    df = spark.read.format(file_type) \\\n",
    "        .option(\"inferschema\", infer_schema) \\\n",
    "        .load(file_location)\n",
    "    \n",
    "    # Return the Spark DataFrame:\n",
    "    return df"
   ]
  },
  {
   "cell_type": "code",
   "execution_count": 0,
   "metadata": {
    "application/vnd.databricks.v1+cell": {
     "cellMetadata": {
      "byteLimit": 2048000,
      "rowLimit": 10000
     },
     "inputWidgets": {},
     "nuid": "02392341-3181-4191-87d9-f90c622df1a6",
     "showTitle": false,
     "title": ""
    }
   },
   "outputs": [
    {
     "output_type": "display_data",
     "data": {
      "text/html": [
       "<style scoped>\n",
       "  .table-result-container {\n",
       "    max-height: 300px;\n",
       "    overflow: auto;\n",
       "  }\n",
       "  table, th, td {\n",
       "    border: 1px solid black;\n",
       "    border-collapse: collapse;\n",
       "  }\n",
       "  th, td {\n",
       "    padding: 5px;\n",
       "  }\n",
       "  th {\n",
       "    text-align: left;\n",
       "  }\n",
       "</style><div class='table-result-container'><table class='table-result'><thead style='background-color: white'><tr><th>category</th><th>description</th><th>downloaded</th><th>follower_count</th><th>image_src</th><th>index</th><th>is_image_or_video</th><th>poster_name</th><th>save_location</th><th>tag_list</th><th>title</th><th>unique_id</th></tr></thead><tbody><tr><td>event-planning</td><td>Το όνομα που επέλεξε η μαμά Ανδριανή για τη γλυκιά Τιτίκα δεν είναι καθόλου τυχαίο. Και φυσικά δεν άφησε τίποτα στην τύχη ούτε την ημέρα της βάπτισης. Ανέθεσε την οργάνωση στην… </td><td>1</td><td>4</td><td>https://i.pinimg.com/originals/db/aa/d2/dbaad28fa85012a4ea6958540d98a8e5.jpg</td><td>4387</td><td>image</td><td>Manosbojana Katsareas</td><td>Local save in /data/event-planning</td><td>Diy Flowers,Flower Diy,Baptism Decorations,Christening,Event Planning,Wedding Planner,Baptism Ideas,Birthday,Party</td><td>Βάπτιση: H παραμυθένια βάπτιση της Τιτίκας με θέμα το μονόκερο από την e.m. for you</td><td>ae5e7377-f1bd-4ac5-94de-bee317f51a43</td></tr><tr><td>home-decor</td><td>Традиционные шведские коттеджи, обычно с красным фасадом — это настоящее воплощением идеального зимнего уюта. Они обычно оформлены очень просто и ✌PUFIK. Beautiful Interiors. On… </td><td>1</td><td>136k</td><td>https://i.pinimg.com/originals/32/eb/72/32eb72e4fd8654c115a64528bd1f34b4.png</td><td>6717</td><td>image</td><td>PUFIK Interiors & Inspirations</td><td>Local save in /data/home-decor</td><td>Scandinavian Cottage,Swedish Cottage,Swedish Home Decor,Swedish Farmhouse,Swedish Style,Swedish Kitchen,Kitchen Black,Swedish House,Cozy Cottage</td><td>〚 Уютные шведские коттеджи от Carina Olander 〛 ◾ Фото ◾ Идеи ◾ Дизайн</td><td>bc5ab9ee-505e-44f6-92ba-677fe4fdf3e3</td></tr><tr><td>home-decor</td><td>Традиционные шведские коттеджи, обычно с красным фасадом — это настоящее воплощением идеального зимнего уюта. Они обычно оформлены очень просто и ✌PUFIK. Beautiful Interiors. On… </td><td>1</td><td>136k</td><td>https://i.pinimg.com/originals/32/eb/72/32eb72e4fd8654c115a64528bd1f34b4.png</td><td>6717</td><td>image</td><td>PUFIK Interiors & Inspirations</td><td>Local save in /data/home-decor</td><td>Scandinavian Cottage,Swedish Cottage,Swedish Home Decor,Swedish Farmhouse,Swedish Style,Swedish Kitchen,Kitchen Black,Swedish House,Cozy Cottage</td><td>〚 Уютные шведские коттеджи от Carina Olander 〛 ◾ Фото ◾ Идеи ◾ Дизайн</td><td>bc5ab9ee-505e-44f6-92ba-677fe4fdf3e3</td></tr><tr><td>home-decor</td><td>Традиционные шведские коттеджи, обычно с красным фасадом — это настоящее воплощением идеального зимнего уюта. Они обычно оформлены очень просто и ✌PUFIK. Beautiful Interiors. On… </td><td>1</td><td>136k</td><td>https://i.pinimg.com/originals/32/eb/72/32eb72e4fd8654c115a64528bd1f34b4.png</td><td>6717</td><td>image</td><td>PUFIK Interiors & Inspirations</td><td>Local save in /data/home-decor</td><td>Scandinavian Cottage,Swedish Cottage,Swedish Home Decor,Swedish Farmhouse,Swedish Style,Swedish Kitchen,Kitchen Black,Swedish House,Cozy Cottage</td><td>〚 Уютные шведские коттеджи от Carina Olander 〛 ◾ Фото ◾ Идеи ◾ Дизайн</td><td>bc5ab9ee-505e-44f6-92ba-677fe4fdf3e3</td></tr><tr><td>event-planning</td><td>15.1k Likes, 83 Comments - THE EVENT COLLECTIVE ✖️ (@theeventcollectivex) on Instagram: “I’ve always loved emerald green 🌲 by @a.purnellproduction Beautiful balloons by…”</td><td>1</td><td>311</td><td>https://i.pinimg.com/originals/91/0b/5c/910b5c120f7d1570ffc840302d7b49f4.jpg</td><td>4858</td><td>image</td><td>Marie Bradford</td><td>Local save in /data/event-planning</td><td>Diy Birthday Decorations,Balloon Decorations,Table Decorations,Emerald Green Decor,40th Birthday Parties,24th Birthday,Surprise Birthday,Brunch Decor,Quinceanera Themes</td><td>THE EVENT COLLECTIVE ✖️ on Instagram: “I’ve always loved emerald green 🌲 by @a.purnellproduction Beautiful balloons by @basicallycuteevents  @inspiredengravings for the acrylic…”</td><td>58101415-9273-4311-a5bd-0015a56579b4</td></tr><tr><td>home-decor</td><td>6,636 Likes, 141 Comments - The Cottage Journal (@thecottagejournal) on Instagram: “Can you say color?! 😍😍😍 We are loving the cheery vibes that these aqua blue cabinets are g… </td><td>1</td><td>394</td><td>https://i.pinimg.com/originals/8c/17/a2/8c17a257b70780480bb89c3699363144.jpg</td><td>6633</td><td>image</td><td>Sarah Martin</td><td>Local save in /data/home-decor</td><td>Diy Kitchen Cabinets,Kitchen Redo,Home Decor Kitchen,New Kitchen,Home Kitchens,Kitchen Remodeling,Aqua Kitchen,Kitchen Counters,Kitchen Islands</td><td>The Cottage Journal on Instagram: “Can you say color?! 😍😍😍 We are loving the cheery vibes that these aqua blue cabinets are giving. If you could paint your cabinets any…”</td><td>d136f6bc-840d-44f8-bbad-115eb7e6c51e</td></tr><tr><td>home-decor</td><td>6,636 Likes, 141 Comments - The Cottage Journal (@thecottagejournal) on Instagram: “Can you say color?! 😍😍😍 We are loving the cheery vibes that these aqua blue cabinets are g… </td><td>1</td><td>394</td><td>https://i.pinimg.com/originals/8c/17/a2/8c17a257b70780480bb89c3699363144.jpg</td><td>6633</td><td>image</td><td>Sarah Martin</td><td>Local save in /data/home-decor</td><td>Diy Kitchen Cabinets,Kitchen Redo,Home Decor Kitchen,New Kitchen,Home Kitchens,Kitchen Remodeling,Aqua Kitchen,Kitchen Counters,Kitchen Islands</td><td>The Cottage Journal on Instagram: “Can you say color?! 😍😍😍 We are loving the cheery vibes that these aqua blue cabinets are giving. If you could paint your cabinets any…”</td><td>d136f6bc-840d-44f8-bbad-115eb7e6c51e</td></tr><tr><td>christmas</td><td>Features: Material:Lint Size:48ｘ18cm Quantity:1 pc Shape:Santa Claus, snowman. Elk Occasion:Christmas Description: 1. Fashion design, high quality 2. Santa Claus, snowman. Elk C… </td><td>1</td><td>5k</td><td>https://i.pinimg.com/originals/b5/7f/21/b57f219fa89c1165b57525b8eae711da.jpg</td><td>1706</td><td>image</td><td>Wear24-7</td><td>Local save in /data/christmas</td><td>Merry Christmas To You,Christmas Toys,Great Christmas Gifts,Christmas Snowman,Christmas Ornaments,Holiday,Christmas Party Decorations,Christmas Themes,Decoration Party</td><td>Standing Figurine Toys Xmas Santa Claus Snowman Reindeer Figure Plush Dolls Christmas Decorations Ornaments Home Indoor Table Ornaments Christmas Party Tree Hanging Decor Toys Gifts for Kids Friends…</td><td>b5c8a1b5-9e90-4522-9bec-2477b698d5b7</td></tr><tr><td>christmas</td><td>Features: Material:Lint Size:48ｘ18cm Quantity:1 pc Shape:Santa Claus, snowman. Elk Occasion:Christmas Description: 1. Fashion design, high quality 2. Santa Claus, snowman. Elk C… </td><td>1</td><td>5k</td><td>https://i.pinimg.com/originals/b5/7f/21/b57f219fa89c1165b57525b8eae711da.jpg</td><td>1706</td><td>image</td><td>Wear24-7</td><td>Local save in /data/christmas</td><td>Merry Christmas To You,Christmas Toys,Great Christmas Gifts,Christmas Snowman,Christmas Ornaments,Holiday,Christmas Party Decorations,Christmas Themes,Decoration Party</td><td>Standing Figurine Toys Xmas Santa Claus Snowman Reindeer Figure Plush Dolls Christmas Decorations Ornaments Home Indoor Table Ornaments Christmas Party Tree Hanging Decor Toys Gifts for Kids Friends…</td><td>b5c8a1b5-9e90-4522-9bec-2477b698d5b7</td></tr><tr><td>christmas</td><td>Features: Material:Lint Size:48ｘ18cm Quantity:1 pc Shape:Santa Claus, snowman. Elk Occasion:Christmas Description: 1. Fashion design, high quality 2. Santa Claus, snowman. Elk C… </td><td>1</td><td>5k</td><td>https://i.pinimg.com/originals/b5/7f/21/b57f219fa89c1165b57525b8eae711da.jpg</td><td>1706</td><td>image</td><td>Wear24-7</td><td>Local save in /data/christmas</td><td>Merry Christmas To You,Christmas Toys,Great Christmas Gifts,Christmas Snowman,Christmas Ornaments,Holiday,Christmas Party Decorations,Christmas Themes,Decoration Party</td><td>Standing Figurine Toys Xmas Santa Claus Snowman Reindeer Figure Plush Dolls Christmas Decorations Ornaments Home Indoor Table Ornaments Christmas Party Tree Hanging Decor Toys Gifts for Kids Friends…</td><td>b5c8a1b5-9e90-4522-9bec-2477b698d5b7</td></tr></tbody></table></div>"
      ]
     },
     "metadata": {
      "application/vnd.databricks.v1+output": {
       "addedWidgets": {},
       "aggData": [],
       "aggError": "",
       "aggOverflow": false,
       "aggSchema": [],
       "aggSeriesLimitReached": false,
       "aggType": "",
       "arguments": {},
       "columnCustomDisplayInfos": {},
       "data": [
        [
         "event-planning",
         "Το όνομα που επέλεξε η μαμά Ανδριανή για τη γλυκιά Τιτίκα δεν είναι καθόλου τυχαίο. Και φυσικά δεν άφησε τίποτα στην τύχη ούτε την ημέρα της βάπτισης. Ανέθεσε την οργάνωση στην… ",
         1,
         "4",
         "https://i.pinimg.com/originals/db/aa/d2/dbaad28fa85012a4ea6958540d98a8e5.jpg",
         4387,
         "image",
         "Manosbojana Katsareas",
         "Local save in /data/event-planning",
         "Diy Flowers,Flower Diy,Baptism Decorations,Christening,Event Planning,Wedding Planner,Baptism Ideas,Birthday,Party",
         "Βάπτιση: H παραμυθένια βάπτιση της Τιτίκας με θέμα το μονόκερο από την e.m. for you",
         "ae5e7377-f1bd-4ac5-94de-bee317f51a43"
        ],
        [
         "home-decor",
         "Традиционные шведские коттеджи, обычно с красным фасадом — это настоящее воплощением идеального зимнего уюта. Они обычно оформлены очень просто и ✌PUFIK. Beautiful Interiors. On… ",
         1,
         "136k",
         "https://i.pinimg.com/originals/32/eb/72/32eb72e4fd8654c115a64528bd1f34b4.png",
         6717,
         "image",
         "PUFIK Interiors & Inspirations",
         "Local save in /data/home-decor",
         "Scandinavian Cottage,Swedish Cottage,Swedish Home Decor,Swedish Farmhouse,Swedish Style,Swedish Kitchen,Kitchen Black,Swedish House,Cozy Cottage",
         "〚 Уютные шведские коттеджи от Carina Olander 〛 ◾ Фото ◾ Идеи ◾ Дизайн",
         "bc5ab9ee-505e-44f6-92ba-677fe4fdf3e3"
        ],
        [
         "home-decor",
         "Традиционные шведские коттеджи, обычно с красным фасадом — это настоящее воплощением идеального зимнего уюта. Они обычно оформлены очень просто и ✌PUFIK. Beautiful Interiors. On… ",
         1,
         "136k",
         "https://i.pinimg.com/originals/32/eb/72/32eb72e4fd8654c115a64528bd1f34b4.png",
         6717,
         "image",
         "PUFIK Interiors & Inspirations",
         "Local save in /data/home-decor",
         "Scandinavian Cottage,Swedish Cottage,Swedish Home Decor,Swedish Farmhouse,Swedish Style,Swedish Kitchen,Kitchen Black,Swedish House,Cozy Cottage",
         "〚 Уютные шведские коттеджи от Carina Olander 〛 ◾ Фото ◾ Идеи ◾ Дизайн",
         "bc5ab9ee-505e-44f6-92ba-677fe4fdf3e3"
        ],
        [
         "home-decor",
         "Традиционные шведские коттеджи, обычно с красным фасадом — это настоящее воплощением идеального зимнего уюта. Они обычно оформлены очень просто и ✌PUFIK. Beautiful Interiors. On… ",
         1,
         "136k",
         "https://i.pinimg.com/originals/32/eb/72/32eb72e4fd8654c115a64528bd1f34b4.png",
         6717,
         "image",
         "PUFIK Interiors & Inspirations",
         "Local save in /data/home-decor",
         "Scandinavian Cottage,Swedish Cottage,Swedish Home Decor,Swedish Farmhouse,Swedish Style,Swedish Kitchen,Kitchen Black,Swedish House,Cozy Cottage",
         "〚 Уютные шведские коттеджи от Carina Olander 〛 ◾ Фото ◾ Идеи ◾ Дизайн",
         "bc5ab9ee-505e-44f6-92ba-677fe4fdf3e3"
        ],
        [
         "event-planning",
         "15.1k Likes, 83 Comments - THE EVENT COLLECTIVE ✖️ (@theeventcollectivex) on Instagram: “I’ve always loved emerald green 🌲 by @a.purnellproduction Beautiful balloons by…”",
         1,
         "311",
         "https://i.pinimg.com/originals/91/0b/5c/910b5c120f7d1570ffc840302d7b49f4.jpg",
         4858,
         "image",
         "Marie Bradford",
         "Local save in /data/event-planning",
         "Diy Birthday Decorations,Balloon Decorations,Table Decorations,Emerald Green Decor,40th Birthday Parties,24th Birthday,Surprise Birthday,Brunch Decor,Quinceanera Themes",
         "THE EVENT COLLECTIVE ✖️ on Instagram: “I’ve always loved emerald green 🌲 by @a.purnellproduction Beautiful balloons by @basicallycuteevents  @inspiredengravings for the acrylic…”",
         "58101415-9273-4311-a5bd-0015a56579b4"
        ],
        [
         "home-decor",
         "6,636 Likes, 141 Comments - The Cottage Journal (@thecottagejournal) on Instagram: “Can you say color?! 😍😍😍 We are loving the cheery vibes that these aqua blue cabinets are g… ",
         1,
         "394",
         "https://i.pinimg.com/originals/8c/17/a2/8c17a257b70780480bb89c3699363144.jpg",
         6633,
         "image",
         "Sarah Martin",
         "Local save in /data/home-decor",
         "Diy Kitchen Cabinets,Kitchen Redo,Home Decor Kitchen,New Kitchen,Home Kitchens,Kitchen Remodeling,Aqua Kitchen,Kitchen Counters,Kitchen Islands",
         "The Cottage Journal on Instagram: “Can you say color?! 😍😍😍 We are loving the cheery vibes that these aqua blue cabinets are giving. If you could paint your cabinets any…”",
         "d136f6bc-840d-44f8-bbad-115eb7e6c51e"
        ],
        [
         "home-decor",
         "6,636 Likes, 141 Comments - The Cottage Journal (@thecottagejournal) on Instagram: “Can you say color?! 😍😍😍 We are loving the cheery vibes that these aqua blue cabinets are g… ",
         1,
         "394",
         "https://i.pinimg.com/originals/8c/17/a2/8c17a257b70780480bb89c3699363144.jpg",
         6633,
         "image",
         "Sarah Martin",
         "Local save in /data/home-decor",
         "Diy Kitchen Cabinets,Kitchen Redo,Home Decor Kitchen,New Kitchen,Home Kitchens,Kitchen Remodeling,Aqua Kitchen,Kitchen Counters,Kitchen Islands",
         "The Cottage Journal on Instagram: “Can you say color?! 😍😍😍 We are loving the cheery vibes that these aqua blue cabinets are giving. If you could paint your cabinets any…”",
         "d136f6bc-840d-44f8-bbad-115eb7e6c51e"
        ],
        [
         "christmas",
         "Features: Material:Lint Size:48ｘ18cm Quantity:1 pc Shape:Santa Claus, snowman. Elk Occasion:Christmas Description: 1. Fashion design, high quality 2. Santa Claus, snowman. Elk C… ",
         1,
         "5k",
         "https://i.pinimg.com/originals/b5/7f/21/b57f219fa89c1165b57525b8eae711da.jpg",
         1706,
         "image",
         "Wear24-7",
         "Local save in /data/christmas",
         "Merry Christmas To You,Christmas Toys,Great Christmas Gifts,Christmas Snowman,Christmas Ornaments,Holiday,Christmas Party Decorations,Christmas Themes,Decoration Party",
         "Standing Figurine Toys Xmas Santa Claus Snowman Reindeer Figure Plush Dolls Christmas Decorations Ornaments Home Indoor Table Ornaments Christmas Party Tree Hanging Decor Toys Gifts for Kids Friends…",
         "b5c8a1b5-9e90-4522-9bec-2477b698d5b7"
        ],
        [
         "christmas",
         "Features: Material:Lint Size:48ｘ18cm Quantity:1 pc Shape:Santa Claus, snowman. Elk Occasion:Christmas Description: 1. Fashion design, high quality 2. Santa Claus, snowman. Elk C… ",
         1,
         "5k",
         "https://i.pinimg.com/originals/b5/7f/21/b57f219fa89c1165b57525b8eae711da.jpg",
         1706,
         "image",
         "Wear24-7",
         "Local save in /data/christmas",
         "Merry Christmas To You,Christmas Toys,Great Christmas Gifts,Christmas Snowman,Christmas Ornaments,Holiday,Christmas Party Decorations,Christmas Themes,Decoration Party",
         "Standing Figurine Toys Xmas Santa Claus Snowman Reindeer Figure Plush Dolls Christmas Decorations Ornaments Home Indoor Table Ornaments Christmas Party Tree Hanging Decor Toys Gifts for Kids Friends…",
         "b5c8a1b5-9e90-4522-9bec-2477b698d5b7"
        ],
        [
         "christmas",
         "Features: Material:Lint Size:48ｘ18cm Quantity:1 pc Shape:Santa Claus, snowman. Elk Occasion:Christmas Description: 1. Fashion design, high quality 2. Santa Claus, snowman. Elk C… ",
         1,
         "5k",
         "https://i.pinimg.com/originals/b5/7f/21/b57f219fa89c1165b57525b8eae711da.jpg",
         1706,
         "image",
         "Wear24-7",
         "Local save in /data/christmas",
         "Merry Christmas To You,Christmas Toys,Great Christmas Gifts,Christmas Snowman,Christmas Ornaments,Holiday,Christmas Party Decorations,Christmas Themes,Decoration Party",
         "Standing Figurine Toys Xmas Santa Claus Snowman Reindeer Figure Plush Dolls Christmas Decorations Ornaments Home Indoor Table Ornaments Christmas Party Tree Hanging Decor Toys Gifts for Kids Friends…",
         "b5c8a1b5-9e90-4522-9bec-2477b698d5b7"
        ]
       ],
       "datasetInfos": [],
       "dbfsResultPath": null,
       "isJsonSchema": true,
       "metadata": {},
       "overflow": false,
       "plotOptions": {
        "customPlotOptions": {},
        "displayType": "table",
        "pivotAggregation": null,
        "pivotColumns": null,
        "xColumns": null,
        "yColumns": null
       },
       "removedWidgets": [],
       "schema": [
        {
         "metadata": "{}",
         "name": "category",
         "type": "\"string\""
        },
        {
         "metadata": "{}",
         "name": "description",
         "type": "\"string\""
        },
        {
         "metadata": "{}",
         "name": "downloaded",
         "type": "\"long\""
        },
        {
         "metadata": "{}",
         "name": "follower_count",
         "type": "\"string\""
        },
        {
         "metadata": "{}",
         "name": "image_src",
         "type": "\"string\""
        },
        {
         "metadata": "{}",
         "name": "index",
         "type": "\"long\""
        },
        {
         "metadata": "{}",
         "name": "is_image_or_video",
         "type": "\"string\""
        },
        {
         "metadata": "{}",
         "name": "poster_name",
         "type": "\"string\""
        },
        {
         "metadata": "{}",
         "name": "save_location",
         "type": "\"string\""
        },
        {
         "metadata": "{}",
         "name": "tag_list",
         "type": "\"string\""
        },
        {
         "metadata": "{}",
         "name": "title",
         "type": "\"string\""
        },
        {
         "metadata": "{}",
         "name": "unique_id",
         "type": "\"string\""
        }
       ],
       "type": "table"
      }
     },
     "output_type": "display_data"
    }
   ],
   "source": [
    "# The data in the S3 bucket is in JSON format, now to read this into Databricks for pinterest posts data:\n",
    "# Defining a file location variable for pinterest posts data:\n",
    "file_location_pin = \"/mnt/pinterest_project1/topics/0e1f6d6285c1.pin/partition=0/*.json\" # Asterisk(*) indicates reading all the content of the \n",
    "\n",
    "# Reading the Pinterest posts data and saving it to the below variable:\n",
    "df_pin_0e1f6d6285c1 = read_json_to_df(file_location_pin)\n",
    "\n",
    "# Displaying the first 10 rows of the pin dataframe:\n",
    "display(df_pin_0e1f6d6285c1.limit(10))"
   ]
  },
  {
   "cell_type": "code",
   "execution_count": 0,
   "metadata": {
    "application/vnd.databricks.v1+cell": {
     "cellMetadata": {
      "byteLimit": 2048000,
      "rowLimit": 10000
     },
     "inputWidgets": {},
     "nuid": "19a73d96-6dd8-49be-8596-3f2165935a23",
     "showTitle": false,
     "title": ""
    }
   },
   "outputs": [
    {
     "output_type": "display_data",
     "data": {
      "text/html": [
       "<style scoped>\n",
       "  .table-result-container {\n",
       "    max-height: 300px;\n",
       "    overflow: auto;\n",
       "  }\n",
       "  table, th, td {\n",
       "    border: 1px solid black;\n",
       "    border-collapse: collapse;\n",
       "  }\n",
       "  th, td {\n",
       "    padding: 5px;\n",
       "  }\n",
       "  th {\n",
       "    text-align: left;\n",
       "  }\n",
       "</style><div class='table-result-container'><table class='table-result'><thead style='background-color: white'><tr><th>country</th><th>ind</th><th>latitude</th><th>longitude</th><th>timestamp</th></tr></thead><tbody><tr><td>British Indian Ocean Territory (Chagos Archipelago)</td><td>9455</td><td>-82.9272</td><td>-150.346</td><td>2022-03-15T01:46:32</td></tr><tr><td>British Indian Ocean Territory (Chagos Archipelago)</td><td>6814</td><td>-86.5675</td><td>-149.565</td><td>2022-09-02T11:34:28</td></tr><tr><td>British Indian Ocean Territory (Chagos Archipelago)</td><td>9455</td><td>-82.9272</td><td>-150.346</td><td>2022-03-15T01:46:32</td></tr><tr><td>British Indian Ocean Territory (Chagos Archipelago)</td><td>6814</td><td>-86.5675</td><td>-149.565</td><td>2022-09-02T11:34:28</td></tr><tr><td>British Indian Ocean Territory (Chagos Archipelago)</td><td>5111</td><td>-83.7472</td><td>8.65953</td><td>2021-04-01T00:56:57</td></tr><tr><td>British Indian Ocean Territory (Chagos Archipelago)</td><td>5111</td><td>-83.7472</td><td>8.65953</td><td>2021-04-01T00:56:57</td></tr><tr><td>British Indian Ocean Territory (Chagos Archipelago)</td><td>2989</td><td>-87.013</td><td>133.062</td><td>2020-01-09T19:18:54</td></tr><tr><td>Antarctica (the territory South of 60 deg S)</td><td>10073</td><td>-32.8885</td><td>-170.295</td><td>2021-06-29T19:56:04</td></tr><tr><td>Antarctica (the territory South of 60 deg S)</td><td>10073</td><td>-32.8885</td><td>-170.295</td><td>2021-06-29T19:56:04</td></tr><tr><td>Antarctica (the territory South of 60 deg S)</td><td>10073</td><td>-32.8885</td><td>-170.295</td><td>2021-06-29T19:56:04</td></tr></tbody></table></div>"
      ]
     },
     "metadata": {
      "application/vnd.databricks.v1+output": {
       "addedWidgets": {},
       "aggData": [],
       "aggError": "",
       "aggOverflow": false,
       "aggSchema": [],
       "aggSeriesLimitReached": false,
       "aggType": "",
       "arguments": {},
       "columnCustomDisplayInfos": {},
       "data": [
        [
         "British Indian Ocean Territory (Chagos Archipelago)",
         9455,
         -82.9272,
         -150.346,
         "2022-03-15T01:46:32"
        ],
        [
         "British Indian Ocean Territory (Chagos Archipelago)",
         6814,
         -86.5675,
         -149.565,
         "2022-09-02T11:34:28"
        ],
        [
         "British Indian Ocean Territory (Chagos Archipelago)",
         9455,
         -82.9272,
         -150.346,
         "2022-03-15T01:46:32"
        ],
        [
         "British Indian Ocean Territory (Chagos Archipelago)",
         6814,
         -86.5675,
         -149.565,
         "2022-09-02T11:34:28"
        ],
        [
         "British Indian Ocean Territory (Chagos Archipelago)",
         5111,
         -83.7472,
         8.65953,
         "2021-04-01T00:56:57"
        ],
        [
         "British Indian Ocean Territory (Chagos Archipelago)",
         5111,
         -83.7472,
         8.65953,
         "2021-04-01T00:56:57"
        ],
        [
         "British Indian Ocean Territory (Chagos Archipelago)",
         2989,
         -87.013,
         133.062,
         "2020-01-09T19:18:54"
        ],
        [
         "Antarctica (the territory South of 60 deg S)",
         10073,
         -32.8885,
         -170.295,
         "2021-06-29T19:56:04"
        ],
        [
         "Antarctica (the territory South of 60 deg S)",
         10073,
         -32.8885,
         -170.295,
         "2021-06-29T19:56:04"
        ],
        [
         "Antarctica (the territory South of 60 deg S)",
         10073,
         -32.8885,
         -170.295,
         "2021-06-29T19:56:04"
        ]
       ],
       "datasetInfos": [],
       "dbfsResultPath": null,
       "isJsonSchema": true,
       "metadata": {},
       "overflow": false,
       "plotOptions": {
        "customPlotOptions": {},
        "displayType": "table",
        "pivotAggregation": null,
        "pivotColumns": null,
        "xColumns": null,
        "yColumns": null
       },
       "removedWidgets": [],
       "schema": [
        {
         "metadata": "{}",
         "name": "country",
         "type": "\"string\""
        },
        {
         "metadata": "{}",
         "name": "ind",
         "type": "\"long\""
        },
        {
         "metadata": "{}",
         "name": "latitude",
         "type": "\"double\""
        },
        {
         "metadata": "{}",
         "name": "longitude",
         "type": "\"double\""
        },
        {
         "metadata": "{}",
         "name": "timestamp",
         "type": "\"string\""
        }
       ],
       "type": "table"
      }
     },
     "output_type": "display_data"
    }
   ],
   "source": [
    "# The data in the S3 bucket is in JSON format, now to read this into Databricks for pinterest posts data:\n",
    "# Defining a file location variable for pinterest posts data:\n",
    "file_location_geo = \"/mnt/pinterest_project1/topics/0e1f6d6285c1.geo/partition=0/*.json\" # Asterisk(*) indicates reading all the content of the specified file that have the .json extension\n",
    "\n",
    "# Reading the Pinterest posts data and saving it to the below variable:\n",
    "df_geo_0e1f6d6285c1 = read_json_to_df(file_location_geo)\n",
    "\n",
    "# Displaying the first 10 rows of the pin dataframe:\n",
    "display(df_geo_0e1f6d6285c1.limit(10))"
   ]
  },
  {
   "cell_type": "code",
   "execution_count": 0,
   "metadata": {
    "application/vnd.databricks.v1+cell": {
     "cellMetadata": {
      "byteLimit": 2048000,
      "rowLimit": 10000
     },
     "inputWidgets": {},
     "nuid": "bb193e12-365c-4fb7-99fd-c06ca1f42e2c",
     "showTitle": false,
     "title": ""
    }
   },
   "outputs": [
    {
     "output_type": "display_data",
     "data": {
      "text/html": [
       "<style scoped>\n",
       "  .table-result-container {\n",
       "    max-height: 300px;\n",
       "    overflow: auto;\n",
       "  }\n",
       "  table, th, td {\n",
       "    border: 1px solid black;\n",
       "    border-collapse: collapse;\n",
       "  }\n",
       "  th, td {\n",
       "    padding: 5px;\n",
       "  }\n",
       "  th {\n",
       "    text-align: left;\n",
       "  }\n",
       "</style><div class='table-result-container'><table class='table-result'><thead style='background-color: white'><tr><th>age</th><th>date_joined</th><th>first_name</th><th>ind</th><th>last_name</th></tr></thead><tbody><tr><td>42</td><td>2017-02-18T00:31:22</td><td>Christopher</td><td>6353</td><td>Hernandez</td></tr><tr><td>27</td><td>2016-03-08T13:38:37</td><td>Christopher</td><td>2015</td><td>Bradshaw</td></tr><tr><td>59</td><td>2017-05-12T21:22:17</td><td>Alexander</td><td>10673</td><td>Cervantes</td></tr><tr><td>48</td><td>2016-02-27T16:57:44</td><td>Christopher</td><td>1857</td><td>Hamilton</td></tr><tr><td>45</td><td>2016-09-15T06:02:53</td><td>Christopher</td><td>10020</td><td>Hawkins</td></tr><tr><td>35</td><td>2015-10-22T22:42:23</td><td>Christopher</td><td>2041</td><td>Campbell</td></tr><tr><td>48</td><td>2016-06-13T17:09:14</td><td>Christopher</td><td>7031</td><td>Anderson</td></tr><tr><td>27</td><td>2016-03-08T13:38:37</td><td>Christopher</td><td>2015</td><td>Bradshaw</td></tr><tr><td>59</td><td>2017-05-12T21:22:17</td><td>Alexander</td><td>10673</td><td>Cervantes</td></tr><tr><td>48</td><td>2016-02-27T16:57:44</td><td>Christopher</td><td>1857</td><td>Hamilton</td></tr></tbody></table></div>"
      ]
     },
     "metadata": {
      "application/vnd.databricks.v1+output": {
       "addedWidgets": {},
       "aggData": [],
       "aggError": "",
       "aggOverflow": false,
       "aggSchema": [],
       "aggSeriesLimitReached": false,
       "aggType": "",
       "arguments": {},
       "columnCustomDisplayInfos": {},
       "data": [
        [
         42,
         "2017-02-18T00:31:22",
         "Christopher",
         6353,
         "Hernandez"
        ],
        [
         27,
         "2016-03-08T13:38:37",
         "Christopher",
         2015,
         "Bradshaw"
        ],
        [
         59,
         "2017-05-12T21:22:17",
         "Alexander",
         10673,
         "Cervantes"
        ],
        [
         48,
         "2016-02-27T16:57:44",
         "Christopher",
         1857,
         "Hamilton"
        ],
        [
         45,
         "2016-09-15T06:02:53",
         "Christopher",
         10020,
         "Hawkins"
        ],
        [
         35,
         "2015-10-22T22:42:23",
         "Christopher",
         2041,
         "Campbell"
        ],
        [
         48,
         "2016-06-13T17:09:14",
         "Christopher",
         7031,
         "Anderson"
        ],
        [
         27,
         "2016-03-08T13:38:37",
         "Christopher",
         2015,
         "Bradshaw"
        ],
        [
         59,
         "2017-05-12T21:22:17",
         "Alexander",
         10673,
         "Cervantes"
        ],
        [
         48,
         "2016-02-27T16:57:44",
         "Christopher",
         1857,
         "Hamilton"
        ]
       ],
       "datasetInfos": [],
       "dbfsResultPath": null,
       "isJsonSchema": true,
       "metadata": {},
       "overflow": false,
       "plotOptions": {
        "customPlotOptions": {},
        "displayType": "table",
        "pivotAggregation": null,
        "pivotColumns": null,
        "xColumns": null,
        "yColumns": null
       },
       "removedWidgets": [],
       "schema": [
        {
         "metadata": "{}",
         "name": "age",
         "type": "\"long\""
        },
        {
         "metadata": "{}",
         "name": "date_joined",
         "type": "\"string\""
        },
        {
         "metadata": "{}",
         "name": "first_name",
         "type": "\"string\""
        },
        {
         "metadata": "{}",
         "name": "ind",
         "type": "\"long\""
        },
        {
         "metadata": "{}",
         "name": "last_name",
         "type": "\"string\""
        }
       ],
       "type": "table"
      }
     },
     "output_type": "display_data"
    }
   ],
   "source": [
    "# The data in the S3 bucket is in JSON format, now to read this into Databricks for pinterest posts data:\n",
    "# Defining a file location variable for pinterest posts data:\n",
    "file_location_user = \"/mnt/pinterest_project1/topics/0e1f6d6285c1.user/partition=0/*.json\" # Asterisk(*) indicates reading all the content of the specified file that have the .json extension\n",
    "\n",
    "# Reading the Pinterest posts data and saving it to the below variable:\n",
    "df_user_0e1f6d6285c1 = read_json_to_df(file_location_user)\n",
    "\n",
    "# Displaying the first 10 rows of the pin dataframe:\n",
    "display(df_user_0e1f6d6285c1.limit(10))"
   ]
  },
  {
   "cell_type": "code",
   "execution_count": 0,
   "metadata": {
    "application/vnd.databricks.v1+cell": {
     "cellMetadata": {
      "byteLimit": 2048000,
      "rowLimit": 10000
     },
     "inputWidgets": {},
     "nuid": "09075a05-ba4c-4b38-abf1-91ecdca45ef9",
     "showTitle": false,
     "title": ""
    }
   },
   "outputs": [
    {
     "output_type": "display_data",
     "data": {
      "text/html": [
       "<style scoped>\n",
       "  .ansiout {\n",
       "    display: block;\n",
       "    unicode-bidi: embed;\n",
       "    white-space: pre-wrap;\n",
       "    word-wrap: break-word;\n",
       "    word-break: break-all;\n",
       "    font-family: \"Menlo\", \"Monaco\", \"Consolas\", \"Ubuntu Mono\", \"Source Code Pro\", monospace;\n",
       "    font-size: 13px;\n",
       "    color: #555;\n",
       "    margin-left: 4px;\n",
       "    line-height: 19px;\n",
       "  }\n",
       "</style>\n",
       "<div class=\"ansiout\">Out[18]: [FileInfo(path=&#39;dbfs:/mnt/pinterest_project1/topics/0e1f6d6285c1.geo/&#39;, name=&#39;0e1f6d6285c1.geo/&#39;, size=0, modificationTime=1700924164592),\n",
       " FileInfo(path=&#39;dbfs:/mnt/pinterest_project1/topics/0e1f6d6285c1.pin/&#39;, name=&#39;0e1f6d6285c1.pin/&#39;, size=0, modificationTime=1700924164592),\n",
       " FileInfo(path=&#39;dbfs:/mnt/pinterest_project1/topics/0e1f6d6285c1.user/&#39;, name=&#39;0e1f6d6285c1.user/&#39;, size=0, modificationTime=1700924164592)]</div>"
      ]
     },
     "metadata": {
      "application/vnd.databricks.v1+output": {
       "addedWidgets": {},
       "arguments": {},
       "data": "<div class=\"ansiout\">Out[18]: [FileInfo(path=&#39;dbfs:/mnt/pinterest_project1/topics/0e1f6d6285c1.geo/&#39;, name=&#39;0e1f6d6285c1.geo/&#39;, size=0, modificationTime=1700924164592),\n FileInfo(path=&#39;dbfs:/mnt/pinterest_project1/topics/0e1f6d6285c1.pin/&#39;, name=&#39;0e1f6d6285c1.pin/&#39;, size=0, modificationTime=1700924164592),\n FileInfo(path=&#39;dbfs:/mnt/pinterest_project1/topics/0e1f6d6285c1.user/&#39;, name=&#39;0e1f6d6285c1.user/&#39;, size=0, modificationTime=1700924164592)]</div>",
       "datasetInfos": [],
       "metadata": {},
       "removedWidgets": [],
       "type": "html"
      }
     },
     "output_type": "display_data"
    }
   ],
   "source": [
    " # Checking to see if data from the S3 has been read correctly:\n",
    " dbutils.fs.ls(\"/mnt/pinterest_project1/topics/\")"
   ]
  },
  {
   "cell_type": "markdown",
   "metadata": {
    "application/vnd.databricks.v1+cell": {
     "cellMetadata": {},
     "inputWidgets": {},
     "nuid": "121b85c5-acaa-4c55-b605-ac7c02e09e0e",
     "showTitle": false,
     "title": ""
    }
   },
   "source": [
    "# Batch data processing: Spark on Databricks\n",
    "\n",
    "The S3 bucket has been succesfully mounted to Databricks and the JSON data within the 3 topics has been successfully read into 3 Spark dataframes.\n",
    "\n",
    "We will now clean the data within each of these dataframes using Spark. Spark is a unified engine for large-scale distributed data processing on computer clusters. It will offer:\n",
    "- Distributed Processing\n",
    "- Scalability\n",
    "- In-Memory Processing\n",
    "- Fault Tolerance\n",
    "- and many more benefits."
   ]
  },
  {
   "cell_type": "markdown",
   "metadata": {
    "application/vnd.databricks.v1+cell": {
     "cellMetadata": {},
     "inputWidgets": {},
     "nuid": "82180de5-3867-4db6-9aa7-6d3ab651e649",
     "showTitle": false,
     "title": ""
    }
   },
   "source": [
    "## Importing the Transformations notebook so that the cleaning/ transformation methods are available"
   ]
  },
  {
   "cell_type": "code",
   "execution_count": 0,
   "metadata": {
    "application/vnd.databricks.v1+cell": {
     "cellMetadata": {
      "byteLimit": 2048000,
      "rowLimit": 10000
     },
     "inputWidgets": {},
     "nuid": "ed67aac3-afa6-4e09-88a2-4ce08aaa96d2",
     "showTitle": false,
     "title": ""
    }
   },
   "outputs": [],
   "source": [
    "%run \n",
    "/Users/m.maruthan@hotmail.co.uk/Transformations"
   ]
  },
  {
   "cell_type": "markdown",
   "metadata": {
    "application/vnd.databricks.v1+cell": {
     "cellMetadata": {},
     "inputWidgets": {},
     "nuid": "d524385b-f696-4e29-86d8-6f7be7c1fbd3",
     "showTitle": false,
     "title": ""
    }
   },
   "source": [
    "## Cleaning the Pinterest posts data"
   ]
  },
  {
   "cell_type": "code",
   "execution_count": 0,
   "metadata": {
    "application/vnd.databricks.v1+cell": {
     "cellMetadata": {
      "byteLimit": 2048000,
      "rowLimit": 10000
     },
     "inputWidgets": {},
     "nuid": "94faec41-21b9-487b-a42d-8a28634a0afa",
     "showTitle": false,
     "title": ""
    }
   },
   "outputs": [
    {
     "output_type": "display_data",
     "data": {
      "text/html": [
       "<style scoped>\n",
       "  .table-result-container {\n",
       "    max-height: 300px;\n",
       "    overflow: auto;\n",
       "  }\n",
       "  table, th, td {\n",
       "    border: 1px solid black;\n",
       "    border-collapse: collapse;\n",
       "  }\n",
       "  th, td {\n",
       "    padding: 5px;\n",
       "  }\n",
       "  th {\n",
       "    text-align: left;\n",
       "  }\n",
       "</style><div class='table-result-container'><table class='table-result'><thead style='background-color: white'><tr><th>ind</th><th>unique_id</th><th>title</th><th>description</th><th>follower_count</th><th>poster_name</th><th>tag_list</th><th>is_image_or_video</th><th>image_src</th><th>save_location</th><th>category</th></tr></thead><tbody><tr><td>4</td><td>55abcd28-bda1-4453-bbcd-1427fb3aa49b</td><td>Mexican Artist Uses Unique Technique To Make His Drawings Glow, And The Result Is Mesmerizing</td><td>Mexican artist Enrique Bernal has found a magical way to illuminate his beautiful pencil drawings with life. Check his unique glowing art in this article!</td><td>2000000</td><td>Bored Panda</td><td>Girl Drawing Sketches,Art Drawings Sketches Simple,Pencil Art Drawings,Realistic Drawings,Cool Drawings,Drawing Ideas,Panda Drawing,Disney Drawings,Pencil Drawing Inspiration</td><td>image</td><td>https://i.pinimg.com/originals/0c/37/fa/0c37fab39da6ded220c3f9ccac8d117c.jpg</td><td>/data/art</td><td>art</td></tr><tr><td>25</td><td>f19b91c7-2a58-41ae-a013-3806d248baec</td><td>How to use an Angled Paint Brush! Painting Techniques with The Social Easel Online Paint Studio</td><td>If I could only choose one paint brush it would be the angled brush! I am going to break down four separate Techniques I like to use an Angled Paint Brush with a video painting… </td><td>20000</td><td>The Social Easel Online Paint Studio | Video Painting Tutorials</td><td>Fall Canvas Painting,Basic Painting,Acrylic Painting Flowers,Canvas Painting Tutorials,Autumn Painting,Painting Techniques,Diy Painting,Painting & Drawing,Canvas Art</td><td>image</td><td>https://i.pinimg.com/originals/cc/8e/81/cc8e8190f773d5e3bb7d86890b566da7.png</td><td>/data/art</td><td>art</td></tr><tr><td>27</td><td>1bc67f67-70f6-4c5b-ae03-d8201f4bb9b7</td><td>Bulgarian Artist Makes Incredible Illustrations That Glow From Within</td><td>It doesn't matter if you use a pencil, a crayon or the tip of your nose to create art, it is no small feat to produce something that'll knock everyone's socks off. Some artists… </td><td>2000000</td><td>Bored Panda</td><td>Outline Drawings,Pencil Art Drawings,Cool Art Drawings,Horse Drawings,Graphite Drawings,Drawings Of Angels,Hair Drawings,Girl Drawing Sketches,Drawing Artist</td><td>image</td><td>https://i.pinimg.com/originals/0d/e2/ba/0de2ba7b5eaa155211bb2f219fdedf3a.jpg</td><td>/data/art</td><td>art</td></tr><tr><td>33</td><td>58b0546a-bf3f-494a-89f3-c53d0f537f6e</td><td>The Astronomer</td><td>The Astronomer Fine Art Print by Charlie Bowater. Authentic giclee print artwork on paper or canvas. Wall Art purchases directly support the artist.</td><td>17000</td><td>Eyes On Walls</td><td>Art And Illustration,Art Illustrations,The Old Astronomer,Arte Inspo,Look Wallpaper,Fairy Art,Anime Art Girl,Artwork Prints,3d Artwork</td><td>image</td><td>https://i.pinimg.com/originals/4e/a7/65/4ea7657855b643c0566103805b54e8f7.jpg</td><td>/data/art</td><td>art</td></tr><tr><td>46</td><td>19234073-8905-4885-b0d5-98e0b84cbf27</td><td>10 Watercolor Hacks For Beginners | Tips and Tricks to Making Watercolor Painting Easier</td><td>Mountain monologue watercolor</td><td>27000</td><td>It's me, JD | DIY, Crafts, Home & Organization</td><td>Arte Inspo,Kunst Inspo,Watercolor Artists,Watercolor Ideas,Simple Watercolor,Tattoo Watercolor,Watercolor Techniques,Watercolor Animals,Watercolor Illustration</td><td>image</td><td>https://i.pinimg.com/originals/fd/54/89/fd548935dcb13545120a2115baaa41d9.jpg</td><td>/data/art</td><td>art</td></tr><tr><td>63</td><td>9bcb7142-50e1-4dc5-bc2a-466368d47aa1</td><td>Japanese Artist Depicts The Typical Life Of His Pet Hamster, And The Result Is Adorable</td><td>Japanese artist and art university graduate Gotte have turned their creative skills towards a very creative subject. Their light-hearted watercolor pictures depict a typical day… </td><td>2000000</td><td>Bored Panda</td><td>Art And Illustration,Cute Animal Drawings,Cute Drawings,Drawing Animals,Pretty Art,Cute Art,Art Inspo,Bel Art,Art Du Croquis</td><td>image</td><td>https://i.pinimg.com/originals/47/3b/ca/473bca41a36b536983a17e8f28598d7a.png</td><td>/data/art</td><td>art</td></tr><tr><td>74</td><td>f0a3a02d-5cc3-4cb6-8668-7f94a5f5d323</td><td>3rd Grade Fall Forrests</td><td>3rd Grade Fall Forests Third grade has been working on these cute little creations for the past couple of art classes now, and have been doing a great job! Materials: Tru-Ray co… </td><td>13000</td><td>Elements of the Art Room</td><td>Fall Art Projects,School Art Projects,Halloween Art Projects,Art Education Lessons,Art Lessons Elementary,Fall Crafts For Kids,Art For Kids,Kid Art,Art 2nd Grade</td><td>image</td><td>https://i.pinimg.com/originals/9c/e6/61/9ce661ab5c3bad61e30266496481a591.jpg</td><td>/data/art</td><td>art</td></tr><tr><td>82</td><td>f62e3bd2-cf77-44c8-ae64-81273f901592</td><td>🍂watercolor autumn leaves 🍂</td><td>null</td><td>150000</td><td>Zezè</td><td>Watercolor Art Lessons,Watercolor Painting Techniques,Painting Tips,Easy Watercolor Paintings,Watercolor Tips,Watercolor Tutorials,Painting Tutorials,Watercolor Flowers,Watercolors</td><td>multi-video(story page format)</td><td>https://i.pinimg.com/videos/thumbnails/originals/c1/3f/d4/c13fd4de97106b98970b81402a4ca9f3.0000001.jpg</td><td>/data/art</td><td>art</td></tr><tr><td>91</td><td>ca91fe99-d9a9-4d59-9d0d-87e32d1c692f</td><td>Shower Curtain Art Tutorial | NEVER SKIP BRUNCH by Cara Newhart</td><td>Top interior design blogger, Never Skip Brunch, shares her step by step tutorial to make your own Shower Curtain Art for cheap. Click here now for more!!</td><td>26000</td><td>CARA NEWHART [never skip brunch]</td><td>Art Diy,Diy Wall Art,Large Wall Art,Wall Art Decor,Wall Of Art,Art For Walls,Large Art Prints,Artwork Wall,Cool Wall Art</td><td>image</td><td>https://i.pinimg.com/originals/3c/b7/94/3cb7947e405a91e17e14b9e3a5466b2d.jpg</td><td>/data/art</td><td>art</td></tr><tr><td>93</td><td>ea8f328e-fba8-417c-867d-4151a012fc40</td><td>Easy Giraffe Art for Kids</td><td>Colourful, fun and easy Giraffe Art for Kids! Using the watercolour resist technique to create an animal art project that kids will love. Get started by downloading the printabl… </td><td>252000</td><td>Arty Crafty Kids</td><td>Kindergarten Art Lessons,Art Lessons For Kids,Art Lessons Elementary,Art Videos For Kids,School Art Projects,Projects For Kids,Crafts For Kids,Easy Kids Art Projects,Easy Art For Kids</td><td>video</td><td>https://i.pinimg.com/videos/thumbnails/originals/1f/5e/ed/1f5eed0cd761c3954721b6e82de353aa.0000001.jpg</td><td>/data/art</td><td>art</td></tr></tbody></table></div>"
      ]
     },
     "metadata": {
      "application/vnd.databricks.v1+output": {
       "addedWidgets": {},
       "aggData": [],
       "aggError": "",
       "aggOverflow": false,
       "aggSchema": [],
       "aggSeriesLimitReached": false,
       "aggType": "",
       "arguments": {},
       "columnCustomDisplayInfos": {},
       "data": [
        [
         4,
         "55abcd28-bda1-4453-bbcd-1427fb3aa49b",
         "Mexican Artist Uses Unique Technique To Make His Drawings Glow, And The Result Is Mesmerizing",
         "Mexican artist Enrique Bernal has found a magical way to illuminate his beautiful pencil drawings with life. Check his unique glowing art in this article!",
         2000000,
         "Bored Panda",
         "Girl Drawing Sketches,Art Drawings Sketches Simple,Pencil Art Drawings,Realistic Drawings,Cool Drawings,Drawing Ideas,Panda Drawing,Disney Drawings,Pencil Drawing Inspiration",
         "image",
         "https://i.pinimg.com/originals/0c/37/fa/0c37fab39da6ded220c3f9ccac8d117c.jpg",
         "/data/art",
         "art"
        ],
        [
         25,
         "f19b91c7-2a58-41ae-a013-3806d248baec",
         "How to use an Angled Paint Brush! Painting Techniques with The Social Easel Online Paint Studio",
         "If I could only choose one paint brush it would be the angled brush! I am going to break down four separate Techniques I like to use an Angled Paint Brush with a video painting… ",
         20000,
         "The Social Easel Online Paint Studio | Video Painting Tutorials",
         "Fall Canvas Painting,Basic Painting,Acrylic Painting Flowers,Canvas Painting Tutorials,Autumn Painting,Painting Techniques,Diy Painting,Painting & Drawing,Canvas Art",
         "image",
         "https://i.pinimg.com/originals/cc/8e/81/cc8e8190f773d5e3bb7d86890b566da7.png",
         "/data/art",
         "art"
        ],
        [
         27,
         "1bc67f67-70f6-4c5b-ae03-d8201f4bb9b7",
         "Bulgarian Artist Makes Incredible Illustrations That Glow From Within",
         "It doesn't matter if you use a pencil, a crayon or the tip of your nose to create art, it is no small feat to produce something that'll knock everyone's socks off. Some artists… ",
         2000000,
         "Bored Panda",
         "Outline Drawings,Pencil Art Drawings,Cool Art Drawings,Horse Drawings,Graphite Drawings,Drawings Of Angels,Hair Drawings,Girl Drawing Sketches,Drawing Artist",
         "image",
         "https://i.pinimg.com/originals/0d/e2/ba/0de2ba7b5eaa155211bb2f219fdedf3a.jpg",
         "/data/art",
         "art"
        ],
        [
         33,
         "58b0546a-bf3f-494a-89f3-c53d0f537f6e",
         "The Astronomer",
         "The Astronomer Fine Art Print by Charlie Bowater. Authentic giclee print artwork on paper or canvas. Wall Art purchases directly support the artist.",
         17000,
         "Eyes On Walls",
         "Art And Illustration,Art Illustrations,The Old Astronomer,Arte Inspo,Look Wallpaper,Fairy Art,Anime Art Girl,Artwork Prints,3d Artwork",
         "image",
         "https://i.pinimg.com/originals/4e/a7/65/4ea7657855b643c0566103805b54e8f7.jpg",
         "/data/art",
         "art"
        ],
        [
         46,
         "19234073-8905-4885-b0d5-98e0b84cbf27",
         "10 Watercolor Hacks For Beginners | Tips and Tricks to Making Watercolor Painting Easier",
         "Mountain monologue watercolor",
         27000,
         "It's me, JD | DIY, Crafts, Home & Organization",
         "Arte Inspo,Kunst Inspo,Watercolor Artists,Watercolor Ideas,Simple Watercolor,Tattoo Watercolor,Watercolor Techniques,Watercolor Animals,Watercolor Illustration",
         "image",
         "https://i.pinimg.com/originals/fd/54/89/fd548935dcb13545120a2115baaa41d9.jpg",
         "/data/art",
         "art"
        ],
        [
         63,
         "9bcb7142-50e1-4dc5-bc2a-466368d47aa1",
         "Japanese Artist Depicts The Typical Life Of His Pet Hamster, And The Result Is Adorable",
         "Japanese artist and art university graduate Gotte have turned their creative skills towards a very creative subject. Their light-hearted watercolor pictures depict a typical day… ",
         2000000,
         "Bored Panda",
         "Art And Illustration,Cute Animal Drawings,Cute Drawings,Drawing Animals,Pretty Art,Cute Art,Art Inspo,Bel Art,Art Du Croquis",
         "image",
         "https://i.pinimg.com/originals/47/3b/ca/473bca41a36b536983a17e8f28598d7a.png",
         "/data/art",
         "art"
        ],
        [
         74,
         "f0a3a02d-5cc3-4cb6-8668-7f94a5f5d323",
         "3rd Grade Fall Forrests",
         "3rd Grade Fall Forests Third grade has been working on these cute little creations for the past couple of art classes now, and have been doing a great job! Materials: Tru-Ray co… ",
         13000,
         "Elements of the Art Room",
         "Fall Art Projects,School Art Projects,Halloween Art Projects,Art Education Lessons,Art Lessons Elementary,Fall Crafts For Kids,Art For Kids,Kid Art,Art 2nd Grade",
         "image",
         "https://i.pinimg.com/originals/9c/e6/61/9ce661ab5c3bad61e30266496481a591.jpg",
         "/data/art",
         "art"
        ],
        [
         82,
         "f62e3bd2-cf77-44c8-ae64-81273f901592",
         "🍂watercolor autumn leaves 🍂",
         null,
         150000,
         "Zezè",
         "Watercolor Art Lessons,Watercolor Painting Techniques,Painting Tips,Easy Watercolor Paintings,Watercolor Tips,Watercolor Tutorials,Painting Tutorials,Watercolor Flowers,Watercolors",
         "multi-video(story page format)",
         "https://i.pinimg.com/videos/thumbnails/originals/c1/3f/d4/c13fd4de97106b98970b81402a4ca9f3.0000001.jpg",
         "/data/art",
         "art"
        ],
        [
         91,
         "ca91fe99-d9a9-4d59-9d0d-87e32d1c692f",
         "Shower Curtain Art Tutorial | NEVER SKIP BRUNCH by Cara Newhart",
         "Top interior design blogger, Never Skip Brunch, shares her step by step tutorial to make your own Shower Curtain Art for cheap. Click here now for more!!",
         26000,
         "CARA NEWHART [never skip brunch]",
         "Art Diy,Diy Wall Art,Large Wall Art,Wall Art Decor,Wall Of Art,Art For Walls,Large Art Prints,Artwork Wall,Cool Wall Art",
         "image",
         "https://i.pinimg.com/originals/3c/b7/94/3cb7947e405a91e17e14b9e3a5466b2d.jpg",
         "/data/art",
         "art"
        ],
        [
         93,
         "ea8f328e-fba8-417c-867d-4151a012fc40",
         "Easy Giraffe Art for Kids",
         "Colourful, fun and easy Giraffe Art for Kids! Using the watercolour resist technique to create an animal art project that kids will love. Get started by downloading the printabl… ",
         252000,
         "Arty Crafty Kids",
         "Kindergarten Art Lessons,Art Lessons For Kids,Art Lessons Elementary,Art Videos For Kids,School Art Projects,Projects For Kids,Crafts For Kids,Easy Kids Art Projects,Easy Art For Kids",
         "video",
         "https://i.pinimg.com/videos/thumbnails/originals/1f/5e/ed/1f5eed0cd761c3954721b6e82de353aa.0000001.jpg",
         "/data/art",
         "art"
        ]
       ],
       "datasetInfos": [],
       "dbfsResultPath": null,
       "isJsonSchema": true,
       "metadata": {},
       "overflow": false,
       "plotOptions": {
        "customPlotOptions": {},
        "displayType": "table",
        "pivotAggregation": null,
        "pivotColumns": null,
        "xColumns": null,
        "yColumns": null
       },
       "removedWidgets": [],
       "schema": [
        {
         "metadata": "{}",
         "name": "ind",
         "type": "\"integer\""
        },
        {
         "metadata": "{}",
         "name": "unique_id",
         "type": "\"string\""
        },
        {
         "metadata": "{}",
         "name": "title",
         "type": "\"string\""
        },
        {
         "metadata": "{}",
         "name": "description",
         "type": "\"string\""
        },
        {
         "metadata": "{}",
         "name": "follower_count",
         "type": "\"integer\""
        },
        {
         "metadata": "{}",
         "name": "poster_name",
         "type": "\"string\""
        },
        {
         "metadata": "{}",
         "name": "tag_list",
         "type": "\"string\""
        },
        {
         "metadata": "{}",
         "name": "is_image_or_video",
         "type": "\"string\""
        },
        {
         "metadata": "{}",
         "name": "image_src",
         "type": "\"string\""
        },
        {
         "metadata": "{}",
         "name": "save_location",
         "type": "\"string\""
        },
        {
         "metadata": "{}",
         "name": "category",
         "type": "\"string\""
        }
       ],
       "type": "table"
      }
     },
     "output_type": "display_data"
    }
   ],
   "source": [
    "# The cleaning/ transformation methods have been created in a separate notebook and imported in\n",
    "# To clean the pinterest posts data, we call the transform_pin method and provide the dataframe as an input:\n",
    "df_pin_0e1f6d6285c1 = transform_pin(df_pin_0e1f6d6285c1)\n",
    "\n",
    "display(df_pin_0e1f6d6285c1.limit(10))"
   ]
  },
  {
   "cell_type": "markdown",
   "metadata": {
    "application/vnd.databricks.v1+cell": {
     "cellMetadata": {},
     "inputWidgets": {},
     "nuid": "25bb3d84-2f59-47f2-b072-496a0453c0da",
     "showTitle": false,
     "title": ""
    }
   },
   "source": [
    "\n",
    "## Cleaning the geolocation data"
   ]
  },
  {
   "cell_type": "code",
   "execution_count": 0,
   "metadata": {
    "application/vnd.databricks.v1+cell": {
     "cellMetadata": {
      "byteLimit": 2048000,
      "rowLimit": 10000
     },
     "inputWidgets": {},
     "nuid": "60e881be-5fb3-4dcb-979f-67d5362e803f",
     "showTitle": false,
     "title": ""
    }
   },
   "outputs": [
    {
     "output_type": "display_data",
     "data": {
      "text/html": [
       "<style scoped>\n",
       "  .table-result-container {\n",
       "    max-height: 300px;\n",
       "    overflow: auto;\n",
       "  }\n",
       "  table, th, td {\n",
       "    border: 1px solid black;\n",
       "    border-collapse: collapse;\n",
       "  }\n",
       "  th, td {\n",
       "    padding: 5px;\n",
       "  }\n",
       "  th {\n",
       "    text-align: left;\n",
       "  }\n",
       "</style><div class='table-result-container'><table class='table-result'><thead style='background-color: white'><tr><th>ind</th><th>country</th><th>coordinates</th><th>timestamp</th></tr></thead><tbody><tr><td>4</td><td>Albania</td><td>List(-88.8298, -170.188)</td><td>2022-07-07T00:18:41.000+0000</td></tr><tr><td>25</td><td>Ecuador</td><td>List(-81.3019, 63.8961)</td><td>2021-12-02T12:40:33.000+0000</td></tr><tr><td>27</td><td>Albania</td><td>List(-88.8298, -170.188)</td><td>2020-11-15T23:51:27.000+0000</td></tr><tr><td>33</td><td>Japan</td><td>List(-47.1159, -118.396)</td><td>2018-02-15T21:25:06.000+0000</td></tr><tr><td>46</td><td>Afghanistan</td><td>List(4.21689, -145.82)</td><td>2018-09-15T09:16:57.000+0000</td></tr><tr><td>63</td><td>Albania</td><td>List(-88.8298, -170.188)</td><td>2021-10-27T10:14:52.000+0000</td></tr><tr><td>74</td><td>Antigua and Barbuda</td><td>List(-81.0108, -165.206)</td><td>2020-01-29T14:03:35.000+0000</td></tr><tr><td>82</td><td>India</td><td>List(29.9602, -101.96)</td><td>2022-05-19T07:17:10.000+0000</td></tr><tr><td>91</td><td>Canada</td><td>List(-54.5927, -90.6345)</td><td>2021-10-11T12:44:03.000+0000</td></tr><tr><td>93</td><td>Barbados</td><td>List(-83.8846, -179.612)</td><td>2019-03-05T05:51:17.000+0000</td></tr></tbody></table></div>"
      ]
     },
     "metadata": {
      "application/vnd.databricks.v1+output": {
       "addedWidgets": {},
       "aggData": [],
       "aggError": "",
       "aggOverflow": false,
       "aggSchema": [],
       "aggSeriesLimitReached": false,
       "aggType": "",
       "arguments": {},
       "columnCustomDisplayInfos": {},
       "data": [
        [
         4,
         "Albania",
         [
          -88.8298,
          -170.188
         ],
         "2022-07-07T00:18:41.000+0000"
        ],
        [
         25,
         "Ecuador",
         [
          -81.3019,
          63.8961
         ],
         "2021-12-02T12:40:33.000+0000"
        ],
        [
         27,
         "Albania",
         [
          -88.8298,
          -170.188
         ],
         "2020-11-15T23:51:27.000+0000"
        ],
        [
         33,
         "Japan",
         [
          -47.1159,
          -118.396
         ],
         "2018-02-15T21:25:06.000+0000"
        ],
        [
         46,
         "Afghanistan",
         [
          4.21689,
          -145.82
         ],
         "2018-09-15T09:16:57.000+0000"
        ],
        [
         63,
         "Albania",
         [
          -88.8298,
          -170.188
         ],
         "2021-10-27T10:14:52.000+0000"
        ],
        [
         74,
         "Antigua and Barbuda",
         [
          -81.0108,
          -165.206
         ],
         "2020-01-29T14:03:35.000+0000"
        ],
        [
         82,
         "India",
         [
          29.9602,
          -101.96
         ],
         "2022-05-19T07:17:10.000+0000"
        ],
        [
         91,
         "Canada",
         [
          -54.5927,
          -90.6345
         ],
         "2021-10-11T12:44:03.000+0000"
        ],
        [
         93,
         "Barbados",
         [
          -83.8846,
          -179.612
         ],
         "2019-03-05T05:51:17.000+0000"
        ]
       ],
       "datasetInfos": [],
       "dbfsResultPath": null,
       "isJsonSchema": true,
       "metadata": {},
       "overflow": false,
       "plotOptions": {
        "customPlotOptions": {},
        "displayType": "table",
        "pivotAggregation": null,
        "pivotColumns": null,
        "xColumns": null,
        "yColumns": null
       },
       "removedWidgets": [],
       "schema": [
        {
         "metadata": "{}",
         "name": "ind",
         "type": "\"integer\""
        },
        {
         "metadata": "{}",
         "name": "country",
         "type": "\"string\""
        },
        {
         "metadata": "{}",
         "name": "coordinates",
         "type": "{\"type\":\"array\",\"elementType\":\"double\",\"containsNull\":true}"
        },
        {
         "metadata": "{}",
         "name": "timestamp",
         "type": "\"timestamp\""
        }
       ],
       "type": "table"
      }
     },
     "output_type": "display_data"
    }
   ],
   "source": [
    "# The cleaning/ transformation methods have been created in a separate notebook and imported in\n",
    "# To clean the geolocation data, we call the transform_geo method and provide the dataframe as an input:\n",
    "df_geo_0e1f6d6285c1 = transform_geo(df_geo_0e1f6d6285c1)\n",
    "\n",
    "display(df_geo_0e1f6d6285c1.limit(10))"
   ]
  },
  {
   "cell_type": "markdown",
   "metadata": {
    "application/vnd.databricks.v1+cell": {
     "cellMetadata": {},
     "inputWidgets": {},
     "nuid": "fa6745ec-fc16-4888-920d-5d832303e377",
     "showTitle": false,
     "title": ""
    }
   },
   "source": [
    "\n",
    "## Cleaning the user data"
   ]
  },
  {
   "cell_type": "code",
   "execution_count": 0,
   "metadata": {
    "application/vnd.databricks.v1+cell": {
     "cellMetadata": {
      "byteLimit": 2048000,
      "rowLimit": 10000
     },
     "inputWidgets": {},
     "nuid": "f62d71da-f4ac-4ef6-84a2-0b4d3dbd1846",
     "showTitle": false,
     "title": ""
    }
   },
   "outputs": [
    {
     "output_type": "display_data",
     "data": {
      "text/html": [
       "<style scoped>\n",
       "  .table-result-container {\n",
       "    max-height: 300px;\n",
       "    overflow: auto;\n",
       "  }\n",
       "  table, th, td {\n",
       "    border: 1px solid black;\n",
       "    border-collapse: collapse;\n",
       "  }\n",
       "  th, td {\n",
       "    padding: 5px;\n",
       "  }\n",
       "  th {\n",
       "    text-align: left;\n",
       "  }\n",
       "</style><div class='table-result-container'><table class='table-result'><thead style='background-color: white'><tr><th>ind</th><th>user_name</th><th>age</th><th>date_joined</th></tr></thead><tbody><tr><td>4</td><td>Adam Acosta</td><td>20</td><td>2015-10-21T21:26:45</td></tr><tr><td>25</td><td>Amber Gray</td><td>24</td><td>2017-07-01T07:56:15</td></tr><tr><td>27</td><td>Adam Acosta</td><td>20</td><td>2015-10-21T21:26:45</td></tr><tr><td>33</td><td>Angela Conner</td><td>36</td><td>2016-09-21T11:18:22</td></tr><tr><td>46</td><td>Erik Kelley</td><td>30</td><td>2016-01-06T09:58:56</td></tr><tr><td>63</td><td>Adam Acosta</td><td>20</td><td>2015-10-21T21:26:45</td></tr><tr><td>74</td><td>Amanda Benitez</td><td>21</td><td>2015-11-01T09:16:18</td></tr><tr><td>82</td><td>Andres Cortez</td><td>26</td><td>2015-11-20T21:50:39</td></tr><tr><td>91</td><td>Darryl Baker</td><td>29</td><td>2016-02-26T03:45:09</td></tr><tr><td>93</td><td>Angela Bates</td><td>23</td><td>2015-10-30T15:08:57</td></tr></tbody></table></div>"
      ]
     },
     "metadata": {
      "application/vnd.databricks.v1+output": {
       "addedWidgets": {},
       "aggData": [],
       "aggError": "",
       "aggOverflow": false,
       "aggSchema": [],
       "aggSeriesLimitReached": false,
       "aggType": "",
       "arguments": {},
       "columnCustomDisplayInfos": {},
       "data": [
        [
         4,
         "Adam Acosta",
         20,
         "2015-10-21T21:26:45"
        ],
        [
         25,
         "Amber Gray",
         24,
         "2017-07-01T07:56:15"
        ],
        [
         27,
         "Adam Acosta",
         20,
         "2015-10-21T21:26:45"
        ],
        [
         33,
         "Angela Conner",
         36,
         "2016-09-21T11:18:22"
        ],
        [
         46,
         "Erik Kelley",
         30,
         "2016-01-06T09:58:56"
        ],
        [
         63,
         "Adam Acosta",
         20,
         "2015-10-21T21:26:45"
        ],
        [
         74,
         "Amanda Benitez",
         21,
         "2015-11-01T09:16:18"
        ],
        [
         82,
         "Andres Cortez",
         26,
         "2015-11-20T21:50:39"
        ],
        [
         91,
         "Darryl Baker",
         29,
         "2016-02-26T03:45:09"
        ],
        [
         93,
         "Angela Bates",
         23,
         "2015-10-30T15:08:57"
        ]
       ],
       "datasetInfos": [],
       "dbfsResultPath": null,
       "isJsonSchema": true,
       "metadata": {},
       "overflow": false,
       "plotOptions": {
        "customPlotOptions": {},
        "displayType": "table",
        "pivotAggregation": null,
        "pivotColumns": null,
        "xColumns": null,
        "yColumns": null
       },
       "removedWidgets": [],
       "schema": [
        {
         "metadata": "{}",
         "name": "ind",
         "type": "\"integer\""
        },
        {
         "metadata": "{}",
         "name": "user_name",
         "type": "\"string\""
        },
        {
         "metadata": "{}",
         "name": "age",
         "type": "\"integer\""
        },
        {
         "metadata": "{}",
         "name": "date_joined",
         "type": "\"string\""
        }
       ],
       "type": "table"
      }
     },
     "output_type": "display_data"
    }
   ],
   "source": [
    "# The cleaning/ transformation methods have been created in a separate notebook and imported in\n",
    "# To clean the pinterest posts data, we call the transform_pin method and provide the dataframe as an input:\n",
    "df_user_0e1f6d6285c1 = transform_user(df_user_0e1f6d6285c1)\n",
    "\n",
    "display(df_user_0e1f6d6285c1.limit(10))"
   ]
  },
  {
   "cell_type": "markdown",
   "metadata": {
    "application/vnd.databricks.v1+cell": {
     "cellMetadata": {},
     "inputWidgets": {},
     "nuid": "a9dc8276-cc0f-4b88-8301-9ebc01242a3c",
     "showTitle": false,
     "title": ""
    }
   },
   "source": [
    "\n",
    "# Analysis on the created dataframes"
   ]
  },
  {
   "cell_type": "code",
   "execution_count": 0,
   "metadata": {
    "application/vnd.databricks.v1+cell": {
     "cellMetadata": {
      "byteLimit": 2048000,
      "rowLimit": 10000
     },
     "inputWidgets": {},
     "nuid": "655a9f9b-863d-4a91-9d9e-79fb3416869f",
     "showTitle": false,
     "title": ""
    }
   },
   "outputs": [
    {
     "output_type": "display_data",
     "data": {
      "text/html": [
       "<style scoped>\n",
       "  .ansiout {\n",
       "    display: block;\n",
       "    unicode-bidi: embed;\n",
       "    white-space: pre-wrap;\n",
       "    word-wrap: break-word;\n",
       "    word-break: break-all;\n",
       "    font-family: \"Menlo\", \"Monaco\", \"Consolas\", \"Ubuntu Mono\", \"Source Code Pro\", monospace;\n",
       "    font-size: 13px;\n",
       "    color: #555;\n",
       "    margin-left: 4px;\n",
       "    line-height: 19px;\n",
       "  }\n",
       "</style>\n",
       "<div class=\"ansiout\"></div>"
      ]
     },
     "metadata": {
      "application/vnd.databricks.v1+output": {
       "addedWidgets": {},
       "arguments": {},
       "data": "<div class=\"ansiout\"></div>",
       "datasetInfos": [],
       "metadata": {},
       "removedWidgets": [],
       "type": "html"
      }
     },
     "output_type": "display_data"
    }
   ],
   "source": [
    "# Importing the window:\n",
    "from pyspark.sql.window import Window"
   ]
  },
  {
   "cell_type": "code",
   "execution_count": 0,
   "metadata": {
    "application/vnd.databricks.v1+cell": {
     "cellMetadata": {
      "byteLimit": 2048000,
      "rowLimit": 10000
     },
     "inputWidgets": {},
     "nuid": "f9e39926-a5a0-49d3-b659-3371804dc335",
     "showTitle": false,
     "title": ""
    }
   },
   "outputs": [
    {
     "output_type": "display_data",
     "data": {
      "text/html": [
       "<style scoped>\n",
       "  .table-result-container {\n",
       "    max-height: 300px;\n",
       "    overflow: auto;\n",
       "  }\n",
       "  table, th, td {\n",
       "    border: 1px solid black;\n",
       "    border-collapse: collapse;\n",
       "  }\n",
       "  th, td {\n",
       "    padding: 5px;\n",
       "  }\n",
       "  th {\n",
       "    text-align: left;\n",
       "  }\n",
       "</style><div class='table-result-container'><table class='table-result'><thead style='background-color: white'><tr><th>country</th><th>category</th><th>category_count</th></tr></thead><tbody><tr><td>Afghanistan</td><td>education</td><td>12</td></tr><tr><td>Albania</td><td>art</td><td>19</td></tr><tr><td>Algeria</td><td>quotes</td><td>27</td></tr><tr><td>American Samoa</td><td>tattoos</td><td>8</td></tr><tr><td>Andorra</td><td>tattoos</td><td>9</td></tr><tr><td>Angola</td><td>diy-and-crafts</td><td>4</td></tr><tr><td>Angola</td><td>education</td><td>4</td></tr><tr><td>Anguilla</td><td>diy-and-crafts</td><td>5</td></tr><tr><td>Antarctica (the territory South of 60 deg S)</td><td>tattoos</td><td>4</td></tr><tr><td>Antigua and Barbuda</td><td>art</td><td>4</td></tr><tr><td>Antigua and Barbuda</td><td>travel</td><td>4</td></tr><tr><td>Argentina</td><td>tattoos</td><td>9</td></tr><tr><td>Armenia</td><td>art</td><td>4</td></tr><tr><td>Aruba</td><td>christmas</td><td>9</td></tr><tr><td>Australia</td><td>mens-fashion</td><td>3</td></tr><tr><td>Austria</td><td>tattoos</td><td>4</td></tr><tr><td>Austria</td><td>home-decor</td><td>4</td></tr><tr><td>Azerbaijan</td><td>finance</td><td>8</td></tr><tr><td>Bahamas</td><td>event-planning</td><td>4</td></tr><tr><td>Bahrain</td><td>finance</td><td>3</td></tr><tr><td>Bangladesh</td><td>christmas</td><td>7</td></tr><tr><td>Barbados</td><td>education</td><td>5</td></tr><tr><td>Belarus</td><td>travel</td><td>2</td></tr><tr><td>Belgium</td><td>travel</td><td>2</td></tr><tr><td>Belgium</td><td>diy-and-crafts</td><td>2</td></tr><tr><td>Belgium</td><td>christmas</td><td>2</td></tr><tr><td>Belize</td><td>diy-and-crafts</td><td>5</td></tr><tr><td>Benin</td><td>finance</td><td>2</td></tr><tr><td>Benin</td><td>tattoos</td><td>2</td></tr><tr><td>Benin</td><td>travel</td><td>2</td></tr><tr><td>Bermuda</td><td>christmas</td><td>4</td></tr><tr><td>Bhutan</td><td>event-planning</td><td>2</td></tr><tr><td>Bhutan</td><td>diy-and-crafts</td><td>2</td></tr><tr><td>Bolivia</td><td>home-decor</td><td>4</td></tr><tr><td>Bosnia and Herzegovina</td><td>christmas</td><td>3</td></tr><tr><td>Botswana</td><td>tattoos</td><td>2</td></tr><tr><td>Bouvet Island (Bouvetoya)</td><td>travel</td><td>3</td></tr><tr><td>Brazil</td><td>finance</td><td>2</td></tr><tr><td>British Indian Ocean Territory (Chagos Archipelago)</td><td>tattoos</td><td>1</td></tr><tr><td>British Indian Ocean Territory (Chagos Archipelago)</td><td>diy-and-crafts</td><td>1</td></tr><tr><td>British Indian Ocean Territory (Chagos Archipelago)</td><td>mens-fashion</td><td>1</td></tr><tr><td>British Indian Ocean Territory (Chagos Archipelago)</td><td>finance</td><td>1</td></tr><tr><td>British Virgin Islands</td><td>christmas</td><td>6</td></tr><tr><td>Brunei Darussalam</td><td>finance</td><td>1</td></tr><tr><td>Brunei Darussalam</td><td>education</td><td>1</td></tr><tr><td>Brunei Darussalam</td><td>diy-and-crafts</td><td>1</td></tr><tr><td>Bulgaria</td><td>christmas</td><td>6</td></tr><tr><td>Burkina Faso</td><td>quotes</td><td>3</td></tr><tr><td>Burundi</td><td>mens-fashion</td><td>2</td></tr><tr><td>Cambodia</td><td>beauty</td><td>2</td></tr><tr><td>Cambodia</td><td>event-planning</td><td>2</td></tr><tr><td>Cambodia</td><td>education</td><td>2</td></tr><tr><td>Cambodia</td><td>christmas</td><td>2</td></tr><tr><td>Cameroon</td><td>art</td><td>2</td></tr><tr><td>Cameroon</td><td>christmas</td><td>2</td></tr><tr><td>Cameroon</td><td>travel</td><td>2</td></tr><tr><td>Canada</td><td>mens-fashion</td><td>1</td></tr><tr><td>Canada</td><td>travel</td><td>1</td></tr><tr><td>Canada</td><td>christmas</td><td>1</td></tr><tr><td>Canada</td><td>tattoos</td><td>1</td></tr><tr><td>Canada</td><td>art</td><td>1</td></tr><tr><td>Cape Verde</td><td>diy-and-crafts</td><td>2</td></tr><tr><td>Cayman Islands</td><td>travel</td><td>1</td></tr><tr><td>Cayman Islands</td><td>mens-fashion</td><td>1</td></tr><tr><td>Cayman Islands</td><td>art</td><td>1</td></tr><tr><td>Central African Republic</td><td>mens-fashion</td><td>3</td></tr><tr><td>Chad</td><td>diy-and-crafts</td><td>2</td></tr><tr><td>Chad</td><td>mens-fashion</td><td>2</td></tr><tr><td>Chile</td><td>quotes</td><td>1</td></tr><tr><td>Chile</td><td>travel</td><td>1</td></tr><tr><td>Chile</td><td>mens-fashion</td><td>1</td></tr><tr><td>China</td><td>finance</td><td>1</td></tr><tr><td>China</td><td>quotes</td><td>1</td></tr><tr><td>China</td><td>beauty</td><td>1</td></tr><tr><td>Christmas Island</td><td>vehicles</td><td>2</td></tr><tr><td>Christmas Island</td><td>travel</td><td>2</td></tr><tr><td>Christmas Island</td><td>event-planning</td><td>2</td></tr><tr><td>Cocos (Keeling) Islands</td><td>travel</td><td>2</td></tr><tr><td>Cocos (Keeling) Islands</td><td>finance</td><td>2</td></tr><tr><td>Colombia</td><td>home-decor</td><td>2</td></tr><tr><td>Colombia</td><td>finance</td><td>2</td></tr><tr><td>Comoros</td><td>quotes</td><td>2</td></tr><tr><td>Comoros</td><td>event-planning</td><td>2</td></tr><tr><td>Congo</td><td>home-decor</td><td>3</td></tr><tr><td>Cook Islands</td><td>travel</td><td>1</td></tr><tr><td>Cook Islands</td><td>vehicles</td><td>1</td></tr><tr><td>Costa Rica</td><td>home-decor</td><td>2</td></tr><tr><td>Costa Rica</td><td>christmas</td><td>2</td></tr><tr><td>Cote d'Ivoire</td><td>finance</td><td>2</td></tr><tr><td>Cote d'Ivoire</td><td>event-planning</td><td>2</td></tr><tr><td>Cote d'Ivoire</td><td>diy-and-crafts</td><td>2</td></tr><tr><td>Cote d'Ivoire</td><td>travel</td><td>2</td></tr><tr><td>Croatia</td><td>finance</td><td>4</td></tr><tr><td>Cuba</td><td>mens-fashion</td><td>1</td></tr><tr><td>Cuba</td><td>vehicles</td><td>1</td></tr><tr><td>Cuba</td><td>home-decor</td><td>1</td></tr><tr><td>Cuba</td><td>diy-and-crafts</td><td>1</td></tr><tr><td>Cyprus</td><td>home-decor</td><td>2</td></tr><tr><td>Cyprus</td><td>vehicles</td><td>2</td></tr><tr><td>Czech Republic</td><td>travel</td><td>3</td></tr><tr><td>Denmark</td><td>mens-fashion</td><td>1</td></tr><tr><td>Denmark</td><td>beauty</td><td>1</td></tr><tr><td>Djibouti</td><td>diy-and-crafts</td><td>3</td></tr><tr><td>Dominica</td><td>event-planning</td><td>2</td></tr><tr><td>Dominican Republic</td><td>finance</td><td>3</td></tr><tr><td>Ecuador</td><td>mens-fashion</td><td>2</td></tr><tr><td>Egypt</td><td>home-decor</td><td>3</td></tr><tr><td>El Salvador</td><td>travel</td><td>1</td></tr><tr><td>El Salvador</td><td>quotes</td><td>1</td></tr><tr><td>El Salvador</td><td>beauty</td><td>1</td></tr><tr><td>El Salvador</td><td>event-planning</td><td>1</td></tr><tr><td>Equatorial Guinea</td><td>event-planning</td><td>1</td></tr><tr><td>Equatorial Guinea</td><td>travel</td><td>1</td></tr><tr><td>Equatorial Guinea</td><td>mens-fashion</td><td>1</td></tr><tr><td>Eritrea</td><td>art</td><td>1</td></tr><tr><td>Estonia</td><td>christmas</td><td>1</td></tr><tr><td>Estonia</td><td>diy-and-crafts</td><td>1</td></tr><tr><td>Estonia</td><td>vehicles</td><td>1</td></tr><tr><td>Ethiopia</td><td>finance</td><td>1</td></tr><tr><td>Ethiopia</td><td>travel</td><td>1</td></tr><tr><td>Ethiopia</td><td>tattoos</td><td>1</td></tr><tr><td>Falkland Islands (Malvinas)</td><td>event-planning</td><td>2</td></tr><tr><td>Faroe Islands</td><td>event-planning</td><td>2</td></tr><tr><td>Fiji</td><td>mens-fashion</td><td>2</td></tr><tr><td>Finland</td><td>beauty</td><td>2</td></tr><tr><td>Finland</td><td>finance</td><td>2</td></tr><tr><td>France</td><td>art</td><td>2</td></tr><tr><td>France</td><td>beauty</td><td>2</td></tr><tr><td>French Guiana</td><td>art</td><td>1</td></tr><tr><td>French Guiana</td><td>quotes</td><td>1</td></tr><tr><td>French Guiana</td><td>finance</td><td>1</td></tr><tr><td>French Guiana</td><td>diy-and-crafts</td><td>1</td></tr><tr><td>French Guiana</td><td>education</td><td>1</td></tr><tr><td>French Polynesia</td><td>event-planning</td><td>3</td></tr><tr><td>French Southern Territories</td><td>art</td><td>1</td></tr><tr><td>French Southern Territories</td><td>finance</td><td>1</td></tr><tr><td>French Southern Territories</td><td>travel</td><td>1</td></tr><tr><td>French Southern Territories</td><td>home-decor</td><td>1</td></tr><tr><td>Gabon</td><td>travel</td><td>2</td></tr><tr><td>Georgia</td><td>education</td><td>3</td></tr><tr><td>Germany</td><td>finance</td><td>2</td></tr><tr><td>Ghana</td><td>finance</td><td>1</td></tr><tr><td>Ghana</td><td>beauty</td><td>1</td></tr><tr><td>Ghana</td><td>art</td><td>1</td></tr><tr><td>Gibraltar</td><td>travel</td><td>2</td></tr><tr><td>Greece</td><td>mens-fashion</td><td>2</td></tr><tr><td>Greenland</td><td>christmas</td><td>1</td></tr><tr><td>Greenland</td><td>travel</td><td>1</td></tr><tr><td>Greenland</td><td>education</td><td>1</td></tr><tr><td>Grenada</td><td>vehicles</td><td>1</td></tr><tr><td>Grenada</td><td>mens-fashion</td><td>1</td></tr><tr><td>Grenada</td><td>finance</td><td>1</td></tr><tr><td>Grenada</td><td>quotes</td><td>1</td></tr><tr><td>Guadeloupe</td><td>christmas</td><td>2</td></tr><tr><td>Guam</td><td>travel</td><td>1</td></tr><tr><td>Guam</td><td>mens-fashion</td><td>1</td></tr><tr><td>Guatemala</td><td>finance</td><td>1</td></tr><tr><td>Guatemala</td><td>mens-fashion</td><td>1</td></tr><tr><td>Guatemala</td><td>art</td><td>1</td></tr><tr><td>Guatemala</td><td>diy-and-crafts</td><td>1</td></tr><tr><td>Guatemala</td><td>home-decor</td><td>1</td></tr><tr><td>Guatemala</td><td>christmas</td><td>1</td></tr><tr><td>Guernsey</td><td>tattoos</td><td>1</td></tr><tr><td>Guernsey</td><td>mens-fashion</td><td>1</td></tr><tr><td>Guernsey</td><td>home-decor</td><td>1</td></tr><tr><td>Guinea</td><td>christmas</td><td>1</td></tr><tr><td>Guinea</td><td>vehicles</td><td>1</td></tr><tr><td>Guinea</td><td>diy-and-crafts</td><td>1</td></tr><tr><td>Guinea</td><td>finance</td><td>1</td></tr><tr><td>Guinea-Bissau</td><td>travel</td><td>2</td></tr><tr><td>Guyana</td><td>tattoos</td><td>1</td></tr><tr><td>Guyana</td><td>home-decor</td><td>1</td></tr><tr><td>Haiti</td><td>home-decor</td><td>1</td></tr><tr><td>Haiti</td><td>christmas</td><td>1</td></tr><tr><td>Haiti</td><td>finance</td><td>1</td></tr><tr><td>Heard Island and McDonald Islands</td><td>mens-fashion</td><td>2</td></tr><tr><td>Heard Island and McDonald Islands</td><td>vehicles</td><td>2</td></tr><tr><td>Holy See (Vatican City State)</td><td>mens-fashion</td><td>1</td></tr><tr><td>Honduras</td><td>event-planning</td><td>1</td></tr><tr><td>Honduras</td><td>beauty</td><td>1</td></tr><tr><td>Hong Kong</td><td>home-decor</td><td>2</td></tr><tr><td>Hungary</td><td>vehicles</td><td>3</td></tr><tr><td>Iceland</td><td>diy-and-crafts</td><td>1</td></tr><tr><td>India</td><td>travel</td><td>1</td></tr><tr><td>India</td><td>tattoos</td><td>1</td></tr><tr><td>India</td><td>finance</td><td>1</td></tr><tr><td>India</td><td>art</td><td>1</td></tr><tr><td>India</td><td>event-planning</td><td>1</td></tr><tr><td>India</td><td>beauty</td><td>1</td></tr><tr><td>India</td><td>diy-and-crafts</td><td>1</td></tr><tr><td>Indonesia</td><td>finance</td><td>4</td></tr><tr><td>Iran</td><td>christmas</td><td>2</td></tr><tr><td>Iran</td><td>art</td><td>2</td></tr><tr><td>Iraq</td><td>christmas</td><td>1</td></tr><tr><td>Iraq</td><td>tattoos</td><td>1</td></tr><tr><td>Ireland</td><td>mens-fashion</td><td>1</td></tr><tr><td>Ireland</td><td>home-decor</td><td>1</td></tr><tr><td>Ireland</td><td>tattoos</td><td>1</td></tr><tr><td>Ireland</td><td>event-planning</td><td>1</td></tr><tr><td>Isle of Man</td><td>art</td><td>2</td></tr><tr><td>Israel</td><td>art</td><td>1</td></tr><tr><td>Israel</td><td>quotes</td><td>1</td></tr><tr><td>Israel</td><td>finance</td><td>1</td></tr><tr><td>Israel</td><td>education</td><td>1</td></tr><tr><td>Italy</td><td>beauty</td><td>1</td></tr><tr><td>Jamaica</td><td>finance</td><td>2</td></tr><tr><td>Japan</td><td>vehicles</td><td>1</td></tr><tr><td>Japan</td><td>art</td><td>1</td></tr><tr><td>Japan</td><td>beauty</td><td>1</td></tr><tr><td>Japan</td><td>mens-fashion</td><td>1</td></tr><tr><td>Jersey</td><td>quotes</td><td>1</td></tr><tr><td>Jersey</td><td>mens-fashion</td><td>1</td></tr><tr><td>Kazakhstan</td><td>beauty</td><td>1</td></tr><tr><td>Kazakhstan</td><td>tattoos</td><td>1</td></tr><tr><td>Kazakhstan</td><td>home-decor</td><td>1</td></tr><tr><td>Kazakhstan</td><td>christmas</td><td>1</td></tr><tr><td>Kenya</td><td>diy-and-crafts</td><td>2</td></tr><tr><td>Kiribati</td><td>beauty</td><td>1</td></tr><tr><td>Kiribati</td><td>christmas</td><td>1</td></tr><tr><td>Korea</td><td>travel</td><td>2</td></tr><tr><td>Korea</td><td>mens-fashion</td><td>2</td></tr><tr><td>Kuwait</td><td>christmas</td><td>2</td></tr><tr><td>Kyrgyz Republic</td><td>vehicles</td><td>1</td></tr><tr><td>Kyrgyz Republic</td><td>education</td><td>1</td></tr><tr><td>Lao People's Democratic Republic</td><td>quotes</td><td>1</td></tr><tr><td>Latvia</td><td>home-decor</td><td>1</td></tr><tr><td>Latvia</td><td>beauty</td><td>1</td></tr><tr><td>Latvia</td><td>mens-fashion</td><td>1</td></tr><tr><td>Lebanon</td><td>quotes</td><td>3</td></tr><tr><td>Lesotho</td><td>art</td><td>3</td></tr><tr><td>Liberia</td><td>beauty</td><td>1</td></tr><tr><td>Liberia</td><td>event-planning</td><td>1</td></tr><tr><td>Liberia</td><td>christmas</td><td>1</td></tr><tr><td>Libyan Arab Jamahiriya</td><td>christmas</td><td>2</td></tr><tr><td>Liechtenstein</td><td>mens-fashion</td><td>2</td></tr><tr><td>Lithuania</td><td>diy-and-crafts</td><td>1</td></tr><tr><td>Lithuania</td><td>tattoos</td><td>1</td></tr><tr><td>Lithuania</td><td>education</td><td>1</td></tr><tr><td>Luxembourg</td><td>education</td><td>1</td></tr><tr><td>Luxembourg</td><td>diy-and-crafts</td><td>1</td></tr><tr><td>Macao</td><td>mens-fashion</td><td>1</td></tr><tr><td>Macao</td><td>vehicles</td><td>1</td></tr><tr><td>Macao</td><td>education</td><td>1</td></tr><tr><td>Macao</td><td>quotes</td><td>1</td></tr><tr><td>Macedonia</td><td>tattoos</td><td>1</td></tr><tr><td>Madagascar</td><td>mens-fashion</td><td>1</td></tr><tr><td>Madagascar</td><td>event-planning</td><td>1</td></tr><tr><td>Madagascar</td><td>quotes</td><td>1</td></tr><tr><td>Malawi</td><td>travel</td><td>1</td></tr><tr><td>Malawi</td><td>vehicles</td><td>1</td></tr><tr><td>Maldives</td><td>event-planning</td><td>2</td></tr><tr><td>Maldives</td><td>finance</td><td>2</td></tr><tr><td>Mali</td><td>mens-fashion</td><td>1</td></tr><tr><td>Mali</td><td>christmas</td><td>1</td></tr><tr><td>Malta</td><td>beauty</td><td>2</td></tr><tr><td>Marshall Islands</td><td>vehicles</td><td>1</td></tr><tr><td>Marshall Islands</td><td>home-decor</td><td>1</td></tr><tr><td>Marshall Islands</td><td>travel</td><td>1</td></tr><tr><td>Martinique</td><td>quotes</td><td>1</td></tr><tr><td>Martinique</td><td>event-planning</td><td>1</td></tr><tr><td>Mauritania</td><td>christmas</td><td>1</td></tr><tr><td>Mauritania</td><td>education</td><td>1</td></tr><tr><td>Mauritius</td><td>mens-fashion</td><td>1</td></tr><tr><td>Mayotte</td><td>christmas</td><td>1</td></tr><tr><td>Mayotte</td><td>diy-and-crafts</td><td>1</td></tr><tr><td>Mayotte</td><td>beauty</td><td>1</td></tr><tr><td>Mexico</td><td>vehicles</td><td>2</td></tr><tr><td>Micronesia</td><td>christmas</td><td>1</td></tr><tr><td>Micronesia</td><td>travel</td><td>1</td></tr><tr><td>Moldova</td><td>beauty</td><td>1</td></tr><tr><td>Moldova</td><td>home-decor</td><td>1</td></tr><tr><td>Monaco</td><td>art</td><td>2</td></tr><tr><td>Mongolia</td><td>mens-fashion</td><td>1</td></tr><tr><td>Mongolia</td><td>tattoos</td><td>1</td></tr><tr><td>Mongolia</td><td>vehicles</td><td>1</td></tr><tr><td>Montserrat</td><td>education</td><td>1</td></tr><tr><td>Montserrat</td><td>art</td><td>1</td></tr><tr><td>Montserrat</td><td>event-planning</td><td>1</td></tr><tr><td>Montserrat</td><td>tattoos</td><td>1</td></tr><tr><td>Morocco</td><td>quotes</td><td>2</td></tr><tr><td>Mozambique</td><td>home-decor</td><td>1</td></tr><tr><td>Mozambique</td><td>art</td><td>1</td></tr><tr><td>Mozambique</td><td>finance</td><td>1</td></tr><tr><td>Mozambique</td><td>mens-fashion</td><td>1</td></tr><tr><td>Myanmar</td><td>christmas</td><td>1</td></tr><tr><td>Namibia</td><td>quotes</td><td>1</td></tr><tr><td>Namibia</td><td>vehicles</td><td>1</td></tr><tr><td>Namibia</td><td>event-planning</td><td>1</td></tr><tr><td>Nauru</td><td>beauty</td><td>3</td></tr><tr><td>Nepal</td><td>christmas</td><td>1</td></tr><tr><td>Nepal</td><td>finance</td><td>1</td></tr><tr><td>Netherlands</td><td>home-decor</td><td>3</td></tr><tr><td>Netherlands Antilles</td><td>beauty</td><td>1</td></tr><tr><td>Netherlands Antilles</td><td>art</td><td>1</td></tr><tr><td>New Caledonia</td><td>mens-fashion</td><td>1</td></tr><tr><td>New Caledonia</td><td>art</td><td>1</td></tr><tr><td>New Caledonia</td><td>travel</td><td>1</td></tr><tr><td>New Zealand</td><td>quotes</td><td>2</td></tr><tr><td>Nicaragua</td><td>mens-fashion</td><td>2</td></tr><tr><td>Nicaragua</td><td>home-decor</td><td>2</td></tr><tr><td>Niger</td><td>education</td><td>1</td></tr><tr><td>Niger</td><td>art</td><td>1</td></tr><tr><td>Niger</td><td>beauty</td><td>1</td></tr><tr><td>Nigeria</td><td>education</td><td>1</td></tr><tr><td>Nigeria</td><td>christmas</td><td>1</td></tr><tr><td>Nigeria</td><td>mens-fashion</td><td>1</td></tr><tr><td>Niue</td><td>quotes</td><td>2</td></tr><tr><td>Norfolk Island</td><td>mens-fashion</td><td>1</td></tr><tr><td>Norfolk Island</td><td>event-planning</td><td>1</td></tr><tr><td>Norfolk Island</td><td>beauty</td><td>1</td></tr><tr><td>Norway</td><td>art</td><td>1</td></tr><tr><td>Norway</td><td>home-decor</td><td>1</td></tr><tr><td>Norway</td><td>travel</td><td>1</td></tr><tr><td>Oman</td><td>beauty</td><td>1</td></tr><tr><td>Pakistan</td><td>vehicles</td><td>1</td></tr><tr><td>Pakistan</td><td>christmas</td><td>1</td></tr><tr><td>Palestinian Territory</td><td>vehicles</td><td>1</td></tr><tr><td>Palestinian Territory</td><td>art</td><td>1</td></tr><tr><td>Palestinian Territory</td><td>quotes</td><td>1</td></tr><tr><td>Palestinian Territory</td><td>event-planning</td><td>1</td></tr><tr><td>Panama</td><td>event-planning</td><td>1</td></tr><tr><td>Panama</td><td>vehicles</td><td>1</td></tr><tr><td>Panama</td><td>beauty</td><td>1</td></tr><tr><td>Panama</td><td>travel</td><td>1</td></tr><tr><td>Papua New Guinea</td><td>quotes</td><td>3</td></tr><tr><td>Paraguay</td><td>vehicles</td><td>1</td></tr><tr><td>Paraguay</td><td>event-planning</td><td>1</td></tr><tr><td>Peru</td><td>art</td><td>1</td></tr><tr><td>Peru</td><td>tattoos</td><td>1</td></tr><tr><td>Peru</td><td>vehicles</td><td>1</td></tr><tr><td>Philippines</td><td>vehicles</td><td>1</td></tr><tr><td>Philippines</td><td>event-planning</td><td>1</td></tr><tr><td>Pitcairn Islands</td><td>diy-and-crafts</td><td>2</td></tr><tr><td>Poland</td><td>event-planning</td><td>1</td></tr><tr><td>Poland</td><td>beauty</td><td>1</td></tr><tr><td>Portugal</td><td>event-planning</td><td>1</td></tr><tr><td>Portugal</td><td>diy-and-crafts</td><td>1</td></tr><tr><td>Puerto Rico</td><td>christmas</td><td>2</td></tr><tr><td>Qatar</td><td>beauty</td><td>2</td></tr><tr><td>Romania</td><td>tattoos</td><td>1</td></tr><tr><td>Romania</td><td>art</td><td>1</td></tr><tr><td>Romania</td><td>quotes</td><td>1</td></tr><tr><td>Romania</td><td>vehicles</td><td>1</td></tr><tr><td>Russian Federation</td><td>home-decor</td><td>1</td></tr><tr><td>Rwanda</td><td>travel</td><td>1</td></tr><tr><td>Saint Barthelemy</td><td>mens-fashion</td><td>1</td></tr><tr><td>Saint Barthelemy</td><td>education</td><td>1</td></tr><tr><td>Saint Helena</td><td>art</td><td>1</td></tr><tr><td>Saint Helena</td><td>beauty</td><td>1</td></tr><tr><td>Saint Kitts and Nevis</td><td>home-decor</td><td>1</td></tr><tr><td>Saint Kitts and Nevis</td><td>event-planning</td><td>1</td></tr><tr><td>Saint Kitts and Nevis</td><td>vehicles</td><td>1</td></tr><tr><td>Saint Kitts and Nevis</td><td>education</td><td>1</td></tr><tr><td>Saint Kitts and Nevis</td><td>beauty</td><td>1</td></tr><tr><td>Saint Martin</td><td>quotes</td><td>1</td></tr><tr><td>Saint Martin</td><td>christmas</td><td>1</td></tr><tr><td>Saint Pierre and Miquelon</td><td>mens-fashion</td><td>3</td></tr><tr><td>Saint Vincent and the Grenadines</td><td>christmas</td><td>1</td></tr><tr><td>Saint Vincent and the Grenadines</td><td>quotes</td><td>1</td></tr><tr><td>Samoa</td><td>finance</td><td>1</td></tr><tr><td>Samoa</td><td>vehicles</td><td>1</td></tr><tr><td>Samoa</td><td>diy-and-crafts</td><td>1</td></tr><tr><td>San Marino</td><td>art</td><td>1</td></tr><tr><td>San Marino</td><td>mens-fashion</td><td>1</td></tr><tr><td>Sao Tome and Principe</td><td>tattoos</td><td>1</td></tr><tr><td>Sao Tome and Principe</td><td>finance</td><td>1</td></tr><tr><td>Saudi Arabia</td><td>finance</td><td>1</td></tr><tr><td>Saudi Arabia</td><td>beauty</td><td>1</td></tr><tr><td>Senegal</td><td>beauty</td><td>1</td></tr><tr><td>Serbia</td><td>travel</td><td>1</td></tr><tr><td>Seychelles</td><td>tattoos</td><td>1</td></tr><tr><td>Seychelles</td><td>beauty</td><td>1</td></tr><tr><td>Singapore</td><td>vehicles</td><td>1</td></tr><tr><td>Singapore</td><td>mens-fashion</td><td>1</td></tr><tr><td>Singapore</td><td>education</td><td>1</td></tr><tr><td>Singapore</td><td>event-planning</td><td>1</td></tr><tr><td>Singapore</td><td>travel</td><td>1</td></tr><tr><td>Slovakia (Slovak Republic)</td><td>vehicles</td><td>1</td></tr><tr><td>Slovakia (Slovak Republic)</td><td>finance</td><td>1</td></tr><tr><td>Slovenia</td><td>beauty</td><td>1</td></tr><tr><td>Solomon Islands</td><td>vehicles</td><td>2</td></tr><tr><td>Somalia</td><td>quotes</td><td>1</td></tr><tr><td>Somalia</td><td>vehicles</td><td>1</td></tr><tr><td>Somalia</td><td>event-planning</td><td>1</td></tr><tr><td>Somalia</td><td>travel</td><td>1</td></tr><tr><td>South Africa</td><td>vehicles</td><td>1</td></tr><tr><td>South Georgia and the South Sandwich Islands</td><td>vehicles</td><td>1</td></tr><tr><td>South Georgia and the South Sandwich Islands</td><td>event-planning</td><td>1</td></tr><tr><td>Sri Lanka</td><td>mens-fashion</td><td>1</td></tr><tr><td>Sri Lanka</td><td>finance</td><td>1</td></tr><tr><td>Sudan</td><td>art</td><td>1</td></tr><tr><td>Sudan</td><td>education</td><td>1</td></tr><tr><td>Sudan</td><td>home-decor</td><td>1</td></tr><tr><td>Sudan</td><td>mens-fashion</td><td>1</td></tr><tr><td>Svalbard & Jan Mayen Islands</td><td>travel</td><td>1</td></tr><tr><td>Svalbard & Jan Mayen Islands</td><td>beauty</td><td>1</td></tr><tr><td>Swaziland</td><td>travel</td><td>1</td></tr><tr><td>Sweden</td><td>finance</td><td>1</td></tr><tr><td>Sweden</td><td>mens-fashion</td><td>1</td></tr><tr><td>Sweden</td><td>diy-and-crafts</td><td>1</td></tr><tr><td>Sweden</td><td>event-planning</td><td>1</td></tr><tr><td>Switzerland</td><td>quotes</td><td>1</td></tr><tr><td>Taiwan</td><td>mens-fashion</td><td>1</td></tr><tr><td>Tajikistan</td><td>beauty</td><td>1</td></tr><tr><td>Tajikistan</td><td>travel</td><td>1</td></tr><tr><td>Tanzania</td><td>travel</td><td>1</td></tr><tr><td>Tanzania</td><td>art</td><td>1</td></tr><tr><td>Thailand</td><td>home-decor</td><td>1</td></tr><tr><td>Thailand</td><td>event-planning</td><td>1</td></tr><tr><td>Togo</td><td>christmas</td><td>1</td></tr><tr><td>Tokelau</td><td>beauty</td><td>1</td></tr><tr><td>Tonga</td><td>beauty</td><td>1</td></tr><tr><td>Trinidad and Tobago</td><td>christmas</td><td>1</td></tr><tr><td>Trinidad and Tobago</td><td>vehicles</td><td>1</td></tr><tr><td>Tunisia</td><td>diy-and-crafts</td><td>1</td></tr><tr><td>Tunisia</td><td>travel</td><td>1</td></tr><tr><td>Turkey</td><td>education</td><td>2</td></tr><tr><td>Turkmenistan</td><td>diy-and-crafts</td><td>1</td></tr><tr><td>Turkmenistan</td><td>event-planning</td><td>1</td></tr><tr><td>Turkmenistan</td><td>travel</td><td>1</td></tr><tr><td>Turks and Caicos Islands</td><td>event-planning</td><td>1</td></tr><tr><td>Turks and Caicos Islands</td><td>tattoos</td><td>1</td></tr><tr><td>Turks and Caicos Islands</td><td>vehicles</td><td>1</td></tr><tr><td>Tuvalu</td><td>tattoos</td><td>1</td></tr><tr><td>Uganda</td><td>event-planning</td><td>3</td></tr><tr><td>Ukraine</td><td>finance</td><td>1</td></tr><tr><td>United Kingdom</td><td>quotes</td><td>1</td></tr><tr><td>United States Virgin Islands</td><td>quotes</td><td>2</td></tr><tr><td>United States of America</td><td>education</td><td>1</td></tr><tr><td>United States of America</td><td>tattoos</td><td>1</td></tr><tr><td>United States of America</td><td>quotes</td><td>1</td></tr><tr><td>Venezuela</td><td>diy-and-crafts</td><td>1</td></tr><tr><td>Venezuela</td><td>quotes</td><td>1</td></tr><tr><td>Venezuela</td><td>event-planning</td><td>1</td></tr><tr><td>Vietnam</td><td>travel</td><td>1</td></tr><tr><td>Vietnam</td><td>quotes</td><td>1</td></tr><tr><td>Wallis and Futuna</td><td>home-decor</td><td>1</td></tr><tr><td>Yemen</td><td>christmas</td><td>1</td></tr><tr><td>Yemen</td><td>home-decor</td><td>1</td></tr><tr><td>Zambia</td><td>mens-fashion</td><td>1</td></tr></tbody></table></div>"
      ]
     },
     "metadata": {
      "application/vnd.databricks.v1+output": {
       "addedWidgets": {},
       "aggData": [],
       "aggError": "",
       "aggOverflow": false,
       "aggSchema": [],
       "aggSeriesLimitReached": false,
       "aggType": "",
       "arguments": {},
       "columnCustomDisplayInfos": {},
       "data": [
        [
         "Afghanistan",
         "education",
         12
        ],
        [
         "Albania",
         "art",
         19
        ],
        [
         "Algeria",
         "quotes",
         27
        ],
        [
         "American Samoa",
         "tattoos",
         8
        ],
        [
         "Andorra",
         "tattoos",
         9
        ],
        [
         "Angola",
         "diy-and-crafts",
         4
        ],
        [
         "Angola",
         "education",
         4
        ],
        [
         "Anguilla",
         "diy-and-crafts",
         5
        ],
        [
         "Antarctica (the territory South of 60 deg S)",
         "tattoos",
         4
        ],
        [
         "Antigua and Barbuda",
         "art",
         4
        ],
        [
         "Antigua and Barbuda",
         "travel",
         4
        ],
        [
         "Argentina",
         "tattoos",
         9
        ],
        [
         "Armenia",
         "art",
         4
        ],
        [
         "Aruba",
         "christmas",
         9
        ],
        [
         "Australia",
         "mens-fashion",
         3
        ],
        [
         "Austria",
         "tattoos",
         4
        ],
        [
         "Austria",
         "home-decor",
         4
        ],
        [
         "Azerbaijan",
         "finance",
         8
        ],
        [
         "Bahamas",
         "event-planning",
         4
        ],
        [
         "Bahrain",
         "finance",
         3
        ],
        [
         "Bangladesh",
         "christmas",
         7
        ],
        [
         "Barbados",
         "education",
         5
        ],
        [
         "Belarus",
         "travel",
         2
        ],
        [
         "Belgium",
         "travel",
         2
        ],
        [
         "Belgium",
         "diy-and-crafts",
         2
        ],
        [
         "Belgium",
         "christmas",
         2
        ],
        [
         "Belize",
         "diy-and-crafts",
         5
        ],
        [
         "Benin",
         "finance",
         2
        ],
        [
         "Benin",
         "tattoos",
         2
        ],
        [
         "Benin",
         "travel",
         2
        ],
        [
         "Bermuda",
         "christmas",
         4
        ],
        [
         "Bhutan",
         "event-planning",
         2
        ],
        [
         "Bhutan",
         "diy-and-crafts",
         2
        ],
        [
         "Bolivia",
         "home-decor",
         4
        ],
        [
         "Bosnia and Herzegovina",
         "christmas",
         3
        ],
        [
         "Botswana",
         "tattoos",
         2
        ],
        [
         "Bouvet Island (Bouvetoya)",
         "travel",
         3
        ],
        [
         "Brazil",
         "finance",
         2
        ],
        [
         "British Indian Ocean Territory (Chagos Archipelago)",
         "tattoos",
         1
        ],
        [
         "British Indian Ocean Territory (Chagos Archipelago)",
         "diy-and-crafts",
         1
        ],
        [
         "British Indian Ocean Territory (Chagos Archipelago)",
         "mens-fashion",
         1
        ],
        [
         "British Indian Ocean Territory (Chagos Archipelago)",
         "finance",
         1
        ],
        [
         "British Virgin Islands",
         "christmas",
         6
        ],
        [
         "Brunei Darussalam",
         "finance",
         1
        ],
        [
         "Brunei Darussalam",
         "education",
         1
        ],
        [
         "Brunei Darussalam",
         "diy-and-crafts",
         1
        ],
        [
         "Bulgaria",
         "christmas",
         6
        ],
        [
         "Burkina Faso",
         "quotes",
         3
        ],
        [
         "Burundi",
         "mens-fashion",
         2
        ],
        [
         "Cambodia",
         "beauty",
         2
        ],
        [
         "Cambodia",
         "event-planning",
         2
        ],
        [
         "Cambodia",
         "education",
         2
        ],
        [
         "Cambodia",
         "christmas",
         2
        ],
        [
         "Cameroon",
         "art",
         2
        ],
        [
         "Cameroon",
         "christmas",
         2
        ],
        [
         "Cameroon",
         "travel",
         2
        ],
        [
         "Canada",
         "mens-fashion",
         1
        ],
        [
         "Canada",
         "travel",
         1
        ],
        [
         "Canada",
         "christmas",
         1
        ],
        [
         "Canada",
         "tattoos",
         1
        ],
        [
         "Canada",
         "art",
         1
        ],
        [
         "Cape Verde",
         "diy-and-crafts",
         2
        ],
        [
         "Cayman Islands",
         "travel",
         1
        ],
        [
         "Cayman Islands",
         "mens-fashion",
         1
        ],
        [
         "Cayman Islands",
         "art",
         1
        ],
        [
         "Central African Republic",
         "mens-fashion",
         3
        ],
        [
         "Chad",
         "diy-and-crafts",
         2
        ],
        [
         "Chad",
         "mens-fashion",
         2
        ],
        [
         "Chile",
         "quotes",
         1
        ],
        [
         "Chile",
         "travel",
         1
        ],
        [
         "Chile",
         "mens-fashion",
         1
        ],
        [
         "China",
         "finance",
         1
        ],
        [
         "China",
         "quotes",
         1
        ],
        [
         "China",
         "beauty",
         1
        ],
        [
         "Christmas Island",
         "vehicles",
         2
        ],
        [
         "Christmas Island",
         "travel",
         2
        ],
        [
         "Christmas Island",
         "event-planning",
         2
        ],
        [
         "Cocos (Keeling) Islands",
         "travel",
         2
        ],
        [
         "Cocos (Keeling) Islands",
         "finance",
         2
        ],
        [
         "Colombia",
         "home-decor",
         2
        ],
        [
         "Colombia",
         "finance",
         2
        ],
        [
         "Comoros",
         "quotes",
         2
        ],
        [
         "Comoros",
         "event-planning",
         2
        ],
        [
         "Congo",
         "home-decor",
         3
        ],
        [
         "Cook Islands",
         "travel",
         1
        ],
        [
         "Cook Islands",
         "vehicles",
         1
        ],
        [
         "Costa Rica",
         "home-decor",
         2
        ],
        [
         "Costa Rica",
         "christmas",
         2
        ],
        [
         "Cote d'Ivoire",
         "finance",
         2
        ],
        [
         "Cote d'Ivoire",
         "event-planning",
         2
        ],
        [
         "Cote d'Ivoire",
         "diy-and-crafts",
         2
        ],
        [
         "Cote d'Ivoire",
         "travel",
         2
        ],
        [
         "Croatia",
         "finance",
         4
        ],
        [
         "Cuba",
         "mens-fashion",
         1
        ],
        [
         "Cuba",
         "vehicles",
         1
        ],
        [
         "Cuba",
         "home-decor",
         1
        ],
        [
         "Cuba",
         "diy-and-crafts",
         1
        ],
        [
         "Cyprus",
         "home-decor",
         2
        ],
        [
         "Cyprus",
         "vehicles",
         2
        ],
        [
         "Czech Republic",
         "travel",
         3
        ],
        [
         "Denmark",
         "mens-fashion",
         1
        ],
        [
         "Denmark",
         "beauty",
         1
        ],
        [
         "Djibouti",
         "diy-and-crafts",
         3
        ],
        [
         "Dominica",
         "event-planning",
         2
        ],
        [
         "Dominican Republic",
         "finance",
         3
        ],
        [
         "Ecuador",
         "mens-fashion",
         2
        ],
        [
         "Egypt",
         "home-decor",
         3
        ],
        [
         "El Salvador",
         "travel",
         1
        ],
        [
         "El Salvador",
         "quotes",
         1
        ],
        [
         "El Salvador",
         "beauty",
         1
        ],
        [
         "El Salvador",
         "event-planning",
         1
        ],
        [
         "Equatorial Guinea",
         "event-planning",
         1
        ],
        [
         "Equatorial Guinea",
         "travel",
         1
        ],
        [
         "Equatorial Guinea",
         "mens-fashion",
         1
        ],
        [
         "Eritrea",
         "art",
         1
        ],
        [
         "Estonia",
         "christmas",
         1
        ],
        [
         "Estonia",
         "diy-and-crafts",
         1
        ],
        [
         "Estonia",
         "vehicles",
         1
        ],
        [
         "Ethiopia",
         "finance",
         1
        ],
        [
         "Ethiopia",
         "travel",
         1
        ],
        [
         "Ethiopia",
         "tattoos",
         1
        ],
        [
         "Falkland Islands (Malvinas)",
         "event-planning",
         2
        ],
        [
         "Faroe Islands",
         "event-planning",
         2
        ],
        [
         "Fiji",
         "mens-fashion",
         2
        ],
        [
         "Finland",
         "beauty",
         2
        ],
        [
         "Finland",
         "finance",
         2
        ],
        [
         "France",
         "art",
         2
        ],
        [
         "France",
         "beauty",
         2
        ],
        [
         "French Guiana",
         "art",
         1
        ],
        [
         "French Guiana",
         "quotes",
         1
        ],
        [
         "French Guiana",
         "finance",
         1
        ],
        [
         "French Guiana",
         "diy-and-crafts",
         1
        ],
        [
         "French Guiana",
         "education",
         1
        ],
        [
         "French Polynesia",
         "event-planning",
         3
        ],
        [
         "French Southern Territories",
         "art",
         1
        ],
        [
         "French Southern Territories",
         "finance",
         1
        ],
        [
         "French Southern Territories",
         "travel",
         1
        ],
        [
         "French Southern Territories",
         "home-decor",
         1
        ],
        [
         "Gabon",
         "travel",
         2
        ],
        [
         "Georgia",
         "education",
         3
        ],
        [
         "Germany",
         "finance",
         2
        ],
        [
         "Ghana",
         "finance",
         1
        ],
        [
         "Ghana",
         "beauty",
         1
        ],
        [
         "Ghana",
         "art",
         1
        ],
        [
         "Gibraltar",
         "travel",
         2
        ],
        [
         "Greece",
         "mens-fashion",
         2
        ],
        [
         "Greenland",
         "christmas",
         1
        ],
        [
         "Greenland",
         "travel",
         1
        ],
        [
         "Greenland",
         "education",
         1
        ],
        [
         "Grenada",
         "vehicles",
         1
        ],
        [
         "Grenada",
         "mens-fashion",
         1
        ],
        [
         "Grenada",
         "finance",
         1
        ],
        [
         "Grenada",
         "quotes",
         1
        ],
        [
         "Guadeloupe",
         "christmas",
         2
        ],
        [
         "Guam",
         "travel",
         1
        ],
        [
         "Guam",
         "mens-fashion",
         1
        ],
        [
         "Guatemala",
         "finance",
         1
        ],
        [
         "Guatemala",
         "mens-fashion",
         1
        ],
        [
         "Guatemala",
         "art",
         1
        ],
        [
         "Guatemala",
         "diy-and-crafts",
         1
        ],
        [
         "Guatemala",
         "home-decor",
         1
        ],
        [
         "Guatemala",
         "christmas",
         1
        ],
        [
         "Guernsey",
         "tattoos",
         1
        ],
        [
         "Guernsey",
         "mens-fashion",
         1
        ],
        [
         "Guernsey",
         "home-decor",
         1
        ],
        [
         "Guinea",
         "christmas",
         1
        ],
        [
         "Guinea",
         "vehicles",
         1
        ],
        [
         "Guinea",
         "diy-and-crafts",
         1
        ],
        [
         "Guinea",
         "finance",
         1
        ],
        [
         "Guinea-Bissau",
         "travel",
         2
        ],
        [
         "Guyana",
         "tattoos",
         1
        ],
        [
         "Guyana",
         "home-decor",
         1
        ],
        [
         "Haiti",
         "home-decor",
         1
        ],
        [
         "Haiti",
         "christmas",
         1
        ],
        [
         "Haiti",
         "finance",
         1
        ],
        [
         "Heard Island and McDonald Islands",
         "mens-fashion",
         2
        ],
        [
         "Heard Island and McDonald Islands",
         "vehicles",
         2
        ],
        [
         "Holy See (Vatican City State)",
         "mens-fashion",
         1
        ],
        [
         "Honduras",
         "event-planning",
         1
        ],
        [
         "Honduras",
         "beauty",
         1
        ],
        [
         "Hong Kong",
         "home-decor",
         2
        ],
        [
         "Hungary",
         "vehicles",
         3
        ],
        [
         "Iceland",
         "diy-and-crafts",
         1
        ],
        [
         "India",
         "travel",
         1
        ],
        [
         "India",
         "tattoos",
         1
        ],
        [
         "India",
         "finance",
         1
        ],
        [
         "India",
         "art",
         1
        ],
        [
         "India",
         "event-planning",
         1
        ],
        [
         "India",
         "beauty",
         1
        ],
        [
         "India",
         "diy-and-crafts",
         1
        ],
        [
         "Indonesia",
         "finance",
         4
        ],
        [
         "Iran",
         "christmas",
         2
        ],
        [
         "Iran",
         "art",
         2
        ],
        [
         "Iraq",
         "christmas",
         1
        ],
        [
         "Iraq",
         "tattoos",
         1
        ],
        [
         "Ireland",
         "mens-fashion",
         1
        ],
        [
         "Ireland",
         "home-decor",
         1
        ],
        [
         "Ireland",
         "tattoos",
         1
        ],
        [
         "Ireland",
         "event-planning",
         1
        ],
        [
         "Isle of Man",
         "art",
         2
        ],
        [
         "Israel",
         "art",
         1
        ],
        [
         "Israel",
         "quotes",
         1
        ],
        [
         "Israel",
         "finance",
         1
        ],
        [
         "Israel",
         "education",
         1
        ],
        [
         "Italy",
         "beauty",
         1
        ],
        [
         "Jamaica",
         "finance",
         2
        ],
        [
         "Japan",
         "vehicles",
         1
        ],
        [
         "Japan",
         "art",
         1
        ],
        [
         "Japan",
         "beauty",
         1
        ],
        [
         "Japan",
         "mens-fashion",
         1
        ],
        [
         "Jersey",
         "quotes",
         1
        ],
        [
         "Jersey",
         "mens-fashion",
         1
        ],
        [
         "Kazakhstan",
         "beauty",
         1
        ],
        [
         "Kazakhstan",
         "tattoos",
         1
        ],
        [
         "Kazakhstan",
         "home-decor",
         1
        ],
        [
         "Kazakhstan",
         "christmas",
         1
        ],
        [
         "Kenya",
         "diy-and-crafts",
         2
        ],
        [
         "Kiribati",
         "beauty",
         1
        ],
        [
         "Kiribati",
         "christmas",
         1
        ],
        [
         "Korea",
         "travel",
         2
        ],
        [
         "Korea",
         "mens-fashion",
         2
        ],
        [
         "Kuwait",
         "christmas",
         2
        ],
        [
         "Kyrgyz Republic",
         "vehicles",
         1
        ],
        [
         "Kyrgyz Republic",
         "education",
         1
        ],
        [
         "Lao People's Democratic Republic",
         "quotes",
         1
        ],
        [
         "Latvia",
         "home-decor",
         1
        ],
        [
         "Latvia",
         "beauty",
         1
        ],
        [
         "Latvia",
         "mens-fashion",
         1
        ],
        [
         "Lebanon",
         "quotes",
         3
        ],
        [
         "Lesotho",
         "art",
         3
        ],
        [
         "Liberia",
         "beauty",
         1
        ],
        [
         "Liberia",
         "event-planning",
         1
        ],
        [
         "Liberia",
         "christmas",
         1
        ],
        [
         "Libyan Arab Jamahiriya",
         "christmas",
         2
        ],
        [
         "Liechtenstein",
         "mens-fashion",
         2
        ],
        [
         "Lithuania",
         "diy-and-crafts",
         1
        ],
        [
         "Lithuania",
         "tattoos",
         1
        ],
        [
         "Lithuania",
         "education",
         1
        ],
        [
         "Luxembourg",
         "education",
         1
        ],
        [
         "Luxembourg",
         "diy-and-crafts",
         1
        ],
        [
         "Macao",
         "mens-fashion",
         1
        ],
        [
         "Macao",
         "vehicles",
         1
        ],
        [
         "Macao",
         "education",
         1
        ],
        [
         "Macao",
         "quotes",
         1
        ],
        [
         "Macedonia",
         "tattoos",
         1
        ],
        [
         "Madagascar",
         "mens-fashion",
         1
        ],
        [
         "Madagascar",
         "event-planning",
         1
        ],
        [
         "Madagascar",
         "quotes",
         1
        ],
        [
         "Malawi",
         "travel",
         1
        ],
        [
         "Malawi",
         "vehicles",
         1
        ],
        [
         "Maldives",
         "event-planning",
         2
        ],
        [
         "Maldives",
         "finance",
         2
        ],
        [
         "Mali",
         "mens-fashion",
         1
        ],
        [
         "Mali",
         "christmas",
         1
        ],
        [
         "Malta",
         "beauty",
         2
        ],
        [
         "Marshall Islands",
         "vehicles",
         1
        ],
        [
         "Marshall Islands",
         "home-decor",
         1
        ],
        [
         "Marshall Islands",
         "travel",
         1
        ],
        [
         "Martinique",
         "quotes",
         1
        ],
        [
         "Martinique",
         "event-planning",
         1
        ],
        [
         "Mauritania",
         "christmas",
         1
        ],
        [
         "Mauritania",
         "education",
         1
        ],
        [
         "Mauritius",
         "mens-fashion",
         1
        ],
        [
         "Mayotte",
         "christmas",
         1
        ],
        [
         "Mayotte",
         "diy-and-crafts",
         1
        ],
        [
         "Mayotte",
         "beauty",
         1
        ],
        [
         "Mexico",
         "vehicles",
         2
        ],
        [
         "Micronesia",
         "christmas",
         1
        ],
        [
         "Micronesia",
         "travel",
         1
        ],
        [
         "Moldova",
         "beauty",
         1
        ],
        [
         "Moldova",
         "home-decor",
         1
        ],
        [
         "Monaco",
         "art",
         2
        ],
        [
         "Mongolia",
         "mens-fashion",
         1
        ],
        [
         "Mongolia",
         "tattoos",
         1
        ],
        [
         "Mongolia",
         "vehicles",
         1
        ],
        [
         "Montserrat",
         "education",
         1
        ],
        [
         "Montserrat",
         "art",
         1
        ],
        [
         "Montserrat",
         "event-planning",
         1
        ],
        [
         "Montserrat",
         "tattoos",
         1
        ],
        [
         "Morocco",
         "quotes",
         2
        ],
        [
         "Mozambique",
         "home-decor",
         1
        ],
        [
         "Mozambique",
         "art",
         1
        ],
        [
         "Mozambique",
         "finance",
         1
        ],
        [
         "Mozambique",
         "mens-fashion",
         1
        ],
        [
         "Myanmar",
         "christmas",
         1
        ],
        [
         "Namibia",
         "quotes",
         1
        ],
        [
         "Namibia",
         "vehicles",
         1
        ],
        [
         "Namibia",
         "event-planning",
         1
        ],
        [
         "Nauru",
         "beauty",
         3
        ],
        [
         "Nepal",
         "christmas",
         1
        ],
        [
         "Nepal",
         "finance",
         1
        ],
        [
         "Netherlands",
         "home-decor",
         3
        ],
        [
         "Netherlands Antilles",
         "beauty",
         1
        ],
        [
         "Netherlands Antilles",
         "art",
         1
        ],
        [
         "New Caledonia",
         "mens-fashion",
         1
        ],
        [
         "New Caledonia",
         "art",
         1
        ],
        [
         "New Caledonia",
         "travel",
         1
        ],
        [
         "New Zealand",
         "quotes",
         2
        ],
        [
         "Nicaragua",
         "mens-fashion",
         2
        ],
        [
         "Nicaragua",
         "home-decor",
         2
        ],
        [
         "Niger",
         "education",
         1
        ],
        [
         "Niger",
         "art",
         1
        ],
        [
         "Niger",
         "beauty",
         1
        ],
        [
         "Nigeria",
         "education",
         1
        ],
        [
         "Nigeria",
         "christmas",
         1
        ],
        [
         "Nigeria",
         "mens-fashion",
         1
        ],
        [
         "Niue",
         "quotes",
         2
        ],
        [
         "Norfolk Island",
         "mens-fashion",
         1
        ],
        [
         "Norfolk Island",
         "event-planning",
         1
        ],
        [
         "Norfolk Island",
         "beauty",
         1
        ],
        [
         "Norway",
         "art",
         1
        ],
        [
         "Norway",
         "home-decor",
         1
        ],
        [
         "Norway",
         "travel",
         1
        ],
        [
         "Oman",
         "beauty",
         1
        ],
        [
         "Pakistan",
         "vehicles",
         1
        ],
        [
         "Pakistan",
         "christmas",
         1
        ],
        [
         "Palestinian Territory",
         "vehicles",
         1
        ],
        [
         "Palestinian Territory",
         "art",
         1
        ],
        [
         "Palestinian Territory",
         "quotes",
         1
        ],
        [
         "Palestinian Territory",
         "event-planning",
         1
        ],
        [
         "Panama",
         "event-planning",
         1
        ],
        [
         "Panama",
         "vehicles",
         1
        ],
        [
         "Panama",
         "beauty",
         1
        ],
        [
         "Panama",
         "travel",
         1
        ],
        [
         "Papua New Guinea",
         "quotes",
         3
        ],
        [
         "Paraguay",
         "vehicles",
         1
        ],
        [
         "Paraguay",
         "event-planning",
         1
        ],
        [
         "Peru",
         "art",
         1
        ],
        [
         "Peru",
         "tattoos",
         1
        ],
        [
         "Peru",
         "vehicles",
         1
        ],
        [
         "Philippines",
         "vehicles",
         1
        ],
        [
         "Philippines",
         "event-planning",
         1
        ],
        [
         "Pitcairn Islands",
         "diy-and-crafts",
         2
        ],
        [
         "Poland",
         "event-planning",
         1
        ],
        [
         "Poland",
         "beauty",
         1
        ],
        [
         "Portugal",
         "event-planning",
         1
        ],
        [
         "Portugal",
         "diy-and-crafts",
         1
        ],
        [
         "Puerto Rico",
         "christmas",
         2
        ],
        [
         "Qatar",
         "beauty",
         2
        ],
        [
         "Romania",
         "tattoos",
         1
        ],
        [
         "Romania",
         "art",
         1
        ],
        [
         "Romania",
         "quotes",
         1
        ],
        [
         "Romania",
         "vehicles",
         1
        ],
        [
         "Russian Federation",
         "home-decor",
         1
        ],
        [
         "Rwanda",
         "travel",
         1
        ],
        [
         "Saint Barthelemy",
         "mens-fashion",
         1
        ],
        [
         "Saint Barthelemy",
         "education",
         1
        ],
        [
         "Saint Helena",
         "art",
         1
        ],
        [
         "Saint Helena",
         "beauty",
         1
        ],
        [
         "Saint Kitts and Nevis",
         "home-decor",
         1
        ],
        [
         "Saint Kitts and Nevis",
         "event-planning",
         1
        ],
        [
         "Saint Kitts and Nevis",
         "vehicles",
         1
        ],
        [
         "Saint Kitts and Nevis",
         "education",
         1
        ],
        [
         "Saint Kitts and Nevis",
         "beauty",
         1
        ],
        [
         "Saint Martin",
         "quotes",
         1
        ],
        [
         "Saint Martin",
         "christmas",
         1
        ],
        [
         "Saint Pierre and Miquelon",
         "mens-fashion",
         3
        ],
        [
         "Saint Vincent and the Grenadines",
         "christmas",
         1
        ],
        [
         "Saint Vincent and the Grenadines",
         "quotes",
         1
        ],
        [
         "Samoa",
         "finance",
         1
        ],
        [
         "Samoa",
         "vehicles",
         1
        ],
        [
         "Samoa",
         "diy-and-crafts",
         1
        ],
        [
         "San Marino",
         "art",
         1
        ],
        [
         "San Marino",
         "mens-fashion",
         1
        ],
        [
         "Sao Tome and Principe",
         "tattoos",
         1
        ],
        [
         "Sao Tome and Principe",
         "finance",
         1
        ],
        [
         "Saudi Arabia",
         "finance",
         1
        ],
        [
         "Saudi Arabia",
         "beauty",
         1
        ],
        [
         "Senegal",
         "beauty",
         1
        ],
        [
         "Serbia",
         "travel",
         1
        ],
        [
         "Seychelles",
         "tattoos",
         1
        ],
        [
         "Seychelles",
         "beauty",
         1
        ],
        [
         "Singapore",
         "vehicles",
         1
        ],
        [
         "Singapore",
         "mens-fashion",
         1
        ],
        [
         "Singapore",
         "education",
         1
        ],
        [
         "Singapore",
         "event-planning",
         1
        ],
        [
         "Singapore",
         "travel",
         1
        ],
        [
         "Slovakia (Slovak Republic)",
         "vehicles",
         1
        ],
        [
         "Slovakia (Slovak Republic)",
         "finance",
         1
        ],
        [
         "Slovenia",
         "beauty",
         1
        ],
        [
         "Solomon Islands",
         "vehicles",
         2
        ],
        [
         "Somalia",
         "quotes",
         1
        ],
        [
         "Somalia",
         "vehicles",
         1
        ],
        [
         "Somalia",
         "event-planning",
         1
        ],
        [
         "Somalia",
         "travel",
         1
        ],
        [
         "South Africa",
         "vehicles",
         1
        ],
        [
         "South Georgia and the South Sandwich Islands",
         "vehicles",
         1
        ],
        [
         "South Georgia and the South Sandwich Islands",
         "event-planning",
         1
        ],
        [
         "Sri Lanka",
         "mens-fashion",
         1
        ],
        [
         "Sri Lanka",
         "finance",
         1
        ],
        [
         "Sudan",
         "art",
         1
        ],
        [
         "Sudan",
         "education",
         1
        ],
        [
         "Sudan",
         "home-decor",
         1
        ],
        [
         "Sudan",
         "mens-fashion",
         1
        ],
        [
         "Svalbard & Jan Mayen Islands",
         "travel",
         1
        ],
        [
         "Svalbard & Jan Mayen Islands",
         "beauty",
         1
        ],
        [
         "Swaziland",
         "travel",
         1
        ],
        [
         "Sweden",
         "finance",
         1
        ],
        [
         "Sweden",
         "mens-fashion",
         1
        ],
        [
         "Sweden",
         "diy-and-crafts",
         1
        ],
        [
         "Sweden",
         "event-planning",
         1
        ],
        [
         "Switzerland",
         "quotes",
         1
        ],
        [
         "Taiwan",
         "mens-fashion",
         1
        ],
        [
         "Tajikistan",
         "beauty",
         1
        ],
        [
         "Tajikistan",
         "travel",
         1
        ],
        [
         "Tanzania",
         "travel",
         1
        ],
        [
         "Tanzania",
         "art",
         1
        ],
        [
         "Thailand",
         "home-decor",
         1
        ],
        [
         "Thailand",
         "event-planning",
         1
        ],
        [
         "Togo",
         "christmas",
         1
        ],
        [
         "Tokelau",
         "beauty",
         1
        ],
        [
         "Tonga",
         "beauty",
         1
        ],
        [
         "Trinidad and Tobago",
         "christmas",
         1
        ],
        [
         "Trinidad and Tobago",
         "vehicles",
         1
        ],
        [
         "Tunisia",
         "diy-and-crafts",
         1
        ],
        [
         "Tunisia",
         "travel",
         1
        ],
        [
         "Turkey",
         "education",
         2
        ],
        [
         "Turkmenistan",
         "diy-and-crafts",
         1
        ],
        [
         "Turkmenistan",
         "event-planning",
         1
        ],
        [
         "Turkmenistan",
         "travel",
         1
        ],
        [
         "Turks and Caicos Islands",
         "event-planning",
         1
        ],
        [
         "Turks and Caicos Islands",
         "tattoos",
         1
        ],
        [
         "Turks and Caicos Islands",
         "vehicles",
         1
        ],
        [
         "Tuvalu",
         "tattoos",
         1
        ],
        [
         "Uganda",
         "event-planning",
         3
        ],
        [
         "Ukraine",
         "finance",
         1
        ],
        [
         "United Kingdom",
         "quotes",
         1
        ],
        [
         "United States Virgin Islands",
         "quotes",
         2
        ],
        [
         "United States of America",
         "education",
         1
        ],
        [
         "United States of America",
         "tattoos",
         1
        ],
        [
         "United States of America",
         "quotes",
         1
        ],
        [
         "Venezuela",
         "diy-and-crafts",
         1
        ],
        [
         "Venezuela",
         "quotes",
         1
        ],
        [
         "Venezuela",
         "event-planning",
         1
        ],
        [
         "Vietnam",
         "travel",
         1
        ],
        [
         "Vietnam",
         "quotes",
         1
        ],
        [
         "Wallis and Futuna",
         "home-decor",
         1
        ],
        [
         "Yemen",
         "christmas",
         1
        ],
        [
         "Yemen",
         "home-decor",
         1
        ],
        [
         "Zambia",
         "mens-fashion",
         1
        ]
       ],
       "datasetInfos": [],
       "dbfsResultPath": null,
       "isJsonSchema": true,
       "metadata": {},
       "overflow": false,
       "plotOptions": {
        "customPlotOptions": {},
        "displayType": "table",
        "pivotAggregation": null,
        "pivotColumns": null,
        "xColumns": null,
        "yColumns": null
       },
       "removedWidgets": [],
       "schema": [
        {
         "metadata": "{}",
         "name": "country",
         "type": "\"string\""
        },
        {
         "metadata": "{}",
         "name": "category",
         "type": "\"string\""
        },
        {
         "metadata": "{}",
         "name": "category_count",
         "type": "\"long\""
        }
       ],
       "type": "table"
      }
     },
     "output_type": "display_data"
    }
   ],
   "source": [
    "# Finding the most popular category in each country:\n",
    "# Creating a temporary dataframe which joins the geo and pin dataframes on ind:\n",
    "temp_df1 = df_geo_0e1f6d6285c1.join(df_pin_0e1f6d6285c1, on=['ind'])\n",
    "\n",
    "# Grouping by 'country', 'category', and count the number of pins in each category within each country\n",
    "grouped_df1 = temp_df1.groupBy('country', 'category').agg(count('*').alias('category_count'))\n",
    "\n",
    "# Using a window function to rank the categories within each country\n",
    "window_spec1 = Window.partitionBy('country').orderBy(desc('category_count'))\n",
    "\n",
    "# Creating a dataframe where there is a ranking column which ranks over the above specified window:\n",
    "ranked_df1 = grouped_df1.withColumn('rank', rank().over(window_spec1))\n",
    "\n",
    "# Filtering for rows where rank is 1 (top category)\n",
    "max_categories_df = ranked_df1.filter(col('rank') == 1)\n",
    "\n",
    "# Selecting the relevant columns for the final result\n",
    "top_categories_per_country_df = max_categories_df.select('country', 'category', 'category_count')\n",
    "\n",
    "# Shownig the result\n",
    "top_categories_per_country_df.display()"
   ]
  },
  {
   "cell_type": "code",
   "execution_count": 0,
   "metadata": {
    "application/vnd.databricks.v1+cell": {
     "cellMetadata": {
      "byteLimit": 2048000,
      "rowLimit": 10000
     },
     "inputWidgets": {},
     "nuid": "99f0f37d-5c54-4513-b644-75c3486ea219",
     "showTitle": false,
     "title": ""
    }
   },
   "outputs": [
    {
     "output_type": "display_data",
     "data": {
      "text/html": [
       "<style scoped>\n",
       "  .table-result-container {\n",
       "    max-height: 300px;\n",
       "    overflow: auto;\n",
       "  }\n",
       "  table, th, td {\n",
       "    border: 1px solid black;\n",
       "    border-collapse: collapse;\n",
       "  }\n",
       "  th, td {\n",
       "    padding: 5px;\n",
       "  }\n",
       "  th {\n",
       "    text-align: left;\n",
       "  }\n",
       "</style><div class='table-result-container'><table class='table-result'><thead style='background-color: white'><tr><th>post_year</th><th>category</th><th>category_count</th></tr></thead><tbody><tr><td>2018</td><td>christmas</td><td>34</td></tr><tr><td>2019</td><td>art</td><td>26</td></tr><tr><td>2020</td><td>finance</td><td>26</td></tr><tr><td>2021</td><td>education</td><td>28</td></tr><tr><td>2022</td><td>christmas</td><td>32</td></tr></tbody></table></div>"
      ]
     },
     "metadata": {
      "application/vnd.databricks.v1+output": {
       "addedWidgets": {},
       "aggData": [],
       "aggError": "",
       "aggOverflow": false,
       "aggSchema": [],
       "aggSeriesLimitReached": false,
       "aggType": "",
       "arguments": {},
       "columnCustomDisplayInfos": {},
       "data": [
        [
         2018,
         "christmas",
         34
        ],
        [
         2019,
         "art",
         26
        ],
        [
         2020,
         "finance",
         26
        ],
        [
         2021,
         "education",
         28
        ],
        [
         2022,
         "christmas",
         32
        ]
       ],
       "datasetInfos": [],
       "dbfsResultPath": null,
       "isJsonSchema": true,
       "metadata": {},
       "overflow": false,
       "plotOptions": {
        "customPlotOptions": {},
        "displayType": "table",
        "pivotAggregation": null,
        "pivotColumns": null,
        "xColumns": null,
        "yColumns": null
       },
       "removedWidgets": [],
       "schema": [
        {
         "metadata": "{}",
         "name": "post_year",
         "type": "\"integer\""
        },
        {
         "metadata": "{}",
         "name": "category",
         "type": "\"string\""
        },
        {
         "metadata": "{}",
         "name": "category_count",
         "type": "\"long\""
        }
       ],
       "type": "table"
      }
     },
     "output_type": "display_data"
    }
   ],
   "source": [
    "# Finding the most popular category in each year:\n",
    "\n",
    "# Creating a temporary geo dataframe which also has a 'post_year' column:\n",
    "temp_geo_df = df_geo_0e1f6d6285c1.withColumn(\"post_year\", year(\"timestamp\"))\n",
    "\n",
    "# Filtering for years between 2018 and 2022\n",
    "temp_geo_df = temp_geo_df.filter((col(\"post_year\") >= 2018) & (col(\"post_year\") <= 2022))\n",
    "\n",
    "# Creating a temporary dataframe which joins the geo and pin dataframes on ind:\n",
    "temp_df2 = temp_geo_df.join(df_pin_0e1f6d6285c1, on=['ind'])\n",
    "\n",
    "# Grouping by 'timestamp' (post_year), 'category', and count the number of pins in each category within each year\n",
    "grouped_df2 = temp_df2.groupBy('post_year', 'category').agg(count('*').alias('category_count'))\n",
    "\n",
    "# Using a window function to rank the categories within each year:\n",
    "window_spec2 = Window.partitionBy('post_year').orderBy(desc('category_count'))\n",
    "\n",
    "# Creating a dataframe where there is a ranking column which ranks over the above specified window:\n",
    "ranked_df2 = grouped_df2.withColumn('rank', rank().over(window_spec2))\n",
    "\n",
    "# Filtering for rows where rank is 1 (top category)\n",
    "max_year_categories_df = ranked_df2.filter(col('rank') == 1)\n",
    "\n",
    "# Selecting the relevant columns for the final result\n",
    "top_categories_per_year_df = max_year_categories_df.select('post_year', 'category', 'category_count')\n",
    "\n",
    "# Showing the result\n",
    "top_categories_per_year_df.display()"
   ]
  },
  {
   "cell_type": "code",
   "execution_count": 0,
   "metadata": {
    "application/vnd.databricks.v1+cell": {
     "cellMetadata": {
      "byteLimit": 2048000,
      "rowLimit": 10000
     },
     "inputWidgets": {},
     "nuid": "2255b2a4-6979-4540-ad7a-cddba994d6f0",
     "showTitle": false,
     "title": ""
    }
   },
   "outputs": [
    {
     "output_type": "display_data",
     "data": {
      "text/html": [
       "<style scoped>\n",
       "  .table-result-container {\n",
       "    max-height: 300px;\n",
       "    overflow: auto;\n",
       "  }\n",
       "  table, th, td {\n",
       "    border: 1px solid black;\n",
       "    border-collapse: collapse;\n",
       "  }\n",
       "  th, td {\n",
       "    padding: 5px;\n",
       "  }\n",
       "  th {\n",
       "    text-align: left;\n",
       "  }\n",
       "</style><div class='table-result-container'><table class='table-result'><thead style='background-color: white'><tr><th>country</th><th>poster_name</th><th>follower_count</th></tr></thead><tbody><tr><td>Afghanistan</td><td>9GAG</td><td>3000000</td></tr><tr><td>Albania</td><td>The Minds Journal</td><td>5000000</td></tr><tr><td>Algeria</td><td>Apartment Therapy</td><td>5000000</td></tr><tr><td>American Samoa</td><td>Mamas Uncut</td><td>8000000</td></tr><tr><td>Andorra</td><td>Teachers Pay Teachers</td><td>1000000</td></tr><tr><td>Angola</td><td>Tastemade</td><td>8000000</td></tr><tr><td>Anguilla</td><td>Kristen | Lifestyle, Mom Tips & Teacher Stuff Blog</td><td>92000</td></tr><tr><td>Antarctica (the territory South of 60 deg S)</td><td>Refinery29</td><td>1000000</td></tr><tr><td>Antigua and Barbuda</td><td>Country Living Magazine</td><td>1000000</td></tr><tr><td>Argentina</td><td>Cheezburger</td><td>2000000</td></tr><tr><td>Armenia</td><td>Michelle {CraftyMorning.com}</td><td>892000</td></tr><tr><td>Aruba</td><td>GQ Magazine</td><td>874000</td></tr><tr><td>Australia</td><td>Mujer de 10 </td><td>2000000</td></tr><tr><td>Austria</td><td>Allwomenstalk - girl rules </td><td>813000</td></tr><tr><td>Azerbaijan</td><td>Style Me Pretty</td><td>6000000</td></tr><tr><td>Bahamas</td><td>Handmade Charlotte</td><td>948000</td></tr><tr><td>Bahrain</td><td>Rainy Day Mum</td><td>337000</td></tr><tr><td>Bangladesh</td><td>Better Homes and Gardens</td><td>4000000</td></tr><tr><td>Barbados</td><td>The Creativity Exchange</td><td>410000</td></tr><tr><td>Belarus</td><td>Prudent Penny Pincher - Home Decor, Organization, Crafts, Recipes</td><td>648000</td></tr><tr><td>Belgium</td><td>The Krazy Coupon Lady</td><td>433000</td></tr><tr><td>Belize</td><td>Easy Kids Crafts & Activities | Preschool & Kindergarten Ideas</td><td>267000</td></tr><tr><td>Benin</td><td>Penny Pinchin Mom |  Budget, Get out of Debt, Save Money & More!</td><td>113000</td></tr><tr><td>Bermuda</td><td>Life on Summerhill | Home, Holiday Decor & DIY Website</td><td>46000</td></tr><tr><td>Bhutan</td><td>Esquire Magazine</td><td>130000</td></tr><tr><td>Bolivia</td><td>Squarespace</td><td>328000</td></tr><tr><td>Bosnia and Herzegovina</td><td>Stylesatlife</td><td>388000</td></tr><tr><td>Botswana</td><td>OkChicas</td><td>3000000</td></tr><tr><td>Bouvet Island (Bouvetoya)</td><td>POPSUGAR</td><td>5000000</td></tr><tr><td>Brazil</td><td>Budget with Rachel</td><td>11000</td></tr><tr><td>British Indian Ocean Territory (Chagos Archipelago)</td><td>Design Rulz</td><td>248000</td></tr><tr><td>British Virgin Islands</td><td>Kitchen Fun With My 3 Sons</td><td>245000</td></tr><tr><td>Brunei Darussalam</td><td>Kids Craft Room</td><td>277000</td></tr><tr><td>Bulgaria</td><td>Half Baked Harvest</td><td>912000</td></tr><tr><td>Burkina Faso</td><td>Behance</td><td>6000000</td></tr><tr><td>Burundi</td><td>Macho Moda</td><td>620000</td></tr><tr><td>Cambodia</td><td>Catch My Party</td><td>2000000</td></tr><tr><td>Cameroon</td><td>The Blonde Abroad</td><td>123000</td></tr><tr><td>Canada</td><td>Giorgenti New York</td><td>258000</td></tr><tr><td>Cape Verde</td><td>Sand and Sisal</td><td>178000</td></tr><tr><td>Cayman Islands</td><td>InStyle</td><td>1000000</td></tr><tr><td>Central African Republic</td><td>PureWow</td><td>868000</td></tr><tr><td>Chad</td><td>Glued To My Crafts</td><td>226000</td></tr><tr><td>Chile</td><td>Amber Strong - The Maker’s Map | DIY’s, Crafts & Home Decor</td><td>19000</td></tr><tr><td>China</td><td>Empowered Sustenance</td><td>127000</td></tr><tr><td>Christmas Island</td><td>Instructables</td><td>3000000</td></tr><tr><td>Cocos (Keeling) Islands</td><td>How Does She</td><td>709000</td></tr><tr><td>Colombia</td><td>Pretty My Party - Party Ideas</td><td>239000</td></tr><tr><td>Comoros</td><td>Ruffled</td><td>4000000</td></tr><tr><td>Congo</td><td>Virginia | Fynes Designs : Home Decor, Easy DIY’s, Lifestyle</td><td>410000</td></tr><tr><td>Cook Islands</td><td>The Spring Break Family - Family Travel</td><td>1000</td></tr><tr><td>Costa Rica</td><td>Martha Stewart Living</td><td>2000000</td></tr><tr><td>Cote d'Ivoire</td><td>Mom Junction</td><td>565000</td></tr><tr><td>Croatia</td><td>Live Like You Are Rich | Finances, Pregnancy, Recipes & More</td><td>134000</td></tr><tr><td>Cuba</td><td>Listotic - Easy Ideas | Fun DIY Projects | Easy Recipes | Lists</td><td>307000</td></tr><tr><td>Cyprus</td><td>Porchdotcom</td><td>117000</td></tr><tr><td>Czech Republic</td><td>Tatertots and Jello .com</td><td>398000</td></tr><tr><td>Denmark</td><td>A Life Adjacent</td><td>36000</td></tr><tr><td>Djibouti</td><td>Instrupix | Lilly Childers</td><td>275000</td></tr><tr><td>Dominica</td><td>Monique - Living Life and Learning</td><td>67000</td></tr><tr><td>Dominican Republic</td><td>Wonder Forest</td><td>104000</td></tr><tr><td>Ecuador</td><td>LABONNI</td><td>84000</td></tr><tr><td>Egypt</td><td>Allure</td><td>346000</td></tr><tr><td>El Salvador</td><td>Power of Positivity</td><td>221000</td></tr><tr><td>Equatorial Guinea</td><td>Whisper Wanderlust * Travel Blog</td><td>10000</td></tr><tr><td>Eritrea</td><td>Core77</td><td>105000</td></tr><tr><td>Estonia</td><td>Morgan |  Modernly Morgan</td><td>13000</td></tr><tr><td>Ethiopia</td><td>Sarah Wahl | Crestfox</td><td>17000</td></tr><tr><td>Falkland Islands (Malvinas)</td><td>Victoria Magazine</td><td>59000</td></tr><tr><td>Faroe Islands</td><td>Veterans United Home Loans</td><td>11000</td></tr><tr><td>Fiji</td><td>Teach Create Motivate</td><td>41000</td></tr><tr><td>Finland</td><td>Amee</td><td>79000</td></tr><tr><td>France</td><td>Hello Lovely</td><td>115000</td></tr><tr><td>French Guiana</td><td>Sweet Red Poppy Free Sewing Patterns, Cut Files & Craft Tutorials</td><td>241000</td></tr><tr><td>French Polynesia</td><td>The Printable Princess</td><td>52000</td></tr><tr><td>French Southern Territories</td><td>Don't Waste the Crumbs</td><td>119000</td></tr><tr><td>Gabon</td><td>Angela Watson's Truth for Teachers</td><td>88000</td></tr><tr><td>Georgia</td><td>Susie Allison | Busy Toddler</td><td>203000</td></tr><tr><td>Germany</td><td>Michael Friermood</td><td>48000</td></tr><tr><td>Ghana</td><td>One Big Happy Life | Finance + Money</td><td>3000</td></tr><tr><td>Gibraltar</td><td>TheSuperBOO!</td><td>89000</td></tr><tr><td>Greece</td><td>Thirty Handmade Days</td><td>397000</td></tr><tr><td>Greenland</td><td>The Educators' Spin On It</td><td>2000000</td></tr><tr><td>Grenada</td><td>The Mighty</td><td>185000</td></tr><tr><td>Guadeloupe</td><td>Jess Abbott | The Sewing Rabbit</td><td>123000</td></tr><tr><td>Guam</td><td>imgur</td><td>4000000</td></tr><tr><td>Guatemala</td><td>Homedit.com</td><td>965000</td></tr><tr><td>Guernsey</td><td>TattooMagz</td><td>32000</td></tr><tr><td>Guinea</td><td>Cars Zone</td><td>134000</td></tr><tr><td>Guinea-Bissau</td><td>Kristina Buskirk | Toddler Approved</td><td>160000</td></tr><tr><td>Guyana</td><td>Sarah Martin</td><td>394</td></tr><tr><td>Haiti</td><td>Fres Houz</td><td>100000</td></tr><tr><td>Heard Island and McDonald Islands</td><td>Real Men Real Style</td><td>487000</td></tr><tr><td>Holy See (Vatican City State)</td><td>Mich Cam</td><td>831</td></tr><tr><td>Honduras</td><td>Michellé Groenewald Da Silva</td><td>663</td></tr><tr><td>Hong Kong</td><td>Remodelista</td><td>991000</td></tr><tr><td>Hungary</td><td>Weed 'em & Reap</td><td>77000</td></tr><tr><td>Iceland</td><td>Atuflower</td><td>5000</td></tr><tr><td>India</td><td>Happiness is Homemade | Crafts, Printables, Party Ideas, & More!</td><td>167000</td></tr><tr><td>Indonesia</td><td>Forbes</td><td>252000</td></tr><tr><td>Iran</td><td>WeddingWire</td><td>520000</td></tr><tr><td>Iraq</td><td>House Beautiful</td><td>875000</td></tr><tr><td>Ireland</td><td>Deavita.fr</td><td>239000</td></tr><tr><td>Isle of Man</td><td>The Chalkboard Mag</td><td>87000</td></tr><tr><td>Israel</td><td>Trade Brains</td><td>20000</td></tr><tr><td>Italy</td><td>GirlGetGlamorous</td><td>21000</td></tr><tr><td>Jamaica</td><td>Financial Toolkit</td><td>19000</td></tr><tr><td>Japan</td><td>The Adult Man - Practical Men's Fashion & Lifestyle Advice</td><td>87000</td></tr><tr><td>Jersey</td><td>PrincetonBookReview.com</td><td>9000</td></tr><tr><td>Kazakhstan</td><td>Christina Maria - DIY Home Improvement + Decor</td><td>75000</td></tr><tr><td>Kenya</td><td>Vem que te Conto! | Dicas de Viagem</td><td>95000</td></tr><tr><td>Kiribati</td><td>MOMtivational // Parenting + Pregnancy + More</td><td>8000</td></tr><tr><td>Korea</td><td>Latest Hairstyles</td><td>627000</td></tr><tr><td>Kuwait</td><td>Green Wedding Shoes</td><td>2000000</td></tr><tr><td>Kyrgyz Republic</td><td>ADDitude Magazine</td><td>87000</td></tr><tr><td>Lao People's Democratic Republic</td><td>Cora Graaff</td><td>849</td></tr><tr><td>Latvia</td><td>Royal Fashionist</td><td>188000</td></tr><tr><td>Lebanon</td><td>Your Positive Oasis | Motivation| Inspiration| Wellness</td><td>163000</td></tr><tr><td>Lesotho</td><td>The Guardian</td><td>908000</td></tr><tr><td>Liberia</td><td>Happy Hooligans - Crafts and Activities for Kids</td><td>550000</td></tr><tr><td>Libyan Arab Jamahiriya</td><td>miss coco</td><td>157000</td></tr><tr><td>Liechtenstein</td><td>Sophie's Way</td><td>10000</td></tr><tr><td>Lithuania</td><td>The Bespoke ELA Classroom</td><td>10000</td></tr><tr><td>Luxembourg</td><td>Linda Kamp-Around The Kampfire</td><td>35000</td></tr><tr><td>Macao</td><td>Vanessa Ferran</td><td>3000</td></tr><tr><td>Macedonia</td><td>Mary</td><td>7000</td></tr><tr><td>Madagascar</td><td>MomAdvice</td><td>112000</td></tr><tr><td>Malawi</td><td>Tequila_Rose 🌹</td><td>18000</td></tr><tr><td>Maldives</td><td>Parents</td><td>416000</td></tr><tr><td>Mali</td><td>Mobile Home Living®</td><td>122000</td></tr><tr><td>Malta</td><td>Iowa Girl Eats</td><td>219000</td></tr><tr><td>Marshall Islands</td><td>Dashing Darlin' </td><td>13000</td></tr><tr><td>Martinique</td><td>Heart Handmade UK | Craft Room Ideas, Craft Ideas For Adults</td><td>1000000</td></tr><tr><td>Mauritania</td><td>The Literacy Nest</td><td>22000</td></tr><tr><td>Mauritius</td><td>Cool Things- Drawing Ideas , Fashion ,Beautiy and Home Decor</td><td>46000</td></tr><tr><td>Mayotte</td><td>Sugar, Spice & Glitter</td><td>65000</td></tr><tr><td>Mexico</td><td>Trendy Socialite</td><td>8000</td></tr><tr><td>Micronesia</td><td>Livelife_ArtAn</td><td>2000</td></tr><tr><td>Moldova</td><td>A Blossoming Life DIY Projects + Recipes +     Natural Living</td><td>44000</td></tr><tr><td>Monaco</td><td>Artists Network</td><td>227000</td></tr><tr><td>Mongolia</td><td>ZAFUL</td><td>893000</td></tr><tr><td>Montserrat</td><td>Luci // Mums Make Lists - Family and mom lifestyle</td><td>20000</td></tr><tr><td>Morocco</td><td>Two Southern Sweeties | Life After 50 + Second Act Lifestyle</td><td>13000</td></tr><tr><td>Mozambique</td><td>Stylin by Aylin</td><td>83000</td></tr><tr><td>Myanmar</td><td>Hearth and Vine</td><td>88000</td></tr><tr><td>Namibia</td><td>Snappy Gourmet</td><td>168000</td></tr><tr><td>Nauru</td><td>The Intrepid Guide | Language Learning for Travel</td><td>45000</td></tr><tr><td>Nepal</td><td>Living on a Dime to Grow Rich</td><td>197000</td></tr><tr><td>Netherlands</td><td>Homes To Love AU</td><td>247000</td></tr><tr><td>Netherlands Antilles</td><td>Sweet T Makes Three</td><td>61000</td></tr><tr><td>New Caledonia</td><td>Husskie</td><td>20000</td></tr><tr><td>New Zealand</td><td>ZENIDEES</td><td>19000</td></tr><tr><td>Nicaragua</td><td>Five Foot Feminine | Petite Style Blog + Home Decor</td><td>12000</td></tr><tr><td>Niger</td><td>The Edvocate</td><td>4000</td></tr><tr><td>Nigeria</td><td>Stephanie @ 3rd Grade Thoughts</td><td>38000</td></tr><tr><td>Niue</td><td>Michelle | Brown Eyed Baker</td><td>271000</td></tr><tr><td>Norfolk Island</td><td>The Skinny Confidential</td><td>60000</td></tr><tr><td>Norway</td><td>epicurious</td><td>409000</td></tr><tr><td>Oman</td><td>Kennedy Taylor</td><td>777</td></tr><tr><td>Pakistan</td><td>Buyer Select</td><td>441000</td></tr><tr><td>Palestinian Territory</td><td>Onedio.com</td><td>561000</td></tr><tr><td>Panama</td><td>Alanna | Periodic Adventures</td><td>1000</td></tr><tr><td>Papua New Guinea</td><td>William Nowell</td><td>5000</td></tr><tr><td>Paraguay</td><td>Blanca Rosado-Diaz</td><td>7000</td></tr><tr><td>Peru</td><td>Nashvegasmama</td><td>6000</td></tr><tr><td>Philippines</td><td>ForYou</td><td>2000</td></tr><tr><td>Pitcairn Islands</td><td>Marla Meridith</td><td>671000</td></tr><tr><td>Poland</td><td>Not In Jersey - Mom Blog</td><td>4000</td></tr><tr><td>Portugal</td><td>Lindsey Blogs</td><td>29000</td></tr><tr><td>Puerto Rico</td><td>Stephanie Lynn</td><td>116000</td></tr><tr><td>Qatar</td><td>Hudson Farmhouse</td><td>45000</td></tr><tr><td>Romania</td><td>Soberbadassery | Your Free Online Guide To Sober Living </td><td>9000</td></tr><tr><td>Russian Federation</td><td>Ana White</td><td>1000000</td></tr><tr><td>Rwanda</td><td>Traveling Chic</td><td>6000</td></tr><tr><td>Saint Barthelemy</td><td>Alexandria Franko</td><td>517</td></tr><tr><td>Saint Helena</td><td>Book Riot</td><td>154000</td></tr><tr><td>Saint Kitts and Nevis</td><td>vintagetopia</td><td>171000</td></tr><tr><td>Saint Martin</td><td>Montgo Farmhouse</td><td>9000</td></tr><tr><td>Saint Pierre and Miquelon</td><td>Ebbert Barnes</td><td>323</td></tr><tr><td>Saint Vincent and the Grenadines</td><td>CabreraE</td><td>121</td></tr><tr><td>Samoa</td><td>Six Figures Under | Frugal Living + Family Finance +Paying off Debt</td><td>32000</td></tr><tr><td>San Marino</td><td>Grandmar Mice</td><td>16000</td></tr><tr><td>Sao Tome and Principe</td><td>kayyla.april</td><td>2000</td></tr><tr><td>Saudi Arabia</td><td>Jay Anna Fuentes</td><td>332</td></tr><tr><td>Senegal</td><td>Life-n-Reflection</td><td>24000</td></tr><tr><td>Serbia</td><td>VEM Designs</td><td>78</td></tr><tr><td>Seychelles</td><td>ALL FOR WOMAN</td><td>21000</td></tr><tr><td>Singapore</td><td>Art Invitte Convites</td><td>6000</td></tr><tr><td>Slovakia (Slovak Republic)</td><td>CollectorCarAds.com</td><td>11000</td></tr><tr><td>Slovenia</td><td>Vsnicholls</td><td>746</td></tr><tr><td>Solomon Islands</td><td>Christy from Our Southern Home</td><td>81000</td></tr><tr><td>Somalia</td><td>Balloons_worldwides</td><td>118000</td></tr><tr><td>South Africa</td><td>Sophie Watters</td><td>3000</td></tr><tr><td>South Georgia and the South Sandwich Islands</td><td>Classic Nation</td><td>75000</td></tr><tr><td>Sri Lanka</td><td>Abd El Hakim</td><td>1000</td></tr><tr><td>Sudan</td><td>Literacy and Math Ideas</td><td>63000</td></tr><tr><td>Svalbard & Jan Mayen Islands</td><td>Merissa (Little House Living) | Simple Living + Frugal Living</td><td>152000</td></tr><tr><td>Swaziland</td><td>Laidback Trip</td><td>3000</td></tr><tr><td>Sweden</td><td>My Bored Toddler</td><td>58000</td></tr><tr><td>Switzerland</td><td>Kelley Rosney</td><td>45</td></tr><tr><td>Taiwan</td><td>Emily Lightly</td><td>32000</td></tr><tr><td>Tajikistan</td><td>Our Passion for Travel | Travel blog</td><td>2000</td></tr><tr><td>Tanzania</td><td>Kevmrc travel</td><td>5000</td></tr><tr><td>Thailand</td><td>Southern Productions Weddings & Events | MS Wedding Planner</td><td>10000</td></tr><tr><td>Togo</td><td>debra</td><td>4000</td></tr><tr><td>Tokelau</td><td>Budget Savvy Diva</td><td>384000</td></tr><tr><td>Tonga</td><td>Grecia Perales</td><td>0</td></tr><tr><td>Trinidad and Tobago</td><td>Syndi Mulcahy</td><td>254</td></tr><tr><td>Tunisia</td><td>El blog amarillo</td><td>66000</td></tr><tr><td>Turkey</td><td>Ashley Hewell | The Frugal Ginger | Frugal Living + Personal Finance + Money Saving Tips</td><td>21000</td></tr><tr><td>Turkmenistan</td><td>Jennifer Maker ❤️ DIY Home Decor + Craft + Paper Flowers</td><td>193000</td></tr><tr><td>Turks and Caicos Islands</td><td>Let's Eat Cake</td><td>19000</td></tr><tr><td>Tuvalu</td><td>Addymae Rodi</td><td>41</td></tr><tr><td>Uganda</td><td>Inspired by Charm</td><td>3000000</td></tr><tr><td>Ukraine</td><td>John @ The Money Sprout</td><td>1000</td></tr><tr><td>United Kingdom</td><td>teresa davis</td><td>30</td></tr><tr><td>United States Virgin Islands</td><td>Ugly Duckling House | DIY, Home, Woodworking, Crafts & Recipes</td><td>4000000</td></tr><tr><td>United States of America</td><td>Evolution of Style</td><td>47000</td></tr><tr><td>Venezuela</td><td>My Poppet - A Craft, Travel & Food Blog for Colourful Living</td><td>100000</td></tr><tr><td>Vietnam</td><td>Leanne | Midlife Blogger at www.crestingthehill.com.au</td><td>15000</td></tr><tr><td>Wallis and Futuna</td><td>Organize Ways</td><td>2000</td></tr><tr><td>Yemen</td><td>T I F F A N Y</td><td>4000</td></tr><tr><td>Zambia</td><td>HALFTEE Layering Fashions</td><td>32000</td></tr></tbody></table></div>"
      ]
     },
     "metadata": {
      "application/vnd.databricks.v1+output": {
       "addedWidgets": {},
       "aggData": [],
       "aggError": "",
       "aggOverflow": false,
       "aggSchema": [],
       "aggSeriesLimitReached": false,
       "aggType": "",
       "arguments": {},
       "columnCustomDisplayInfos": {},
       "data": [
        [
         "Afghanistan",
         "9GAG",
         3000000
        ],
        [
         "Albania",
         "The Minds Journal",
         5000000
        ],
        [
         "Algeria",
         "Apartment Therapy",
         5000000
        ],
        [
         "American Samoa",
         "Mamas Uncut",
         8000000
        ],
        [
         "Andorra",
         "Teachers Pay Teachers",
         1000000
        ],
        [
         "Angola",
         "Tastemade",
         8000000
        ],
        [
         "Anguilla",
         "Kristen | Lifestyle, Mom Tips & Teacher Stuff Blog",
         92000
        ],
        [
         "Antarctica (the territory South of 60 deg S)",
         "Refinery29",
         1000000
        ],
        [
         "Antigua and Barbuda",
         "Country Living Magazine",
         1000000
        ],
        [
         "Argentina",
         "Cheezburger",
         2000000
        ],
        [
         "Armenia",
         "Michelle {CraftyMorning.com}",
         892000
        ],
        [
         "Aruba",
         "GQ Magazine",
         874000
        ],
        [
         "Australia",
         "Mujer de 10 ",
         2000000
        ],
        [
         "Austria",
         "Allwomenstalk - girl rules ",
         813000
        ],
        [
         "Azerbaijan",
         "Style Me Pretty",
         6000000
        ],
        [
         "Bahamas",
         "Handmade Charlotte",
         948000
        ],
        [
         "Bahrain",
         "Rainy Day Mum",
         337000
        ],
        [
         "Bangladesh",
         "Better Homes and Gardens",
         4000000
        ],
        [
         "Barbados",
         "The Creativity Exchange",
         410000
        ],
        [
         "Belarus",
         "Prudent Penny Pincher - Home Decor, Organization, Crafts, Recipes",
         648000
        ],
        [
         "Belgium",
         "The Krazy Coupon Lady",
         433000
        ],
        [
         "Belize",
         "Easy Kids Crafts & Activities | Preschool & Kindergarten Ideas",
         267000
        ],
        [
         "Benin",
         "Penny Pinchin Mom |  Budget, Get out of Debt, Save Money & More!",
         113000
        ],
        [
         "Bermuda",
         "Life on Summerhill | Home, Holiday Decor & DIY Website",
         46000
        ],
        [
         "Bhutan",
         "Esquire Magazine",
         130000
        ],
        [
         "Bolivia",
         "Squarespace",
         328000
        ],
        [
         "Bosnia and Herzegovina",
         "Stylesatlife",
         388000
        ],
        [
         "Botswana",
         "OkChicas",
         3000000
        ],
        [
         "Bouvet Island (Bouvetoya)",
         "POPSUGAR",
         5000000
        ],
        [
         "Brazil",
         "Budget with Rachel",
         11000
        ],
        [
         "British Indian Ocean Territory (Chagos Archipelago)",
         "Design Rulz",
         248000
        ],
        [
         "British Virgin Islands",
         "Kitchen Fun With My 3 Sons",
         245000
        ],
        [
         "Brunei Darussalam",
         "Kids Craft Room",
         277000
        ],
        [
         "Bulgaria",
         "Half Baked Harvest",
         912000
        ],
        [
         "Burkina Faso",
         "Behance",
         6000000
        ],
        [
         "Burundi",
         "Macho Moda",
         620000
        ],
        [
         "Cambodia",
         "Catch My Party",
         2000000
        ],
        [
         "Cameroon",
         "The Blonde Abroad",
         123000
        ],
        [
         "Canada",
         "Giorgenti New York",
         258000
        ],
        [
         "Cape Verde",
         "Sand and Sisal",
         178000
        ],
        [
         "Cayman Islands",
         "InStyle",
         1000000
        ],
        [
         "Central African Republic",
         "PureWow",
         868000
        ],
        [
         "Chad",
         "Glued To My Crafts",
         226000
        ],
        [
         "Chile",
         "Amber Strong - The Maker’s Map | DIY’s, Crafts & Home Decor",
         19000
        ],
        [
         "China",
         "Empowered Sustenance",
         127000
        ],
        [
         "Christmas Island",
         "Instructables",
         3000000
        ],
        [
         "Cocos (Keeling) Islands",
         "How Does She",
         709000
        ],
        [
         "Colombia",
         "Pretty My Party - Party Ideas",
         239000
        ],
        [
         "Comoros",
         "Ruffled",
         4000000
        ],
        [
         "Congo",
         "Virginia | Fynes Designs : Home Decor, Easy DIY’s, Lifestyle",
         410000
        ],
        [
         "Cook Islands",
         "The Spring Break Family - Family Travel",
         1000
        ],
        [
         "Costa Rica",
         "Martha Stewart Living",
         2000000
        ],
        [
         "Cote d'Ivoire",
         "Mom Junction",
         565000
        ],
        [
         "Croatia",
         "Live Like You Are Rich | Finances, Pregnancy, Recipes & More",
         134000
        ],
        [
         "Cuba",
         "Listotic - Easy Ideas | Fun DIY Projects | Easy Recipes | Lists",
         307000
        ],
        [
         "Cyprus",
         "Porchdotcom",
         117000
        ],
        [
         "Czech Republic",
         "Tatertots and Jello .com",
         398000
        ],
        [
         "Denmark",
         "A Life Adjacent",
         36000
        ],
        [
         "Djibouti",
         "Instrupix | Lilly Childers",
         275000
        ],
        [
         "Dominica",
         "Monique - Living Life and Learning",
         67000
        ],
        [
         "Dominican Republic",
         "Wonder Forest",
         104000
        ],
        [
         "Ecuador",
         "LABONNI",
         84000
        ],
        [
         "Egypt",
         "Allure",
         346000
        ],
        [
         "El Salvador",
         "Power of Positivity",
         221000
        ],
        [
         "Equatorial Guinea",
         "Whisper Wanderlust * Travel Blog",
         10000
        ],
        [
         "Eritrea",
         "Core77",
         105000
        ],
        [
         "Estonia",
         "Morgan |  Modernly Morgan",
         13000
        ],
        [
         "Ethiopia",
         "Sarah Wahl | Crestfox",
         17000
        ],
        [
         "Falkland Islands (Malvinas)",
         "Victoria Magazine",
         59000
        ],
        [
         "Faroe Islands",
         "Veterans United Home Loans",
         11000
        ],
        [
         "Fiji",
         "Teach Create Motivate",
         41000
        ],
        [
         "Finland",
         "Amee",
         79000
        ],
        [
         "France",
         "Hello Lovely",
         115000
        ],
        [
         "French Guiana",
         "Sweet Red Poppy Free Sewing Patterns, Cut Files & Craft Tutorials",
         241000
        ],
        [
         "French Polynesia",
         "The Printable Princess",
         52000
        ],
        [
         "French Southern Territories",
         "Don't Waste the Crumbs",
         119000
        ],
        [
         "Gabon",
         "Angela Watson's Truth for Teachers",
         88000
        ],
        [
         "Georgia",
         "Susie Allison | Busy Toddler",
         203000
        ],
        [
         "Germany",
         "Michael Friermood",
         48000
        ],
        [
         "Ghana",
         "One Big Happy Life | Finance + Money",
         3000
        ],
        [
         "Gibraltar",
         "TheSuperBOO!",
         89000
        ],
        [
         "Greece",
         "Thirty Handmade Days",
         397000
        ],
        [
         "Greenland",
         "The Educators' Spin On It",
         2000000
        ],
        [
         "Grenada",
         "The Mighty",
         185000
        ],
        [
         "Guadeloupe",
         "Jess Abbott | The Sewing Rabbit",
         123000
        ],
        [
         "Guam",
         "imgur",
         4000000
        ],
        [
         "Guatemala",
         "Homedit.com",
         965000
        ],
        [
         "Guernsey",
         "TattooMagz",
         32000
        ],
        [
         "Guinea",
         "Cars Zone",
         134000
        ],
        [
         "Guinea-Bissau",
         "Kristina Buskirk | Toddler Approved",
         160000
        ],
        [
         "Guyana",
         "Sarah Martin",
         394
        ],
        [
         "Haiti",
         "Fres Houz",
         100000
        ],
        [
         "Heard Island and McDonald Islands",
         "Real Men Real Style",
         487000
        ],
        [
         "Holy See (Vatican City State)",
         "Mich Cam",
         831
        ],
        [
         "Honduras",
         "Michellé Groenewald Da Silva",
         663
        ],
        [
         "Hong Kong",
         "Remodelista",
         991000
        ],
        [
         "Hungary",
         "Weed 'em & Reap",
         77000
        ],
        [
         "Iceland",
         "Atuflower",
         5000
        ],
        [
         "India",
         "Happiness is Homemade | Crafts, Printables, Party Ideas, & More!",
         167000
        ],
        [
         "Indonesia",
         "Forbes",
         252000
        ],
        [
         "Iran",
         "WeddingWire",
         520000
        ],
        [
         "Iraq",
         "House Beautiful",
         875000
        ],
        [
         "Ireland",
         "Deavita.fr",
         239000
        ],
        [
         "Isle of Man",
         "The Chalkboard Mag",
         87000
        ],
        [
         "Israel",
         "Trade Brains",
         20000
        ],
        [
         "Italy",
         "GirlGetGlamorous",
         21000
        ],
        [
         "Jamaica",
         "Financial Toolkit",
         19000
        ],
        [
         "Japan",
         "The Adult Man - Practical Men's Fashion & Lifestyle Advice",
         87000
        ],
        [
         "Jersey",
         "PrincetonBookReview.com",
         9000
        ],
        [
         "Kazakhstan",
         "Christina Maria - DIY Home Improvement + Decor",
         75000
        ],
        [
         "Kenya",
         "Vem que te Conto! | Dicas de Viagem",
         95000
        ],
        [
         "Kiribati",
         "MOMtivational // Parenting + Pregnancy + More",
         8000
        ],
        [
         "Korea",
         "Latest Hairstyles",
         627000
        ],
        [
         "Kuwait",
         "Green Wedding Shoes",
         2000000
        ],
        [
         "Kyrgyz Republic",
         "ADDitude Magazine",
         87000
        ],
        [
         "Lao People's Democratic Republic",
         "Cora Graaff",
         849
        ],
        [
         "Latvia",
         "Royal Fashionist",
         188000
        ],
        [
         "Lebanon",
         "Your Positive Oasis | Motivation| Inspiration| Wellness",
         163000
        ],
        [
         "Lesotho",
         "The Guardian",
         908000
        ],
        [
         "Liberia",
         "Happy Hooligans - Crafts and Activities for Kids",
         550000
        ],
        [
         "Libyan Arab Jamahiriya",
         "miss coco",
         157000
        ],
        [
         "Liechtenstein",
         "Sophie's Way",
         10000
        ],
        [
         "Lithuania",
         "The Bespoke ELA Classroom",
         10000
        ],
        [
         "Luxembourg",
         "Linda Kamp-Around The Kampfire",
         35000
        ],
        [
         "Macao",
         "Vanessa Ferran",
         3000
        ],
        [
         "Macedonia",
         "Mary",
         7000
        ],
        [
         "Madagascar",
         "MomAdvice",
         112000
        ],
        [
         "Malawi",
         "Tequila_Rose 🌹",
         18000
        ],
        [
         "Maldives",
         "Parents",
         416000
        ],
        [
         "Mali",
         "Mobile Home Living®",
         122000
        ],
        [
         "Malta",
         "Iowa Girl Eats",
         219000
        ],
        [
         "Marshall Islands",
         "Dashing Darlin' ",
         13000
        ],
        [
         "Martinique",
         "Heart Handmade UK | Craft Room Ideas, Craft Ideas For Adults",
         1000000
        ],
        [
         "Mauritania",
         "The Literacy Nest",
         22000
        ],
        [
         "Mauritius",
         "Cool Things- Drawing Ideas , Fashion ,Beautiy and Home Decor",
         46000
        ],
        [
         "Mayotte",
         "Sugar, Spice & Glitter",
         65000
        ],
        [
         "Mexico",
         "Trendy Socialite",
         8000
        ],
        [
         "Micronesia",
         "Livelife_ArtAn",
         2000
        ],
        [
         "Moldova",
         "A Blossoming Life DIY Projects + Recipes +     Natural Living",
         44000
        ],
        [
         "Monaco",
         "Artists Network",
         227000
        ],
        [
         "Mongolia",
         "ZAFUL",
         893000
        ],
        [
         "Montserrat",
         "Luci // Mums Make Lists - Family and mom lifestyle",
         20000
        ],
        [
         "Morocco",
         "Two Southern Sweeties | Life After 50 + Second Act Lifestyle",
         13000
        ],
        [
         "Mozambique",
         "Stylin by Aylin",
         83000
        ],
        [
         "Myanmar",
         "Hearth and Vine",
         88000
        ],
        [
         "Namibia",
         "Snappy Gourmet",
         168000
        ],
        [
         "Nauru",
         "The Intrepid Guide | Language Learning for Travel",
         45000
        ],
        [
         "Nepal",
         "Living on a Dime to Grow Rich",
         197000
        ],
        [
         "Netherlands",
         "Homes To Love AU",
         247000
        ],
        [
         "Netherlands Antilles",
         "Sweet T Makes Three",
         61000
        ],
        [
         "New Caledonia",
         "Husskie",
         20000
        ],
        [
         "New Zealand",
         "ZENIDEES",
         19000
        ],
        [
         "Nicaragua",
         "Five Foot Feminine | Petite Style Blog + Home Decor",
         12000
        ],
        [
         "Niger",
         "The Edvocate",
         4000
        ],
        [
         "Nigeria",
         "Stephanie @ 3rd Grade Thoughts",
         38000
        ],
        [
         "Niue",
         "Michelle | Brown Eyed Baker",
         271000
        ],
        [
         "Norfolk Island",
         "The Skinny Confidential",
         60000
        ],
        [
         "Norway",
         "epicurious",
         409000
        ],
        [
         "Oman",
         "Kennedy Taylor",
         777
        ],
        [
         "Pakistan",
         "Buyer Select",
         441000
        ],
        [
         "Palestinian Territory",
         "Onedio.com",
         561000
        ],
        [
         "Panama",
         "Alanna | Periodic Adventures",
         1000
        ],
        [
         "Papua New Guinea",
         "William Nowell",
         5000
        ],
        [
         "Paraguay",
         "Blanca Rosado-Diaz",
         7000
        ],
        [
         "Peru",
         "Nashvegasmama",
         6000
        ],
        [
         "Philippines",
         "ForYou",
         2000
        ],
        [
         "Pitcairn Islands",
         "Marla Meridith",
         671000
        ],
        [
         "Poland",
         "Not In Jersey - Mom Blog",
         4000
        ],
        [
         "Portugal",
         "Lindsey Blogs",
         29000
        ],
        [
         "Puerto Rico",
         "Stephanie Lynn",
         116000
        ],
        [
         "Qatar",
         "Hudson Farmhouse",
         45000
        ],
        [
         "Romania",
         "Soberbadassery | Your Free Online Guide To Sober Living ",
         9000
        ],
        [
         "Russian Federation",
         "Ana White",
         1000000
        ],
        [
         "Rwanda",
         "Traveling Chic",
         6000
        ],
        [
         "Saint Barthelemy",
         "Alexandria Franko",
         517
        ],
        [
         "Saint Helena",
         "Book Riot",
         154000
        ],
        [
         "Saint Kitts and Nevis",
         "vintagetopia",
         171000
        ],
        [
         "Saint Martin",
         "Montgo Farmhouse",
         9000
        ],
        [
         "Saint Pierre and Miquelon",
         "Ebbert Barnes",
         323
        ],
        [
         "Saint Vincent and the Grenadines",
         "CabreraE",
         121
        ],
        [
         "Samoa",
         "Six Figures Under | Frugal Living + Family Finance +Paying off Debt",
         32000
        ],
        [
         "San Marino",
         "Grandmar Mice",
         16000
        ],
        [
         "Sao Tome and Principe",
         "kayyla.april",
         2000
        ],
        [
         "Saudi Arabia",
         "Jay Anna Fuentes",
         332
        ],
        [
         "Senegal",
         "Life-n-Reflection",
         24000
        ],
        [
         "Serbia",
         "VEM Designs",
         78
        ],
        [
         "Seychelles",
         "ALL FOR WOMAN",
         21000
        ],
        [
         "Singapore",
         "Art Invitte Convites",
         6000
        ],
        [
         "Slovakia (Slovak Republic)",
         "CollectorCarAds.com",
         11000
        ],
        [
         "Slovenia",
         "Vsnicholls",
         746
        ],
        [
         "Solomon Islands",
         "Christy from Our Southern Home",
         81000
        ],
        [
         "Somalia",
         "Balloons_worldwides",
         118000
        ],
        [
         "South Africa",
         "Sophie Watters",
         3000
        ],
        [
         "South Georgia and the South Sandwich Islands",
         "Classic Nation",
         75000
        ],
        [
         "Sri Lanka",
         "Abd El Hakim",
         1000
        ],
        [
         "Sudan",
         "Literacy and Math Ideas",
         63000
        ],
        [
         "Svalbard & Jan Mayen Islands",
         "Merissa (Little House Living) | Simple Living + Frugal Living",
         152000
        ],
        [
         "Swaziland",
         "Laidback Trip",
         3000
        ],
        [
         "Sweden",
         "My Bored Toddler",
         58000
        ],
        [
         "Switzerland",
         "Kelley Rosney",
         45
        ],
        [
         "Taiwan",
         "Emily Lightly",
         32000
        ],
        [
         "Tajikistan",
         "Our Passion for Travel | Travel blog",
         2000
        ],
        [
         "Tanzania",
         "Kevmrc travel",
         5000
        ],
        [
         "Thailand",
         "Southern Productions Weddings & Events | MS Wedding Planner",
         10000
        ],
        [
         "Togo",
         "debra",
         4000
        ],
        [
         "Tokelau",
         "Budget Savvy Diva",
         384000
        ],
        [
         "Tonga",
         "Grecia Perales",
         0
        ],
        [
         "Trinidad and Tobago",
         "Syndi Mulcahy",
         254
        ],
        [
         "Tunisia",
         "El blog amarillo",
         66000
        ],
        [
         "Turkey",
         "Ashley Hewell | The Frugal Ginger | Frugal Living + Personal Finance + Money Saving Tips",
         21000
        ],
        [
         "Turkmenistan",
         "Jennifer Maker ❤️ DIY Home Decor + Craft + Paper Flowers",
         193000
        ],
        [
         "Turks and Caicos Islands",
         "Let's Eat Cake",
         19000
        ],
        [
         "Tuvalu",
         "Addymae Rodi",
         41
        ],
        [
         "Uganda",
         "Inspired by Charm",
         3000000
        ],
        [
         "Ukraine",
         "John @ The Money Sprout",
         1000
        ],
        [
         "United Kingdom",
         "teresa davis",
         30
        ],
        [
         "United States Virgin Islands",
         "Ugly Duckling House | DIY, Home, Woodworking, Crafts & Recipes",
         4000000
        ],
        [
         "United States of America",
         "Evolution of Style",
         47000
        ],
        [
         "Venezuela",
         "My Poppet - A Craft, Travel & Food Blog for Colourful Living",
         100000
        ],
        [
         "Vietnam",
         "Leanne | Midlife Blogger at www.crestingthehill.com.au",
         15000
        ],
        [
         "Wallis and Futuna",
         "Organize Ways",
         2000
        ],
        [
         "Yemen",
         "T I F F A N Y",
         4000
        ],
        [
         "Zambia",
         "HALFTEE Layering Fashions",
         32000
        ]
       ],
       "datasetInfos": [],
       "dbfsResultPath": null,
       "isJsonSchema": true,
       "metadata": {},
       "overflow": false,
       "plotOptions": {
        "customPlotOptions": {},
        "displayType": "table",
        "pivotAggregation": null,
        "pivotColumns": null,
        "xColumns": null,
        "yColumns": null
       },
       "removedWidgets": [],
       "schema": [
        {
         "metadata": "{}",
         "name": "country",
         "type": "\"string\""
        },
        {
         "metadata": "{}",
         "name": "poster_name",
         "type": "\"string\""
        },
        {
         "metadata": "{}",
         "name": "follower_count",
         "type": "\"integer\""
        }
       ],
       "type": "table"
      }
     },
     "output_type": "display_data"
    }
   ],
   "source": [
    "# Finding the user with the most followers in each country:\n",
    "\n",
    "# Creating a temporary dataframe which joins the geo and pin dataframes on ind:\n",
    "temp_df3 = df_geo_0e1f6d6285c1.join(df_pin_0e1f6d6285c1, on=['ind'])\n",
    "\n",
    "# Using a window function to rank the follower_count within each country:\n",
    "window_spec4 = Window.partitionBy('country').orderBy(desc('follower_count'))\n",
    "\n",
    "# Creating a dataframe where there is a ranking column which ranks over the above specified window:\n",
    "ranked_df3 = temp_df3.withColumn('rank', rank().over(window_spec4))\n",
    "\n",
    "# Filtering for rows where rank is 1 (top follower_count)\n",
    "top_followers_df = ranked_df3.filter(col('rank') == 1)\n",
    "\n",
    "# Selecting the relevant columns for the final result\n",
    "top_followers_per_country_df = top_followers_df.select('country', 'poster_name', 'follower_count')\n",
    "\n",
    "# Removing the duplicates on the country:\n",
    "top_followers_per_country_df = top_followers_per_country_df.dropDuplicates([\"country\"])\n",
    "\n",
    "# Showing the result\n",
    "top_followers_per_country_df.display()"
   ]
  },
  {
   "cell_type": "code",
   "execution_count": 0,
   "metadata": {
    "application/vnd.databricks.v1+cell": {
     "cellMetadata": {
      "byteLimit": 2048000,
      "rowLimit": 10000
     },
     "inputWidgets": {},
     "nuid": "4a7b350e-3273-4376-a3f4-b2be76b86cfd",
     "showTitle": false,
     "title": ""
    }
   },
   "outputs": [
    {
     "output_type": "display_data",
     "data": {
      "text/html": [
       "<style scoped>\n",
       "  .table-result-container {\n",
       "    max-height: 300px;\n",
       "    overflow: auto;\n",
       "  }\n",
       "  table, th, td {\n",
       "    border: 1px solid black;\n",
       "    border-collapse: collapse;\n",
       "  }\n",
       "  th, td {\n",
       "    padding: 5px;\n",
       "  }\n",
       "  th {\n",
       "    text-align: left;\n",
       "  }\n",
       "</style><div class='table-result-container'><table class='table-result'><thead style='background-color: white'><tr><th>country</th><th>follower_count</th></tr></thead><tbody><tr><td>Angola</td><td>8000000</td></tr><tr><td>American Samoa</td><td>8000000</td></tr></tbody></table></div>"
      ]
     },
     "metadata": {
      "application/vnd.databricks.v1+output": {
       "addedWidgets": {},
       "aggData": [],
       "aggError": "",
       "aggOverflow": false,
       "aggSchema": [],
       "aggSeriesLimitReached": false,
       "aggType": "",
       "arguments": {},
       "columnCustomDisplayInfos": {},
       "data": [
        [
         "Angola",
         8000000
        ],
        [
         "American Samoa",
         8000000
        ]
       ],
       "datasetInfos": [],
       "dbfsResultPath": null,
       "isJsonSchema": true,
       "metadata": {},
       "overflow": false,
       "plotOptions": {
        "customPlotOptions": {},
        "displayType": "table",
        "pivotAggregation": null,
        "pivotColumns": null,
        "xColumns": null,
        "yColumns": null
       },
       "removedWidgets": [],
       "schema": [
        {
         "metadata": "{}",
         "name": "country",
         "type": "\"string\""
        },
        {
         "metadata": "{}",
         "name": "follower_count",
         "type": "\"integer\""
        }
       ],
       "type": "table"
      }
     },
     "output_type": "display_data"
    }
   ],
   "source": [
    "# Finding the country with the user with the most followers:\n",
    "\n",
    "# Ordering the above resulting dataframe by follower_count:\n",
    "ordered_top_followers_per_country_df = top_followers_per_country_df.orderBy(col('follower_count').desc())\n",
    "\n",
    "# Selecting only the country and follower_count columns:\n",
    "ordered_top_followers_per_country_df = ordered_top_followers_per_country_df.select('country', 'follower_count').limit(2)\n",
    "\n",
    "# Showing result:\n",
    "ordered_top_followers_per_country_df.display()\n"
   ]
  },
  {
   "cell_type": "code",
   "execution_count": 0,
   "metadata": {
    "application/vnd.databricks.v1+cell": {
     "cellMetadata": {
      "byteLimit": 2048000,
      "rowLimit": 10000
     },
     "inputWidgets": {},
     "nuid": "63e1965e-fa19-4cf6-9eea-9ddde3005ab7",
     "showTitle": false,
     "title": ""
    }
   },
   "outputs": [
    {
     "output_type": "display_data",
     "data": {
      "text/html": [
       "<style scoped>\n",
       "  .table-result-container {\n",
       "    max-height: 300px;\n",
       "    overflow: auto;\n",
       "  }\n",
       "  table, th, td {\n",
       "    border: 1px solid black;\n",
       "    border-collapse: collapse;\n",
       "  }\n",
       "  th, td {\n",
       "    padding: 5px;\n",
       "  }\n",
       "  th {\n",
       "    text-align: left;\n",
       "  }\n",
       "</style><div class='table-result-container'><table class='table-result'><thead style='background-color: white'><tr><th>age_group</th><th>category</th><th>category_count</th></tr></thead><tbody><tr><td>18-24</td><td>tattoos</td><td>66</td></tr><tr><td>25-35</td><td>christmas</td><td>41</td></tr><tr><td>36-50</td><td>finance</td><td>31</td></tr><tr><td>50+</td><td>vehicles</td><td>15</td></tr></tbody></table></div>"
      ]
     },
     "metadata": {
      "application/vnd.databricks.v1+output": {
       "addedWidgets": {},
       "aggData": [],
       "aggError": "",
       "aggOverflow": false,
       "aggSchema": [],
       "aggSeriesLimitReached": false,
       "aggType": "",
       "arguments": {},
       "columnCustomDisplayInfos": {},
       "data": [
        [
         "18-24",
         "tattoos",
         66
        ],
        [
         "25-35",
         "christmas",
         41
        ],
        [
         "36-50",
         "finance",
         31
        ],
        [
         "50+",
         "vehicles",
         15
        ]
       ],
       "datasetInfos": [],
       "dbfsResultPath": null,
       "isJsonSchema": true,
       "metadata": {},
       "overflow": false,
       "plotOptions": {
        "customPlotOptions": {},
        "displayType": "table",
        "pivotAggregation": null,
        "pivotColumns": null,
        "xColumns": null,
        "yColumns": null
       },
       "removedWidgets": [],
       "schema": [
        {
         "metadata": "{}",
         "name": "age_group",
         "type": "\"string\""
        },
        {
         "metadata": "{}",
         "name": "category",
         "type": "\"string\""
        },
        {
         "metadata": "{}",
         "name": "category_count",
         "type": "\"long\""
        }
       ],
       "type": "table"
      }
     },
     "output_type": "display_data"
    }
   ],
   "source": [
    "# Finding the most popular category for different age groups:\n",
    "\n",
    "# Defining the age groups that are required in a new column:\n",
    "temp_user_df = df_user_0e1f6d6285c1.withColumn(\n",
    "    \"age_group\",\n",
    "    (when((col(\"age\") >= 18) & (col(\"age\") <= 24), \"18-24\")\n",
    "     .when((col(\"age\") >= 25) & (col(\"age\") <= 35), \"25-35\")\n",
    "     .when((col(\"age\") >= 36) & (col(\"age\") <= 50), \"36-50\")\n",
    "     .when(col(\"age\") > 50, \"50+\")\n",
    "     .otherwise(\"unknown age\"))\n",
    ")\n",
    "\n",
    "# Joining the users DF to the pins DF:\n",
    "temp_df4 = temp_user_df.join(df_pin_0e1f6d6285c1, on=[\"ind\"])\n",
    "\n",
    "# Grouping the age_group and category and counting the number of posts per category per age group:\n",
    "grouped_df4 = temp_df4.groupBy(\"age_group\", \"category\").agg(count(\"*\").alias(\"category_count\"))\n",
    "\n",
    "# Using a window function to rank the categories within each age group:\n",
    "window_spec5 = Window.partitionBy(\"age_group\").orderBy(desc('category_count'))\n",
    "\n",
    "# Creating a dataframe where there is a ranking column which ranks over the above specified window:\n",
    "ranked_df5  = grouped_df4.withColumn(\"rank\", rank().over(window_spec5))\n",
    "\n",
    "# Filtering for rows where the rank is 1:\n",
    "top_categories_age_group_df = ranked_df5.filter(col(\"rank\") == 1)\n",
    "\n",
    "# Selecting the relevant columsn for the final output:\n",
    "top_categories_age_group_df1 = top_categories_age_group_df.select(\"age_group\", \"category\", \"category_count\")\n",
    "\n",
    "# Displaying the result:\n",
    "top_categories_age_group_df1.display()"
   ]
  },
  {
   "cell_type": "code",
   "execution_count": 0,
   "metadata": {
    "application/vnd.databricks.v1+cell": {
     "cellMetadata": {
      "byteLimit": 2048000,
      "rowLimit": 10000
     },
     "inputWidgets": {},
     "nuid": "02a4e601-0027-4694-8886-5e1bacdb013f",
     "showTitle": false,
     "title": ""
    }
   },
   "outputs": [
    {
     "output_type": "display_data",
     "data": {
      "text/html": [
       "<style scoped>\n",
       "  .table-result-container {\n",
       "    max-height: 300px;\n",
       "    overflow: auto;\n",
       "  }\n",
       "  table, th, td {\n",
       "    border: 1px solid black;\n",
       "    border-collapse: collapse;\n",
       "  }\n",
       "  th, td {\n",
       "    padding: 5px;\n",
       "  }\n",
       "  th {\n",
       "    text-align: left;\n",
       "  }\n",
       "</style><div class='table-result-container'><table class='table-result'><thead style='background-color: white'><tr><th>age_group</th><th>median_follower_count</th></tr></thead><tbody><tr><td>50+</td><td>1000</td></tr><tr><td>36-50</td><td>6000</td></tr><tr><td>18-24</td><td>108000</td></tr><tr><td>25-35</td><td>24000</td></tr></tbody></table></div>"
      ]
     },
     "metadata": {
      "application/vnd.databricks.v1+output": {
       "addedWidgets": {},
       "aggData": [],
       "aggError": "",
       "aggOverflow": false,
       "aggSchema": [],
       "aggSeriesLimitReached": false,
       "aggType": "",
       "arguments": {},
       "columnCustomDisplayInfos": {},
       "data": [
        [
         "50+",
         1000
        ],
        [
         "36-50",
         6000
        ],
        [
         "18-24",
         108000
        ],
        [
         "25-35",
         24000
        ]
       ],
       "datasetInfos": [],
       "dbfsResultPath": null,
       "isJsonSchema": true,
       "metadata": {},
       "overflow": false,
       "plotOptions": {
        "customPlotOptions": {},
        "displayType": "table",
        "pivotAggregation": null,
        "pivotColumns": null,
        "xColumns": null,
        "yColumns": null
       },
       "removedWidgets": [],
       "schema": [
        {
         "metadata": "{}",
         "name": "age_group",
         "type": "\"string\""
        },
        {
         "metadata": "{}",
         "name": "median_follower_count",
         "type": "\"integer\""
        }
       ],
       "type": "table"
      }
     },
     "output_type": "display_data"
    }
   ],
   "source": [
    "# Finding the median follower count for different age groups:\n",
    "# Can use the same temporary df created above temp_df4 as it has created the age group column and joined the users and pins df\n",
    "\n",
    "# # Defining the age groups that are required in a new column:\n",
    "# temp_user_df = df_user_0e1f6d6285c1.withColumn(\n",
    "#     \"age_group\",\n",
    "#     (when((col(\"age\") >= 18) & (col(\"age\") <= 24), \"18-24\")\n",
    "#      .when((col(\"age\") >= 25) & (col(\"age\") <= 35), \"25-35\")\n",
    "#      .when((col(\"age\") >= 36) & (col(\"age\") <= 50), \"36-50\")\n",
    "#      .when(col(\"age\") > 50, \"50+\")\n",
    "#      .otherwise(\"unknown age\"))\n",
    "# )\n",
    "\n",
    "# # Joining the users DF to the pins DF:\n",
    "# temp_df4 = temp_user_df.join(df_pin_0e1f6d6285c1, on=[\"ind\"])\n",
    "\n",
    "# Using the 'percentile_approx' function from SQL (using the 'expr') we can do this simply by grouping by the age_group and then finding the median follower count per age group, which is equivalent to the 50th percentile value and then we give the alias median_follower_count:\n",
    "median_followers_age_group_df = temp_df4.groupBy(\"age_group\").agg(expr(\"percentile_approx(follower_count, 0.5)\").alias(\"median_follower_count\"))\n",
    "\n",
    "# Showing resulting df:\n",
    "median_followers_age_group_df.display()"
   ]
  },
  {
   "cell_type": "code",
   "execution_count": 0,
   "metadata": {
    "application/vnd.databricks.v1+cell": {
     "cellMetadata": {
      "byteLimit": 2048000,
      "rowLimit": 10000
     },
     "inputWidgets": {},
     "nuid": "761418d6-571f-4e00-a9e5-ba31ba45aaad",
     "showTitle": false,
     "title": ""
    }
   },
   "outputs": [
    {
     "output_type": "display_data",
     "data": {
      "text/html": [
       "<style scoped>\n",
       "  .table-result-container {\n",
       "    max-height: 300px;\n",
       "    overflow: auto;\n",
       "  }\n",
       "  table, th, td {\n",
       "    border: 1px solid black;\n",
       "    border-collapse: collapse;\n",
       "  }\n",
       "  th, td {\n",
       "    padding: 5px;\n",
       "  }\n",
       "  th {\n",
       "    text-align: left;\n",
       "  }\n",
       "</style><div class='table-result-container'><table class='table-result'><thead style='background-color: white'><tr><th>joined_year</th><th>number_users_joined</th></tr></thead><tbody><tr><td>2015</td><td>532</td></tr><tr><td>2016</td><td>604</td></tr><tr><td>2017</td><td>220</td></tr></tbody></table></div>"
      ]
     },
     "metadata": {
      "application/vnd.databricks.v1+output": {
       "addedWidgets": {},
       "aggData": [],
       "aggError": "",
       "aggOverflow": false,
       "aggSchema": [],
       "aggSeriesLimitReached": false,
       "aggType": "",
       "arguments": {},
       "columnCustomDisplayInfos": {},
       "data": [
        [
         2015,
         532
        ],
        [
         2016,
         604
        ],
        [
         2017,
         220
        ]
       ],
       "datasetInfos": [],
       "dbfsResultPath": null,
       "isJsonSchema": true,
       "metadata": {},
       "overflow": false,
       "plotOptions": {
        "customPlotOptions": {},
        "displayType": "table",
        "pivotAggregation": null,
        "pivotColumns": null,
        "xColumns": null,
        "yColumns": null
       },
       "removedWidgets": [],
       "schema": [
        {
         "metadata": "{}",
         "name": "joined_year",
         "type": "\"integer\""
        },
        {
         "metadata": "{}",
         "name": "number_users_joined",
         "type": "\"long\""
        }
       ],
       "type": "table"
      }
     },
     "output_type": "display_data"
    }
   ],
   "source": [
    "# Finding the how many users have joined each year:\n",
    "\n",
    "# Creating a temporary geo dataframe which also has a 'post_year' column:\n",
    "temp_user_df1 = df_user_0e1f6d6285c1.withColumn(\"joined_year\", year(\"date_joined\"))\n",
    "\n",
    "# Grouping by the joined year and doing a count:\n",
    "num_users_year_df = temp_user_df1.groupBy(\"joined_year\").agg(count(\"*\").alias(\"number_users_joined\"))\n",
    "\n",
    "# Showing result:\n",
    "num_users_year_df.display()"
   ]
  },
  {
   "cell_type": "code",
   "execution_count": 0,
   "metadata": {
    "application/vnd.databricks.v1+cell": {
     "cellMetadata": {
      "byteLimit": 2048000,
      "rowLimit": 10000
     },
     "inputWidgets": {},
     "nuid": "1b9bb2d0-74cc-470b-9f28-cfd3b26d8b31",
     "showTitle": false,
     "title": ""
    }
   },
   "outputs": [
    {
     "output_type": "display_data",
     "data": {
      "text/html": [
       "<style scoped>\n",
       "  .table-result-container {\n",
       "    max-height: 300px;\n",
       "    overflow: auto;\n",
       "  }\n",
       "  table, th, td {\n",
       "    border: 1px solid black;\n",
       "    border-collapse: collapse;\n",
       "  }\n",
       "  th, td {\n",
       "    padding: 5px;\n",
       "  }\n",
       "  th {\n",
       "    text-align: left;\n",
       "  }\n",
       "</style><div class='table-result-container'><table class='table-result'><thead style='background-color: white'><tr><th>joined_year</th><th>median_follower_count</th></tr></thead><tbody><tr><td>2015</td><td>128000</td></tr><tr><td>2016</td><td>19000</td></tr><tr><td>2017</td><td>2000</td></tr></tbody></table></div>"
      ]
     },
     "metadata": {
      "application/vnd.databricks.v1+output": {
       "addedWidgets": {},
       "aggData": [],
       "aggError": "",
       "aggOverflow": false,
       "aggSchema": [],
       "aggSeriesLimitReached": false,
       "aggType": "",
       "arguments": {},
       "columnCustomDisplayInfos": {},
       "data": [
        [
         2015,
         128000
        ],
        [
         2016,
         19000
        ],
        [
         2017,
         2000
        ]
       ],
       "datasetInfos": [],
       "dbfsResultPath": null,
       "isJsonSchema": true,
       "metadata": {},
       "overflow": false,
       "plotOptions": {
        "customPlotOptions": {},
        "displayType": "table",
        "pivotAggregation": null,
        "pivotColumns": null,
        "xColumns": null,
        "yColumns": null
       },
       "removedWidgets": [],
       "schema": [
        {
         "metadata": "{}",
         "name": "joined_year",
         "type": "\"integer\""
        },
        {
         "metadata": "{}",
         "name": "median_follower_count",
         "type": "\"integer\""
        }
       ],
       "type": "table"
      }
     },
     "output_type": "display_data"
    }
   ],
   "source": [
    "# Finding the median follower count of users based on their joining year:\n",
    "\n",
    "# Joining the temp_users_df1 above to the pins dataframe:\n",
    "temp_df5 = temp_user_df1.join(df_pin_0e1f6d6285c1, on =[\"ind\"])\n",
    "\n",
    "# Using the 'percentile_approx' function from SQL (using the 'expr') we can do this simply by grouping by the joined_year and then finding the median follower count per age group, which is equivalent to the 50th percentile value and then we give the alias median_follower_count:\n",
    "median_followers_joined_date_df = temp_df5.groupBy(\"joined_year\").agg(expr(\"percentile_approx(follower_count, 0.5)\").alias(\"median_follower_count\"))\n",
    "\n",
    "# Showing resulting df:\n",
    "median_followers_joined_date_df.display()"
   ]
  },
  {
   "cell_type": "code",
   "execution_count": 0,
   "metadata": {
    "application/vnd.databricks.v1+cell": {
     "cellMetadata": {
      "byteLimit": 2048000,
      "rowLimit": 10000
     },
     "inputWidgets": {},
     "nuid": "879ed861-af44-415f-b7df-e323a3617f3d",
     "showTitle": false,
     "title": ""
    }
   },
   "outputs": [
    {
     "output_type": "display_data",
     "data": {
      "text/html": [
       "<style scoped>\n",
       "  .table-result-container {\n",
       "    max-height: 300px;\n",
       "    overflow: auto;\n",
       "  }\n",
       "  table, th, td {\n",
       "    border: 1px solid black;\n",
       "    border-collapse: collapse;\n",
       "  }\n",
       "  th, td {\n",
       "    padding: 5px;\n",
       "  }\n",
       "  th {\n",
       "    text-align: left;\n",
       "  }\n",
       "</style><div class='table-result-container'><table class='table-result'><thead style='background-color: white'><tr><th>age_group</th><th>joined_year</th><th>median_follower_count</th></tr></thead><tbody><tr><td>25-35</td><td>2015</td><td>44000</td></tr><tr><td>18-24</td><td>2015</td><td>228000</td></tr><tr><td>50+</td><td>2015</td><td>14000</td></tr><tr><td>36-50</td><td>2015</td><td>13000</td></tr><tr><td>50+</td><td>2016</td><td>908</td></tr><tr><td>25-35</td><td>2016</td><td>22000</td></tr><tr><td>36-50</td><td>2016</td><td>8000</td></tr><tr><td>18-24</td><td>2016</td><td>46000</td></tr><tr><td>25-35</td><td>2017</td><td>2000</td></tr><tr><td>50+</td><td>2017</td><td>1000</td></tr><tr><td>18-24</td><td>2017</td><td>11000</td></tr><tr><td>36-50</td><td>2017</td><td>3000</td></tr></tbody></table></div>"
      ]
     },
     "metadata": {
      "application/vnd.databricks.v1+output": {
       "addedWidgets": {},
       "aggData": [],
       "aggError": "",
       "aggOverflow": false,
       "aggSchema": [],
       "aggSeriesLimitReached": false,
       "aggType": "",
       "arguments": {},
       "columnCustomDisplayInfos": {},
       "data": [
        [
         "25-35",
         2015,
         44000
        ],
        [
         "18-24",
         2015,
         228000
        ],
        [
         "50+",
         2015,
         14000
        ],
        [
         "36-50",
         2015,
         13000
        ],
        [
         "50+",
         2016,
         908
        ],
        [
         "25-35",
         2016,
         22000
        ],
        [
         "36-50",
         2016,
         8000
        ],
        [
         "18-24",
         2016,
         46000
        ],
        [
         "25-35",
         2017,
         2000
        ],
        [
         "50+",
         2017,
         1000
        ],
        [
         "18-24",
         2017,
         11000
        ],
        [
         "36-50",
         2017,
         3000
        ]
       ],
       "datasetInfos": [],
       "dbfsResultPath": null,
       "isJsonSchema": true,
       "metadata": {},
       "overflow": false,
       "plotOptions": {
        "customPlotOptions": {},
        "displayType": "table",
        "pivotAggregation": null,
        "pivotColumns": null,
        "xColumns": null,
        "yColumns": null
       },
       "removedWidgets": [],
       "schema": [
        {
         "metadata": "{}",
         "name": "age_group",
         "type": "\"string\""
        },
        {
         "metadata": "{}",
         "name": "joined_year",
         "type": "\"integer\""
        },
        {
         "metadata": "{}",
         "name": "median_follower_count",
         "type": "\"integer\""
        }
       ],
       "type": "table"
      }
     },
     "output_type": "display_data"
    }
   ],
   "source": [
    "# Finding the median follower count of users based on their age group and joining year:\n",
    "\n",
    "# # Defining the age groups that are required in a new column:\n",
    "# temp_user_df = df_user_0e1f6d6285c1.withColumn(\n",
    "#     \"age_group\",\n",
    "#     (when((col(\"age\") >= 18) & (col(\"age\") <= 24), \"18-24\")\n",
    "#      .when((col(\"age\") >= 25) & (col(\"age\") <= 35), \"25-35\")\n",
    "#      .when((col(\"age\") >= 36) & (col(\"age\") <= 50), \"36-50\")\n",
    "#      .when(col(\"age\") > 50, \"50+\")\n",
    "#      .otherwise(\"unknown age\"))\n",
    "# )\n",
    "\n",
    "# Can use the above temp df already created for age groups, now need to create a column for joined year:\n",
    "temp_user_df2 = temp_user_df.withColumn(\"joined_year\", year(\"date_joined\"))\n",
    "\n",
    "# Joining the temp user df to the pins dataframe:\n",
    "temp_df6 = temp_user_df2.join(df_pin_0e1f6d6285c1, on = [\"ind\"])\n",
    "\n",
    "# Using the 'percentile_approx' function from SQL (using the 'expr') we can do this simply by grouping by the age_group & joined_year and then finding the median follower count for this grouping, which is equivalent to the 50th percentile value and then we give the alias median_follower_count:\n",
    "median_followers_age_group_joined_date_df = temp_df6.groupBy(\"age_group\", \"joined_year\").agg(expr(\"percentile_approx(follower_count, 0.5)\").alias(\"median_follower_count\"))\n",
    "\n",
    "# Showing result:\n",
    "median_followers_age_group_joined_date_df.orderBy(\"joined_year\").display()"
   ]
  },
  {
   "cell_type": "markdown",
   "metadata": {
    "application/vnd.databricks.v1+cell": {
     "cellMetadata": {},
     "inputWidgets": {},
     "nuid": "fe406d39-3774-4100-895a-8fc2e1146ff7",
     "showTitle": false,
     "title": ""
    }
   },
   "source": [
    "# Unmount S3 bucket\n",
    "\n",
    "Finally, we can unmount the S3 bucket from Databricks. However, this step is not necessary as the mounted S3 bucket will add more data in batches to the S3 bucket and in turn to the Spark dataframes on Databricks."
   ]
  },
  {
   "cell_type": "code",
   "execution_count": 0,
   "metadata": {
    "application/vnd.databricks.v1+cell": {
     "cellMetadata": {
      "byteLimit": 2048000,
      "rowLimit": 10000
     },
     "inputWidgets": {},
     "nuid": "4dafe513-1025-4457-8c71-0ae3da76eb60",
     "showTitle": false,
     "title": ""
    }
   },
   "outputs": [
    {
     "output_type": "display_data",
     "data": {
      "text/html": [
       "<style scoped>\n",
       "  .ansiout {\n",
       "    display: block;\n",
       "    unicode-bidi: embed;\n",
       "    white-space: pre-wrap;\n",
       "    word-wrap: break-word;\n",
       "    word-break: break-all;\n",
       "    font-family: \"Menlo\", \"Monaco\", \"Consolas\", \"Ubuntu Mono\", \"Source Code Pro\", monospace;\n",
       "    font-size: 13px;\n",
       "    color: #555;\n",
       "    margin-left: 4px;\n",
       "    line-height: 19px;\n",
       "  }\n",
       "</style>\n",
       "<div class=\"ansiout\">/mnt/pinterest_project1 has been unmounted.\n",
       "Out[213]: True</div>"
      ]
     },
     "metadata": {
      "application/vnd.databricks.v1+output": {
       "addedWidgets": {},
       "arguments": {},
       "data": "<div class=\"ansiout\">/mnt/pinterest_project1 has been unmounted.\nOut[213]: True</div>",
       "datasetInfos": [],
       "metadata": {},
       "removedWidgets": [],
       "type": "html"
      }
     },
     "output_type": "display_data"
    }
   ],
   "source": [
    "# # To unmount the S3 bucket from Databricks:\n",
    "dbutils.fs.unmount(\"/mnt/pinterest_project1\")"
   ]
  },
  {
   "cell_type": "code",
   "execution_count": 0,
   "metadata": {
    "application/vnd.databricks.v1+cell": {
     "cellMetadata": {},
     "inputWidgets": {},
     "nuid": "b635ecc9-485c-4c1d-baf2-6002b23e757d",
     "showTitle": false,
     "title": ""
    }
   },
   "outputs": [],
   "source": []
  }
 ],
 "metadata": {
  "application/vnd.databricks.v1+notebook": {
   "dashboards": [],
   "language": "python",
   "notebookMetadata": {
    "mostRecentlyExecutedCommandWithImplicitDF": {
     "commandId": 3842174365899596,
     "dataframes": [
      "_sqldf"
     ]
    },
    "pythonIndentUnit": 4
   },
   "notebookName": "Batch_Data_Processing",
   "widgets": {}
  }
 },
 "nbformat": 4,
 "nbformat_minor": 0
}
